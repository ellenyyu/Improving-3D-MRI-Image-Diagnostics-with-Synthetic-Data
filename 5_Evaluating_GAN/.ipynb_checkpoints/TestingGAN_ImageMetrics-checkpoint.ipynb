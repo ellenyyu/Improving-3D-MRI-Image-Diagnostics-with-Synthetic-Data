{
 "cells": [
  {
   "cell_type": "markdown",
   "metadata": {},
   "source": [
    "### Coding GAN evaluation metrics\n"
   ]
  },
  {
   "cell_type": "markdown",
   "metadata": {},
   "source": [
    "#### peak signal-to-noise ratio (PSNR)\n",
    "\n",
    "- https://www.google.com/search?q=No+module+named+%27cv2%27&rlz=1C5CHFA_enUS767US767&oq=No+module+named+%27cv2%27&aqs=chrome..69i57j0i512l9.696j0j7&sourceid=chrome&ie=UTF-8\n",
    "\n",
    "- https://towardsdatascience.com/measuring-similarity-in-two-images-using-python-b72233eb53c6\n",
    "\n",
    "    - https://pypi.org/project/sewar/"
   ]
  },
  {
   "cell_type": "code",
   "execution_count": 1,
   "metadata": {},
   "outputs": [],
   "source": [
    "#!pip install opencv-python"
   ]
  },
  {
   "cell_type": "markdown",
   "metadata": {},
   "source": [
    "__This implementation is on png files__"
   ]
  },
  {
   "cell_type": "code",
   "execution_count": 2,
   "metadata": {},
   "outputs": [],
   "source": [
    "from math import log10, sqrt\n",
    "import cv2\n",
    "import numpy as np\n",
    "  \n",
    "def PSNR(original, compressed):\n",
    "    mse = np.mean((original - compressed) ** 2)\n",
    "    if(mse == 0):  # MSE is zero means no noise is present in the signal .\n",
    "                  # Therefore PSNR have no importance.\n",
    "        return 100\n",
    "    max_pixel = 255.0\n",
    "    psnr = 20 * log10(max_pixel / sqrt(mse))\n",
    "    return psnr"
   ]
  },
  {
   "cell_type": "code",
   "execution_count": 3,
   "metadata": {},
   "outputs": [
    {
     "name": "stdout",
     "output_type": "stream",
     "text": [
      "PSNR value is 100 dB\n",
      "PSNR value is 31.376337609605702 dB\n",
      "PSNR value is 31.376337609605702 dB\n",
      "PSNR value is 100 dB\n"
     ]
    }
   ],
   "source": [
    "#female case\n",
    "Actual = cv2.imread(\"Actual_femalecase.png\")\n",
    "GAN1 = cv2.imread(\"GAN1_femalecase_Edited.png\", 1) #Adjusted size to match those of the Actual image\n",
    "GAN2 = cv2.imread(\"GAN1_femalecase_Edited.png\", 1) \n",
    "\n",
    "value = PSNR(Actual, Actual) # Ideal case\n",
    "print(f\"PSNR value is {value} dB\")\n",
    "\n",
    "value = PSNR(Actual, GAN1)\n",
    "print(f\"PSNR value is {value} dB\")\n",
    "\n",
    "value = PSNR(Actual, GAN2)\n",
    "print(f\"PSNR value is {value} dB\")\n",
    "\n",
    "value = PSNR(GAN1, GAN2)\n",
    "print(f\"PSNR value is {value} dB\")"
   ]
  },
  {
   "cell_type": "code",
   "execution_count": 4,
   "metadata": {},
   "outputs": [
    {
     "name": "stdout",
     "output_type": "stream",
     "text": [
      "PSNR value is 100 dB\n",
      "PSNR value is 31.288336133525977 dB\n",
      "PSNR value is 31.288336133525977 dB\n",
      "PSNR value is 100 dB\n"
     ]
    }
   ],
   "source": [
    "# male case \n",
    "Actual = cv2.imread(\"Actual_malecase.png\")\n",
    "GAN1 = cv2.imread(\"GAN1_malecase_Edited.png\", 1) #Adjusted size to match those of the Actual image\n",
    "GAN2 = cv2.imread(\"GAN1_malecase_Edited.png\", 1) \n",
    "\n",
    "value = PSNR(Actual, Actual) # Ideal case\n",
    "print(f\"PSNR value is {value} dB\")\n",
    "\n",
    "value = PSNR(Actual, GAN1)\n",
    "print(f\"PSNR value is {value} dB\")\n",
    "\n",
    "value = PSNR(Actual, GAN2)\n",
    "print(f\"PSNR value is {value} dB\")\n",
    "\n",
    "value = PSNR(GAN1, GAN2)\n",
    "print(f\"PSNR value is {value} dB\")"
   ]
  },
  {
   "cell_type": "markdown",
   "metadata": {},
   "source": [
    "__Test on np array data__"
   ]
  },
  {
   "cell_type": "markdown",
   "metadata": {},
   "source": [
    "__sewar package implementation__"
   ]
  },
  {
   "cell_type": "code",
   "execution_count": 5,
   "metadata": {},
   "outputs": [],
   "source": [
    "from sewar.full_ref import psnr"
   ]
  },
  {
   "cell_type": "code",
   "execution_count": 6,
   "metadata": {},
   "outputs": [
    {
     "name": "stdout",
     "output_type": "stream",
     "text": [
      "PSNR:  inf\n",
      "PSNR:  9.08872883599591\n",
      "PSNR:  9.08872883599591\n",
      "PSNR:  inf\n"
     ]
    }
   ],
   "source": [
    "#female case\n",
    "Actual = cv2.imread(\"Actual_femalecase.png\")\n",
    "GAN1 = cv2.imread(\"GAN1_femalecase_Edited.png\", 1) #Adjusted size to match those of the Actual image\n",
    "GAN2 = cv2.imread(\"GAN1_femalecase_Edited.png\", 1) #Adjusted size to match those of the Actual image\n",
    "\n",
    "\n",
    "print(\"PSNR: \", psnr(Actual, Actual)) #Ideal case\n",
    "print(\"PSNR: \", psnr(Actual, GAN1))\n",
    "print(\"PSNR: \", psnr(Actual, GAN2))\n",
    "print(\"PSNR: \", psnr(GAN1, GAN2))"
   ]
  },
  {
   "cell_type": "code",
   "execution_count": 7,
   "metadata": {},
   "outputs": [
    {
     "name": "stdout",
     "output_type": "stream",
     "text": [
      "PSNR:  inf\n",
      "PSNR:  9.400502791410034\n",
      "PSNR:  9.400502791410034\n",
      "PSNR:  inf\n"
     ]
    }
   ],
   "source": [
    "#male case\n",
    "Actual = cv2.imread(\"Actual_malecase.png\")\n",
    "GAN1 = cv2.imread(\"GAN1_malecase_Edited.png\", 1) #Adjusted size to match those of the Actual image\n",
    "GAN2 = cv2.imread(\"GAN1_malecase_Edited.png\", 1) #Adjusted size to match those of the Actual image\n",
    "\n",
    "\n",
    "print(\"PSNR: \", psnr(Actual, Actual)) #Ideal case\n",
    "print(\"PSNR: \", psnr(Actual, GAN1))\n",
    "print(\"PSNR: \", psnr(Actual, GAN2))\n",
    "print(\"PSNR: \", psnr(GAN1, GAN2))"
   ]
  },
  {
   "cell_type": "markdown",
   "metadata": {},
   "source": [
    "### structural similarity index measure\n",
    "\n",
    "- https://cvnote.ddlee.cc/2019/09/12/psnr-ssim-python\n",
    "\n",
    "- https://towardsdatascience.com/measuring-similarity-in-two-images-using-python-b72233eb53c6\n",
    "\n",
    "    - https://pypi.org/project/sewar/"
   ]
  },
  {
   "cell_type": "code",
   "execution_count": 8,
   "metadata": {},
   "outputs": [],
   "source": [
    "#!pip install sewar"
   ]
  },
  {
   "cell_type": "markdown",
   "metadata": {},
   "source": [
    "__implementation 1__"
   ]
  },
  {
   "cell_type": "code",
   "execution_count": 9,
   "metadata": {},
   "outputs": [],
   "source": [
    "import math\n",
    "import numpy as np\n",
    "import cv2\n",
    "\n",
    "def ssim(img1, img2):\n",
    "    C1 = (0.01 * 255)**2\n",
    "    C2 = (0.03 * 255)**2\n",
    "\n",
    "    img1 = img1.astype(np.float64)\n",
    "    img2 = img2.astype(np.float64)\n",
    "    kernel = cv2.getGaussianKernel(11, 1.5)\n",
    "    window = np.outer(kernel, kernel.transpose())\n",
    "\n",
    "    mu1 = cv2.filter2D(img1, -1, window)[5:-5, 5:-5]  # valid\n",
    "    mu2 = cv2.filter2D(img2, -1, window)[5:-5, 5:-5]\n",
    "    mu1_sq = mu1**2\n",
    "    mu2_sq = mu2**2\n",
    "    mu1_mu2 = mu1 * mu2\n",
    "    sigma1_sq = cv2.filter2D(img1**2, -1, window)[5:-5, 5:-5] - mu1_sq\n",
    "    sigma2_sq = cv2.filter2D(img2**2, -1, window)[5:-5, 5:-5] - mu2_sq\n",
    "    sigma12 = cv2.filter2D(img1 * img2, -1, window)[5:-5, 5:-5] - mu1_mu2\n",
    "\n",
    "    ssim_map = ((2 * mu1_mu2 + C1) * (2 * sigma12 + C2)) / ((mu1_sq + mu2_sq + C1) *\n",
    "                                                            (sigma1_sq + sigma2_sq + C2))\n",
    "    return ssim_map.mean()\n",
    "\n",
    "\n",
    "def calculate_ssim(img1, img2):\n",
    "    '''calculate SSIM\n",
    "    the same outputs as MATLAB's\n",
    "    img1, img2: [0, 255]\n",
    "    '''\n",
    "    if not img1.shape == img2.shape:\n",
    "        raise ValueError('Input images must have the same dimensions.')\n",
    "    if img1.ndim == 2:\n",
    "        return ssim(img1, img2)\n",
    "    elif img1.ndim == 3:\n",
    "        if img1.shape[2] == 3:\n",
    "            ssims = []\n",
    "            for i in range(3):\n",
    "                ssims.append(ssim(img1, img2))\n",
    "            return np.array(ssims).mean()\n",
    "        elif img1.shape[2] == 1:\n",
    "            return ssim(np.squeeze(img1), np.squeeze(img2))\n",
    "    else:\n",
    "        raise ValueError('Wrong input image dimensions.')"
   ]
  },
  {
   "cell_type": "code",
   "execution_count": 10,
   "metadata": {},
   "outputs": [
    {
     "name": "stdout",
     "output_type": "stream",
     "text": [
      "SSIM:  1.0\n",
      "SSIM:  0.5787153116150686\n",
      "SSIM:  0.5787153116150686\n",
      "SSIM:  1.0\n"
     ]
    }
   ],
   "source": [
    "#female cases\n",
    "Actual = cv2.imread(\"Actual_femalecase.png\")\n",
    "GAN1 = cv2.imread(\"GAN1_femalecase_Edited.png\", 1) #Adjusted size to match those of the Actual image\n",
    "GAN2 = cv2.imread(\"GAN1_femalecase_Edited.png\", 1) #Adjusted size to match those of the Actual image\n",
    "\n",
    "\n",
    "print(\"SSIM: \", calculate_ssim(Actual, Actual)) #Ideal case\n",
    "print(\"SSIM: \", calculate_ssim(Actual, GAN1))\n",
    "print(\"SSIM: \", calculate_ssim(Actual, GAN2))\n",
    "print(\"SSIM: \", calculate_ssim(GAN1, GAN2))"
   ]
  },
  {
   "cell_type": "code",
   "execution_count": 11,
   "metadata": {},
   "outputs": [
    {
     "name": "stdout",
     "output_type": "stream",
     "text": [
      "SSIM:  1.0\n",
      "SSIM:  0.5787153116150686\n",
      "SSIM:  0.5787153116150686\n",
      "SSIM:  1.0\n"
     ]
    }
   ],
   "source": [
    "#male cases\n",
    "Actual = cv2.imread(\"Actual_femalecase.png\")\n",
    "GAN1 = cv2.imread(\"GAN1_femalecase_Edited.png\", 1) #Adjusted size to match those of the Actual image\n",
    "GAN2 = cv2.imread(\"GAN1_femalecase_Edited.png\", 1) #Adjusted size to match those of the Actual image\n",
    "\n",
    "\n",
    "print(\"SSIM: \", calculate_ssim(Actual, Actual)) #Ideal case\n",
    "print(\"SSIM: \", calculate_ssim(Actual, GAN1))\n",
    "print(\"SSIM: \", calculate_ssim(Actual, GAN2))\n",
    "print(\"SSIM: \", calculate_ssim(GAN1, GAN2))"
   ]
  },
  {
   "cell_type": "markdown",
   "metadata": {},
   "source": [
    "__sewar package implementation__"
   ]
  },
  {
   "cell_type": "code",
   "execution_count": 12,
   "metadata": {},
   "outputs": [],
   "source": [
    "from sewar.full_ref import ssim"
   ]
  },
  {
   "cell_type": "code",
   "execution_count": 13,
   "metadata": {},
   "outputs": [
    {
     "name": "stdout",
     "output_type": "stream",
     "text": [
      "SSIM:  (1.0, 1.0)\n",
      "SSIM:  (0.5308371323819001, 0.586050385254203)\n",
      "SSIM:  (0.5308371323819001, 0.586050385254203)\n",
      "SSIM:  (1.0, 1.0)\n"
     ]
    }
   ],
   "source": [
    "#female case\n",
    "Actual = cv2.imread(\"Actual_femalecase.png\")\n",
    "GAN1 = cv2.imread(\"GAN1_femalecase_Edited.png\", 1) #Adjusted size to match those of the Actual image\n",
    "GAN2 = cv2.imread(\"GAN1_femalecase_Edited.png\", 1) #Adjusted size to match those of the Actual image\n",
    "\n",
    "\n",
    "print(\"SSIM: \", ssim(Actual, Actual)) #Ideal case\n",
    "print(\"SSIM: \", ssim(Actual, GAN1))\n",
    "print(\"SSIM: \", ssim(Actual, GAN2))\n",
    "print(\"SSIM: \", ssim(GAN1, GAN2))"
   ]
  },
  {
   "cell_type": "code",
   "execution_count": 14,
   "metadata": {},
   "outputs": [
    {
     "name": "stdout",
     "output_type": "stream",
     "text": [
      "SSIM:  (1.0, 1.0)\n",
      "SSIM:  (0.5308371323819001, 0.586050385254203)\n",
      "SSIM:  (0.5308371323819001, 0.586050385254203)\n",
      "SSIM:  (1.0, 1.0)\n"
     ]
    }
   ],
   "source": [
    "#male case \n",
    "Actual = cv2.imread(\"Actual_femalecase.png\")\n",
    "GAN1 = cv2.imread(\"GAN1_femalecase_Edited.png\", 1) #Adjusted size to match those of the Actual image\n",
    "GAN2 = cv2.imread(\"GAN1_femalecase_Edited.png\", 1) #Adjusted size to match those of the Actual image\n",
    "\n",
    "print(\"SSIM: \", ssim(Actual, Actual)) #Ideal case\n",
    "print(\"SSIM: \", ssim(Actual, GAN1))\n",
    "print(\"SSIM: \", ssim(Actual, GAN2))\n",
    "print(\"SSIM: \", ssim(GAN1, GAN2))"
   ]
  }
 ],
 "metadata": {
  "kernelspec": {
   "display_name": "Python 3",
   "language": "python",
   "name": "python3"
  },
  "language_info": {
   "codemirror_mode": {
    "name": "ipython",
    "version": 3
   },
   "file_extension": ".py",
   "mimetype": "text/x-python",
   "name": "python",
   "nbconvert_exporter": "python",
   "pygments_lexer": "ipython3",
   "version": "3.8.8"
  }
 },
 "nbformat": 4,
 "nbformat_minor": 4
}
