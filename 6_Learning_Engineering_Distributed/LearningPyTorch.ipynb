{
 "cells": [
  {
   "cell_type": "markdown",
   "metadata": {},
   "source": [
    "### PyTorch\n",
    "\n",
    "April 31, 2022\n",
    "\n",
    "Coding up https://www.analyticsvidhya.com/blog/2021/04/a-gentle-introduction-to-pytorch-library/  \n",
    "\n",
    "PyTorch is: \n",
    "- Developed by Facebook AI Research team \n",
    "- built on python and torch library \n",
    "\n",
    "Tensor is: \n",
    "- A funcatmental unit of data "
   ]
  },
  {
   "cell_type": "code",
   "execution_count": 1,
   "metadata": {},
   "outputs": [],
   "source": [
    "import torch "
   ]
  },
  {
   "cell_type": "code",
   "execution_count": 2,
   "metadata": {},
   "outputs": [
    {
     "name": "stdout",
     "output_type": "stream",
     "text": [
      "tensor(5.)\n"
     ]
    }
   ],
   "source": [
    "t1 = torch.tensor(5.)\n",
    "print(t1)"
   ]
  },
  {
   "cell_type": "code",
   "execution_count": 3,
   "metadata": {},
   "outputs": [
    {
     "name": "stdout",
     "output_type": "stream",
     "text": [
      "torch.float32\n"
     ]
    }
   ],
   "source": [
    "print(t1.dtype)"
   ]
  }
 ],
 "metadata": {
  "kernelspec": {
   "display_name": "AMPTorch 0.1",
   "language": "python",
   "name": "amptorch-0.1"
  },
  "language_info": {
   "codemirror_mode": {
    "name": "ipython",
    "version": 3
   },
   "file_extension": ".py",
   "mimetype": "text/x-python",
   "name": "python",
   "nbconvert_exporter": "python",
   "pygments_lexer": "ipython3",
   "version": "3.7.10"
  }
 },
 "nbformat": 4,
 "nbformat_minor": 4
}
