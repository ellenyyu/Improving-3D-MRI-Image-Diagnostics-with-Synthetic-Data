{
 "cells": [
  {
   "cell_type": "markdown",
   "metadata": {},
   "source": [
    "# 3.1 Baseline Model"
   ]
  },
  {
   "cell_type": "code",
   "execution_count": 1,
   "metadata": {},
   "outputs": [],
   "source": [
    "#!pip install nibabel\n",
    "import nibabel as nib\n",
    "import numpy as np\n",
    "import glob\n",
    "import sys\n",
    "import sklearn\n",
    "import os\n",
    "import numpy as np\n",
    "import matplotlib as mpl\n",
    "import matplotlib.pyplot as plt\n",
    "from functools import partial\n",
    "import PIL\n",
    "import PIL.Image\n",
    "import pandas as pd\n",
    "\n",
    "import tensorflow as tf\n",
    "from tensorflow import keras\n",
    "from tensorflow.keras import layers\n",
    "from sklearn.model_selection import train_test_split\n",
    "\n",
    "np.random.seed(42) # note that you must use the same seed to ensure consistentcy in your training/validation/testing\n",
    "tf.random.set_seed(42)"
   ]
  },
  {
   "cell_type": "code",
   "execution_count": 2,
   "metadata": {},
   "outputs": [],
   "source": [
    "df = pd.read_csv('/project/ds6050-soa2wg/team_lambda_II/ASD_DSM_CasesvsControls.csv', sep = ',')"
   ]
  },
  {
   "cell_type": "code",
   "execution_count": 3,
   "metadata": {},
   "outputs": [
    {
     "name": "stdout",
     "output_type": "stream",
     "text": [
      "There are 22 female cases\n",
      "---------------------------------------\n",
      "There are 61 female controls\n",
      "---------------------------------------\n",
      "There are 124 male cases\n",
      "---------------------------------------\n",
      "There are 184 male controls\n",
      "---------------------------------------\n",
      "There are 146 total cases and 245 total controls! 391 participants in total\n"
     ]
    }
   ],
   "source": [
    "# obtain paths for all images\n",
    "images_paths_f_case = list(df.query(\"SEX_ == 'Female' & DX_Control == 'Autism'\")['PATH'])\n",
    "images_paths_f_control = list(df.query(\"SEX_ == 'Female' & DX_Control == 'Control'\")['PATH'])\n",
    "images_paths_m_case = list(df.query(\"SEX_ == 'Male' & DX_Control == 'Autism'\")['PATH'])\n",
    "images_paths_m_control = list(df.query(\"SEX_ == 'Male' & DX_Control == 'Control'\")['PATH'])\n",
    "\n",
    "total_cases = len(images_paths_f_case) + len(images_paths_m_case)\n",
    "total_controls = len(images_paths_f_control ) + len(images_paths_m_control)\n",
    "# print out number of participants per category\n",
    "print('There are {} female cases'.format(str(len(images_paths_f_case))))\n",
    "print('---------------------------------------')\n",
    "print('There are {} female controls'.format(str(len(images_paths_f_control))))\n",
    "print('---------------------------------------')\n",
    "print('There are {} male cases'.format(str(len(images_paths_m_case))))\n",
    "print('---------------------------------------')\n",
    "print('There are {} male controls'.format(str(len(images_paths_m_control))))\n",
    "print('---------------------------------------')\n",
    "print(f'There are {total_cases} total cases and {total_controls} total controls! {total_controls + total_cases} participants in total')\n",
    "# make one giant list\n",
    "images_paths = images_paths_f_case  + images_paths_f_control + images_paths_m_case + images_paths_m_control\n",
    "\n",
    "num_im = len(images_paths)\n",
    "image_array = []"
   ]
  },
  {
   "cell_type": "code",
   "execution_count": 4,
   "metadata": {},
   "outputs": [],
   "source": [
    "final_list = [] # create image array from paths\n",
    "for path in images_paths:\n",
    "    try: \n",
    "        img = nib.load(path)\n",
    "        image_data = img.get_fdata()\n",
    "        image_array.append(image_data)\n",
    "        final_list.append(path)\n",
    "    except:\n",
    "        continue\n",
    "    \n",
    "image_array = np.asarray(image_array).astype('float32')"
   ]
  },
  {
   "cell_type": "code",
   "execution_count": 5,
   "metadata": {},
   "outputs": [
    {
     "data": {
      "text/plain": [
       "(391, 61, 73, 61)"
      ]
     },
     "execution_count": 5,
     "metadata": {},
     "output_type": "execute_result"
    }
   ],
   "source": [
    "image_array.shape"
   ]
  },
  {
   "cell_type": "code",
   "execution_count": 6,
   "metadata": {},
   "outputs": [],
   "source": [
    "# load GAN data\n",
    "gan_data_m = np.load('/project/ds6050-soa2wg/team_lambda_II/gan_pos_female_ep500_cs3000_si50.npy')\n",
    "gan_data_f = np.load('/project/ds6050-soa2wg/team_lambda_II/gan_pos_male_ep500_cs3000_si50.npy')"
   ]
  },
  {
   "cell_type": "code",
   "execution_count": 7,
   "metadata": {},
   "outputs": [
    {
     "data": {
      "text/plain": [
       "(50, 61, 73, 61)"
      ]
     },
     "execution_count": 7,
     "metadata": {},
     "output_type": "execute_result"
    }
   ],
   "source": [
    "gan_data_m.shape"
   ]
  },
  {
   "cell_type": "code",
   "execution_count": 8,
   "metadata": {},
   "outputs": [
    {
     "data": {
      "text/plain": [
       "(50, 61, 73, 61)"
      ]
     },
     "execution_count": 8,
     "metadata": {},
     "output_type": "execute_result"
    }
   ],
   "source": [
    "gan_data_f.shape"
   ]
  },
  {
   "cell_type": "code",
   "execution_count": 9,
   "metadata": {},
   "outputs": [],
   "source": [
    "gan_data_cases = np.concatenate((gan_data_f, gan_data_m))"
   ]
  },
  {
   "cell_type": "code",
   "execution_count": 10,
   "metadata": {},
   "outputs": [
    {
     "data": {
      "text/plain": [
       "(100, 61, 73, 61)"
      ]
     },
     "execution_count": 10,
     "metadata": {},
     "output_type": "execute_result"
    }
   ],
   "source": [
    "gan_data_cases.shape"
   ]
  },
  {
   "cell_type": "code",
   "execution_count": 11,
   "metadata": {},
   "outputs": [],
   "source": [
    "image_array = np.vstack((image_array,gan_data_cases)) "
   ]
  },
  {
   "cell_type": "code",
   "execution_count": 12,
   "metadata": {},
   "outputs": [
    {
     "data": {
      "text/plain": [
       "(491, 61, 73, 61)"
      ]
     },
     "execution_count": 12,
     "metadata": {},
     "output_type": "execute_result"
    }
   ],
   "source": [
    "image_array.shape"
   ]
  },
  {
   "cell_type": "code",
   "execution_count": 13,
   "metadata": {},
   "outputs": [
    {
     "data": {
      "text/plain": [
       "2    245\n",
       "1    146\n",
       "Name: DX_GROUP, dtype: int64"
      ]
     },
     "execution_count": 13,
     "metadata": {},
     "output_type": "execute_result"
    }
   ],
   "source": [
    "pheno = df[['FILE_ID', 'DX_GROUP']]\n",
    "pheno_array = np.array(pheno['DX_GROUP'])\n",
    "pheno_array = np.where(pheno_array == 2, 0, pheno_array)\n",
    "# distribution\n",
    "df['DX_GROUP'].value_counts()"
   ]
  },
  {
   "cell_type": "code",
   "execution_count": 14,
   "metadata": {},
   "outputs": [],
   "source": [
    "# gan_pheno\n",
    "gan_pheno_cases = np.ones((gan_data_cases.shape[0],), dtype=int)\n",
    "#gan_pheno_control = np.zeros((123,), dtype=int)\n",
    "\n",
    "# merge cases + control pheno\n",
    "#gan_pheno = np.concatenate((gan_pheno_cases,gan_pheno_control))\n",
    "# append to pheno_array\n",
    "all_pheno = np.concatenate((pheno_array, gan_pheno_cases))"
   ]
  },
  {
   "cell_type": "code",
   "execution_count": 15,
   "metadata": {},
   "outputs": [
    {
     "data": {
      "text/plain": [
       "array([1, 1, 1, 1, 1, 1, 1, 1, 1, 1, 0, 0, 0, 0, 0, 0, 0, 0, 0, 0, 0, 0,\n",
       "       1, 1, 1, 1, 1, 1, 1, 1, 1, 1, 1, 1, 1, 1, 1, 1, 1, 1, 1, 1, 1, 1,\n",
       "       1, 1, 1, 1, 1, 1, 1, 1, 1, 0, 0, 0, 0, 0, 0, 0, 0, 0, 0, 0, 0, 0,\n",
       "       0, 0, 0, 0, 0, 0, 0, 0, 0, 0, 0, 0, 0, 0, 0, 0, 0, 0, 0, 0, 0, 0,\n",
       "       0, 0, 0, 0, 0, 0, 0, 0, 0, 0, 0, 0, 0, 0, 0, 1, 1, 1, 1, 1, 1, 1,\n",
       "       1, 1, 1, 0, 0, 0, 0, 0, 0, 0, 0, 0, 0, 0, 0, 0, 0, 0, 0, 0, 0, 0,\n",
       "       0, 0, 0, 0, 0, 0, 0, 0, 0, 0, 0, 0, 0, 0, 0, 0, 0, 0, 0, 1, 1, 1,\n",
       "       1, 1, 0, 0, 0, 0, 0, 0, 0, 0, 0, 0, 0, 0, 0, 0, 0, 0, 0, 0, 0, 1,\n",
       "       1, 1, 1, 1, 1, 1, 1, 1, 1, 1, 1, 1, 0, 0, 0, 0, 0, 0, 0, 0, 0, 0,\n",
       "       0, 0, 0, 0, 0, 0, 0, 0, 1, 1, 1, 1, 1, 0, 0, 0, 0, 0, 0, 0, 0, 0,\n",
       "       1, 1, 1, 1, 1, 1, 1, 1, 1, 1, 1, 1, 1, 1, 1, 1, 1, 1, 1, 1, 1, 1,\n",
       "       1, 1, 1, 1, 1, 1, 1, 1, 1, 1, 1, 1, 1, 1, 1, 1, 1, 1, 1, 1, 1, 1,\n",
       "       0, 0, 0, 0, 0, 0, 0, 0, 0, 0, 0, 0, 0, 0, 0, 0, 0, 0, 0, 0, 0, 0,\n",
       "       0, 0, 0, 0, 0, 0, 0, 0, 0, 0, 0, 0, 0, 0, 0, 0, 0, 0, 0, 0, 0, 0,\n",
       "       0, 0, 0, 0, 0, 0, 0, 0, 0, 0, 0, 0, 0, 0, 0, 0, 0, 0, 0, 0, 0, 0,\n",
       "       0, 0, 0, 0, 1, 1, 1, 1, 1, 1, 1, 1, 1, 1, 1, 1, 1, 1, 1, 1, 1, 1,\n",
       "       1, 1, 1, 1, 1, 1, 1, 1, 1, 1, 0, 0, 0, 0, 0, 0, 0, 0, 0, 0, 0, 0,\n",
       "       0, 0, 0, 0, 0, 0, 0, 0, 0, 0, 0, 0, 0, 0, 0, 0, 0, 1, 1, 1, 1, 1,\n",
       "       1, 1, 1, 1, 1, 1, 1, 1, 1, 1, 1, 1, 1, 1, 1, 1, 1, 1, 1, 1, 1, 1,\n",
       "       1, 1, 1, 1, 1, 1, 1, 1, 1, 1, 1, 1, 1, 1, 1, 1, 1, 1, 1, 1, 1, 1,\n",
       "       1, 1, 1, 1, 1, 1, 1, 1, 1, 1, 1, 1, 1, 1, 1, 1, 1, 1, 1, 1, 1, 1,\n",
       "       1, 1, 1, 1, 1, 1, 1, 1, 1, 1, 1, 1, 1, 1, 1, 1, 1, 1, 1, 1, 1, 1,\n",
       "       1, 1, 1, 1, 1, 1, 1])"
      ]
     },
     "execution_count": 15,
     "metadata": {},
     "output_type": "execute_result"
    }
   ],
   "source": [
    "all_pheno"
   ]
  },
  {
   "cell_type": "code",
   "execution_count": 20,
   "metadata": {},
   "outputs": [],
   "source": [
    "#training and holdout split\n",
    "x_train, x_val, y_train, y_val = train_test_split(image_array, all_pheno, test_size = 0.15, random_state = 654)\n",
    "\n",
    "#training and testing split\n",
    "x_train, x_test, y_train, y_test = train_test_split(x_train, y_train, test_size = 0.25, random_state = 654)"
   ]
  },
  {
   "cell_type": "code",
   "execution_count": 21,
   "metadata": {},
   "outputs": [
    {
     "data": {
      "text/plain": [
       "<matplotlib.image.AxesImage at 0x7f27d4bc8400>"
      ]
     },
     "execution_count": 21,
     "metadata": {},
     "output_type": "execute_result"
    },
    {
     "data": {
      "image/png": "[encoded data removed]",
      "text/plain": [
       "<Figure size 432x288 with 1 Axes>"
      ]
     },
     "metadata": {
      "needs_background": "light"
     },
     "output_type": "display_data"
    }
   ],
   "source": [
    "plt.imshow(x_train[0][30].T)"
   ]
  },
  {
   "cell_type": "code",
   "execution_count": 22,
   "metadata": {},
   "outputs": [
    {
     "name": "stderr",
     "output_type": "stream",
     "text": [
      "2022-05-03 15:26:25.970202: E tensorflow/stream_executor/cuda/cuda_driver.cc:271] failed call to cuInit: CUDA_ERROR_NO_DEVICE: no CUDA-capable device is detected\n",
      "2022-05-03 15:26:25.970252: I tensorflow/stream_executor/cuda/cuda_diagnostics.cc:156] kernel driver does not appear to be running on this host (udc-aw34-20c1): /proc/driver/nvidia/version does not exist\n",
      "2022-05-03 15:26:25.973408: I tensorflow/core/platform/cpu_feature_guard.cc:151] This TensorFlow binary is optimized with oneAPI Deep Neural Network Library (oneDNN) to use the following CPU instructions in performance-critical operations:  AVX2 AVX512F FMA\n",
      "To enable them in other operations, rebuild TensorFlow with the appropriate compiler flags.\n"
     ]
    }
   ],
   "source": [
    "# Define data loaders.\n",
    "train_loader = tf.data.Dataset.from_tensor_slices((x_train, y_train))\n",
    "validation_loader = tf.data.Dataset.from_tensor_slices((x_test, y_test))\n",
    "\n",
    "batch_size = 32\n",
    "# Augment the on the fly during training.\n",
    "train_dataset = (\n",
    "    train_loader.shuffle(len(x_train))\n",
    "#     .map(train_preprocessing)\n",
    "    .batch(batch_size)\n",
    "    .prefetch(tf.data.AUTOTUNE)\n",
    ")\n",
    "# Only rescale.\n",
    "validation_dataset = (\n",
    "    validation_loader.shuffle(len(x_test))\n",
    "#    .map(validation_preprocessing)\n",
    "    .batch(batch_size)\n",
    "    .prefetch(tf.data.AUTOTUNE)\n",
    ")"
   ]
  },
  {
   "cell_type": "markdown",
   "metadata": {},
   "source": [
    "Architecture \n",
    "\n",
    "Define a 3D convolutional neural network\n",
    "To make the model easier to understand, we structure it into blocks. The architecture of the 3D CNN used in this example is based on this paper."
   ]
  },
  {
   "cell_type": "code",
   "execution_count": 23,
   "metadata": {},
   "outputs": [
    {
     "name": "stdout",
     "output_type": "stream",
     "text": [
      "Model: \"3dcnn\"\n",
      "_________________________________________________________________\n",
      " Layer (type)                Output Shape              Param #   \n",
      "=================================================================\n",
      " input_1 (InputLayer)        [(None, 61, 73, 61, 1)]   0         \n",
      "                                                                 \n",
      " normalization (Normalizatio  (None, 61, 73, 61, 1)    3         \n",
      " n)                                                              \n",
      "                                                                 \n",
      " conv3d (Conv3D)             (None, 61, 73, 61, 64)    1792      \n",
      "                                                                 \n",
      " max_pooling3d (MaxPooling3D  (None, 30, 36, 30, 64)   0         \n",
      " )                                                               \n",
      "                                                                 \n",
      " batch_normalization (BatchN  (None, 30, 36, 30, 64)   256       \n",
      " ormalization)                                                   \n",
      "                                                                 \n",
      " conv3d_1 (Conv3D)           (None, 30, 36, 30, 64)    110656    \n",
      "                                                                 \n",
      " max_pooling3d_1 (MaxPooling  (None, 15, 18, 15, 64)   0         \n",
      " 3D)                                                             \n",
      "                                                                 \n",
      " batch_normalization_1 (Batc  (None, 15, 18, 15, 64)   256       \n",
      " hNormalization)                                                 \n",
      "                                                                 \n",
      " conv3d_2 (Conv3D)           (None, 15, 18, 15, 128)   221312    \n",
      "                                                                 \n",
      " max_pooling3d_2 (MaxPooling  (None, 7, 9, 7, 128)     0         \n",
      " 3D)                                                             \n",
      "                                                                 \n",
      " batch_normalization_2 (Batc  (None, 7, 9, 7, 128)     512       \n",
      " hNormalization)                                                 \n",
      "                                                                 \n",
      " conv3d_3 (Conv3D)           (None, 7, 9, 7, 128)      442496    \n",
      "                                                                 \n",
      " max_pooling3d_3 (MaxPooling  (None, 3, 4, 3, 128)     0         \n",
      " 3D)                                                             \n",
      "                                                                 \n",
      " batch_normalization_3 (Batc  (None, 3, 4, 3, 128)     512       \n",
      " hNormalization)                                                 \n",
      "                                                                 \n",
      " global_average_pooling3d (G  (None, 128)              0         \n",
      " lobalAveragePooling3D)                                          \n",
      "                                                                 \n",
      " dense (Dense)               (None, 16)                2064      \n",
      "                                                                 \n",
      " dropout (Dropout)           (None, 16)                0         \n",
      "                                                                 \n",
      " dense_1 (Dense)             (None, 1)                 17        \n",
      "                                                                 \n",
      "=================================================================\n",
      "Total params: 779,876\n",
      "Trainable params: 779,105\n",
      "Non-trainable params: 771\n",
      "_________________________________________________________________\n"
     ]
    }
   ],
   "source": [
    "def get_model(width=61, height=73, depth=61):\n",
    "    \"\"\"Build a 3D convolutional neural network model.\"\"\"\n",
    "\n",
    "    inputs = keras.Input((width, height, depth, 1))\n",
    "    \n",
    "    x = layers.Normalization(axis=None)(inputs) #ADDED NORMALIZATION LAYER\n",
    "\n",
    "    x = layers.Conv3D(filters=64, kernel_size=3, activation=\"relu\", padding=\"same\")(x)\n",
    "    x = layers.MaxPool3D(pool_size=2)(x)\n",
    "    x = layers.BatchNormalization()(x)\n",
    "\n",
    "    x = layers.Conv3D(filters=64, kernel_size=3, activation=\"relu\", padding=\"same\")(x)\n",
    "    x = layers.MaxPool3D(pool_size=2)(x)\n",
    "    x = layers.BatchNormalization()(x)\n",
    "\n",
    "    x = layers.Conv3D(filters=128, kernel_size=3, activation=\"relu\", padding=\"same\")(x)\n",
    "    x = layers.MaxPool3D(pool_size=2)(x)\n",
    "    x = layers.BatchNormalization()(x)\n",
    "\n",
    "    x = layers.Conv3D(filters=128, kernel_size=3, activation=\"relu\", padding=\"same\")(x)\n",
    "    x = layers.MaxPool3D(pool_size=2)(x)\n",
    "    x = layers.BatchNormalization()(x)\n",
    "\n",
    "    x = layers.GlobalAveragePooling3D()(x)\n",
    "    x = layers.Dense(units=16, activation=\"relu\")(x)\n",
    "    x = layers.Dropout(0.3)(x)\n",
    "\n",
    "    outputs = layers.Dense(units=1, activation=\"sigmoid\")(x)\n",
    "\n",
    "    # Define the model.\n",
    "    model = keras.Model(inputs, outputs, name=\"3dcnn\")\n",
    "    return model\n",
    "\n",
    "\n",
    "# Build model.\n",
    "model = get_model(width=61, height=73, depth=61)\n",
    "model.summary()"
   ]
  },
  {
   "cell_type": "code",
   "execution_count": null,
   "metadata": {},
   "outputs": [
    {
     "name": "stdout",
     "output_type": "stream",
     "text": [
      "Epoch 1/50\n",
      "10/10 - 651s - loss: 0.5654 - acc: 0.7051 - auc: 0.7444 - val_loss: 0.6005 - val_acc: 0.7429 - val_auc: 0.7886 - 651s/epoch - 65s/step\n",
      "Epoch 2/50\n",
      "10/10 - 662s - loss: 0.4798 - acc: 0.7692 - auc: 0.8087 - val_loss: 0.5882 - val_acc: 0.7238 - val_auc: 0.8302 - 662s/epoch - 66s/step\n",
      "Epoch 3/50\n",
      "10/10 - 619s - loss: 0.4465 - acc: 0.7821 - auc: 0.8453 - val_loss: 0.5175 - val_acc: 0.7429 - val_auc: 0.8306 - 619s/epoch - 62s/step\n",
      "Epoch 4/50\n",
      "10/10 - 612s - loss: 0.4154 - acc: 0.8205 - auc: 0.8837 - val_loss: 0.8084 - val_acc: 0.6476 - val_auc: 0.8353 - 612s/epoch - 61s/step\n",
      "Epoch 5/50\n",
      "10/10 - 657s - loss: 0.4117 - acc: 0.8141 - auc: 0.8789 - val_loss: 0.8686 - val_acc: 0.6476 - val_auc: 0.8423 - 657s/epoch - 66s/step\n",
      "Epoch 6/50\n",
      "10/10 - 754s - loss: 0.4100 - acc: 0.8013 - auc: 0.8862 - val_loss: 0.9355 - val_acc: 0.6476 - val_auc: 0.8346 - 754s/epoch - 75s/step\n",
      "Epoch 7/50\n",
      "10/10 - 806s - loss: 0.3993 - acc: 0.8205 - auc: 0.8986 - val_loss: 0.7000 - val_acc: 0.6476 - val_auc: 0.8496 - 806s/epoch - 81s/step\n",
      "Epoch 8/50\n",
      "10/10 - 820s - loss: 0.3603 - acc: 0.8654 - auc: 0.9245 - val_loss: 0.6765 - val_acc: 0.6476 - val_auc: 0.8554 - 820s/epoch - 82s/step\n",
      "Epoch 9/50\n",
      "10/10 - 693s - loss: 0.3738 - acc: 0.8429 - auc: 0.9044 - val_loss: 0.4798 - val_acc: 0.7905 - val_auc: 0.8635 - 693s/epoch - 69s/step\n",
      "Epoch 10/50\n"
     ]
    }
   ],
   "source": [
    "# Compile model.\n",
    "initial_learning_rate = 0.0001\n",
    "\n",
    "lr_schedule = keras.optimizers.schedules.ExponentialDecay(\n",
    "    initial_learning_rate, decay_steps=10000, decay_rate=0.96, staircase=True\n",
    ")\n",
    "\n",
    "model.compile(\n",
    "    loss=\"binary_crossentropy\",\n",
    "    optimizer=keras.optimizers.Adam(learning_rate=lr_schedule),\n",
    "    metrics=['acc',tf.keras.metrics.AUC()],\n",
    ")\n",
    "\n",
    "# # Define callbacks.\n",
    "# checkpoint_cb = keras.callbacks.ModelCheckpoint(\n",
    "#     \"3d_image_classification_Cxa.h5\", save_best_only=True\n",
    "# )\n",
    "early_stopping_cb = keras.callbacks.EarlyStopping(monitor=\"val_acc\", patience=15)\n",
    "\n",
    "# # Train the model, doing validation at the end of each epoch\n",
    "# epochs = 50\n",
    "# model.fit(\n",
    "#     train_dataset,\n",
    "#     validation_data=validation_dataset,\n",
    "#     epochs=epochs,\n",
    "#     shuffle=True,\n",
    "#     verbose=2,\n",
    "#     callbacks=[checkpoint_cb, early_stopping_cb],\n",
    "# )\n",
    "\n",
    "# Train the model, doing validation at the end of each epoch\n",
    "epochs = 50\n",
    "model.fit(\n",
    "    train_dataset,\n",
    "    validation_data=validation_dataset,\n",
    "    epochs=epochs,\n",
    "    shuffle=True,\n",
    "    verbose=2,\n",
    "    callbacks=[early_stopping_cb],\n",
    ")"
   ]
  },
  {
   "cell_type": "code",
   "execution_count": null,
   "metadata": {},
   "outputs": [],
   "source": [
    "fig, ax = plt.subplots(1, 2, figsize=(20, 3))\n",
    "ax = ax.ravel()\n",
    "\n",
    "for i, metric in enumerate([\"auc_4\", \"loss\"]):\n",
    "    ax[i].plot(model.history.history[metric])\n",
    "    ax[i].plot(model.history.history[\"val_\" + metric])\n",
    "    ax[i].set_title(\"Model {}\".format(metric))\n",
    "    ax[i].set_xlabel(\"epochs\")\n",
    "    ax[i].set_ylabel(metric)\n",
    "    ax[i].legend([\"train\", \"val\"])"
   ]
  },
  {
   "cell_type": "code",
   "execution_count": null,
   "metadata": {},
   "outputs": [],
   "source": [
    "# Load best weights.\n",
    "model.load_weights(\"3d_image_classification_Cxa.h5\")\n",
    "prediction = model.predict(np.expand_dims(x_test[0], axis=0))[0]\n",
    "print(prediction)\n",
    "scores = [1 - prediction[0], prediction[0]]\n",
    "\n",
    "class_names = [\"normal\", \"abnormal\"]\n",
    "for score, name in zip(scores, class_names):\n",
    "    print(\n",
    "        \"This model is %.2f percent confident that CT scan is %s\"\n",
    "        % ((100 * score), name)\n",
    "    )\n",
    "print(y_test[0])"
   ]
  },
  {
   "cell_type": "code",
   "execution_count": null,
   "metadata": {},
   "outputs": [],
   "source": [
    "#proportion of training data that's positive\n",
    "sum(y_train) / len(y_train)\n",
    "\n",
    "#proportion of holdout data that's positive\n",
    "(sum(y_val) / len(y_val))\n",
    "\n",
    "#evaluate on the holdout data\n",
    "model.evaluate(x_val, y_val)"
   ]
  },
  {
   "cell_type": "code",
   "execution_count": null,
   "metadata": {},
   "outputs": [],
   "source": [
    "from sklearn.metrics import classification_report, confusion_matrix\n",
    "\n",
    "preds = model.predict(x_val)\n",
    "\n",
    "preds = np.where(preds > .5, 1,0)\n",
    "\n",
    "\n",
    "\n",
    "print(classification_report(y_val, preds))\n",
    "cm = confusion_matrix(y_val, preds)"
   ]
  },
  {
   "cell_type": "code",
   "execution_count": null,
   "metadata": {},
   "outputs": [],
   "source": []
  }
 ],
 "metadata": {
  "kernelspec": {
   "display_name": "Tensorflow 2.8.0/Keras Py3.9",
   "language": "python",
   "name": "tensorflow-2.8.0"
  },
  "language_info": {
   "codemirror_mode": {
    "name": "ipython",
    "version": 3
   },
   "file_extension": ".py",
   "mimetype": "text/x-python",
   "name": "python",
   "nbconvert_exporter": "python",
   "pygments_lexer": "ipython3",
   "version": "3.9.10"
  }
 },
 "nbformat": 4,
 "nbformat_minor": 4
}
