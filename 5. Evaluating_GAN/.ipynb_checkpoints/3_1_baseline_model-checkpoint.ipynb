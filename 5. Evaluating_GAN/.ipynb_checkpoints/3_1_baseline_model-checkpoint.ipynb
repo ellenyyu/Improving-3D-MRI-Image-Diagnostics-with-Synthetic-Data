{
 "cells": [
  {
   "cell_type": "markdown",
   "metadata": {},
   "source": [
    "# 3.1 Baseline Model"
   ]
  },
  {
   "cell_type": "code",
   "execution_count": 1,
   "metadata": {},
   "outputs": [],
   "source": [
    "#!pip install nibabel\n",
    "import nibabel as nib\n",
    "import numpy as np\n",
    "import glob\n",
    "import sys\n",
    "import sklearn\n",
    "import os\n",
    "import numpy as np\n",
    "import matplotlib as mpl\n",
    "import matplotlib.pyplot as plt\n",
    "from functools import partial\n",
    "import PIL\n",
    "import PIL.Image\n",
    "import pandas as pd\n",
    "\n",
    "import tensorflow as tf\n",
    "from tensorflow import keras\n",
    "from tensorflow.keras import layers\n",
    "from sklearn.model_selection import train_test_split\n",
    "\n",
    "np.random.seed(42) # note that you must use the same seed to ensure consistentcy in your training/validation/testing\n",
    "tf.random.set_seed(42)"
   ]
  },
  {
   "cell_type": "code",
   "execution_count": 2,
   "metadata": {},
   "outputs": [],
   "source": [
    "df = pd.read_csv('/project/ds6050-soa2wg/team_lambda_II/ASD_DSM_CasesvsControls.csv', sep = ',')"
   ]
  },
  {
   "cell_type": "code",
   "execution_count": 3,
   "metadata": {},
   "outputs": [
    {
     "name": "stdout",
     "output_type": "stream",
     "text": [
      "There are 22 female cases\n",
      "---------------------------------------\n",
      "There are 61 female controls\n",
      "---------------------------------------\n",
      "There are 124 male cases\n",
      "---------------------------------------\n",
      "There are 184 male controls\n",
      "---------------------------------------\n",
      "There are 146 total cases and 245 total controls! 391 participants in total\n"
     ]
    }
   ],
   "source": [
    "# obtain paths for all images\n",
    "images_paths_f_case = list(df.query(\"SEX_ == 'Female' & DX_Control == 'Autism'\")['PATH'])\n",
    "images_paths_f_control = list(df.query(\"SEX_ == 'Female' & DX_Control == 'Control'\")['PATH'])\n",
    "images_paths_m_case = list(df.query(\"SEX_ == 'Male' & DX_Control == 'Autism'\")['PATH'])\n",
    "images_paths_m_control = list(df.query(\"SEX_ == 'Male' & DX_Control == 'Control'\")['PATH'])\n",
    "\n",
    "total_cases = len(images_paths_f_case) + len(images_paths_m_case)\n",
    "total_controls = len(images_paths_f_control ) + len(images_paths_m_control)\n",
    "# print out number of participants per category\n",
    "print('There are {} female cases'.format(str(len(images_paths_f_case))))\n",
    "print('---------------------------------------')\n",
    "print('There are {} female controls'.format(str(len(images_paths_f_control))))\n",
    "print('---------------------------------------')\n",
    "print('There are {} male cases'.format(str(len(images_paths_m_case))))\n",
    "print('---------------------------------------')\n",
    "print('There are {} male controls'.format(str(len(images_paths_m_control))))\n",
    "print('---------------------------------------')\n",
    "print(f'There are {total_cases} total cases and {total_controls} total controls! {total_controls + total_cases} participants in total')\n",
    "# make one giant list - ORIGINAL\n",
    "images_paths = images_paths_f_case  + images_paths_f_control + images_paths_m_case + images_paths_m_control\n",
    "\n",
    "\n",
    "num_im = len(images_paths)\n",
    "image_array = []"
   ]
  },
  {
   "cell_type": "code",
   "execution_count": 4,
   "metadata": {},
   "outputs": [],
   "source": [
    "final_list = [] # create image array from paths\n",
    "for path in images_paths:\n",
    "    try: \n",
    "        img = nib.load(path)\n",
    "        image_data = img.get_fdata()\n",
    "        image_array.append(image_data)\n",
    "        final_list.append(path)\n",
    "    except:\n",
    "        continue\n",
    "    \n",
    "image_array = np.asarray(image_array).astype('float32')"
   ]
  },
  {
   "cell_type": "code",
   "execution_count": 5,
   "metadata": {},
   "outputs": [
    {
     "data": {
      "text/plain": [
       "(391, 61, 73, 61)"
      ]
     },
     "execution_count": 5,
     "metadata": {},
     "output_type": "execute_result"
    }
   ],
   "source": [
    "image_array.shape"
   ]
  },
  {
   "cell_type": "code",
   "execution_count": 6,
   "metadata": {},
   "outputs": [
    {
     "data": {
      "text/plain": [
       "2    245\n",
       "1    146\n",
       "Name: DX_GROUP, dtype: int64"
      ]
     },
     "execution_count": 6,
     "metadata": {},
     "output_type": "execute_result"
    }
   ],
   "source": [
    "pheno = df[['FILE_ID', 'DX_GROUP']]\n",
    "pheno_array = np.array(pheno['DX_GROUP'])\n",
    "pheno_array = np.where(pheno_array == 2, 0, pheno_array)\n",
    "# distribution\n",
    "df['DX_GROUP'].value_counts()"
   ]
  },
  {
   "cell_type": "code",
   "execution_count": 7,
   "metadata": {},
   "outputs": [],
   "source": [
    "#training and holdout split\n",
    "x_train, x_val, y_train, y_val = train_test_split(image_array, pheno_array, test_size = 0.15, random_state = 654)\n",
    "\n",
    "#training and testing split\n",
    "x_train, x_test, y_train, y_test = train_test_split(x_train, y_train, test_size = 0.25, random_state = 654)"
   ]
  },
  {
   "cell_type": "code",
   "execution_count": 8,
   "metadata": {},
   "outputs": [
    {
     "data": {
      "text/plain": [
       "<matplotlib.image.AxesImage at 0x7f773e9c76a0>"
      ]
     },
     "execution_count": 8,
     "metadata": {},
     "output_type": "execute_result"
    },
    {
     "data": {
      "image/png": "[encoded data removed]",
      "text/plain": [
       "<Figure size 432x288 with 1 Axes>"
      ]
     },
     "metadata": {
      "needs_background": "light"
     },
     "output_type": "display_data"
    }
   ],
   "source": [
    "plt.imshow(x_train[0][30].T)"
   ]
  },
  {
   "cell_type": "code",
   "execution_count": 9,
   "metadata": {},
   "outputs": [
    {
     "name": "stderr",
     "output_type": "stream",
     "text": [
      "2022-05-05 04:41:36.096029: I tensorflow/core/platform/cpu_feature_guard.cc:151] This TensorFlow binary is optimized with oneAPI Deep Neural Network Library (oneDNN) to use the following CPU instructions in performance-critical operations:  AVX2 FMA\n",
      "To enable them in other operations, rebuild TensorFlow with the appropriate compiler flags.\n",
      "2022-05-05 04:41:37.847846: I tensorflow/core/common_runtime/gpu/gpu_device.cc:1525] Created device /job:localhost/replica:0/task:0/device:GPU:0 with 38334 MB memory:  -> device: 0, name: NVIDIA A100-SXM4-40GB, pci bus id: 0000:07:00.0, compute capability: 8.0\n"
     ]
    }
   ],
   "source": [
    "# Define data loaders.\n",
    "train_loader = tf.data.Dataset.from_tensor_slices((x_train, y_train))\n",
    "validation_loader = tf.data.Dataset.from_tensor_slices((x_test, y_test))\n",
    "\n",
    "batch_size = 32\n",
    "# Augment the on the fly during training.\n",
    "train_dataset = (\n",
    "    train_loader.shuffle(len(x_train))\n",
    "#     .map(train_preprocessing)\n",
    "    .batch(batch_size)\n",
    "    .prefetch(tf.data.AUTOTUNE)\n",
    ")\n",
    "# Only rescale.\n",
    "validation_dataset = (\n",
    "    validation_loader.shuffle(len(x_test))\n",
    "#    .map(validation_preprocessing)\n",
    "    .batch(batch_size)\n",
    "    .prefetch(tf.data.AUTOTUNE)\n",
    ")"
   ]
  },
  {
   "cell_type": "markdown",
   "metadata": {},
   "source": [
    "Architecture \n",
    "\n",
    "Define a 3D convolutional neural network\n",
    "To make the model easier to understand, we structure it into blocks. The architecture of the 3D CNN used in this example is based on this paper."
   ]
  },
  {
   "cell_type": "code",
   "execution_count": 10,
   "metadata": {},
   "outputs": [
    {
     "name": "stdout",
     "output_type": "stream",
     "text": [
      "Model: \"3dcnn\"\n",
      "_________________________________________________________________\n",
      " Layer (type)                Output Shape              Param #   \n",
      "=================================================================\n",
      " input_1 (InputLayer)        [(None, 61, 73, 61, 1)]   0         \n",
      "                                                                 \n",
      " normalization (Normalizatio  (None, 61, 73, 61, 1)    3         \n",
      " n)                                                              \n",
      "                                                                 \n",
      " conv3d (Conv3D)             (None, 61, 73, 61, 64)    1792      \n",
      "                                                                 \n",
      " max_pooling3d (MaxPooling3D  (None, 30, 36, 30, 64)   0         \n",
      " )                                                               \n",
      "                                                                 \n",
      " batch_normalization (BatchN  (None, 30, 36, 30, 64)   256       \n",
      " ormalization)                                                   \n",
      "                                                                 \n",
      " conv3d_1 (Conv3D)           (None, 30, 36, 30, 64)    110656    \n",
      "                                                                 \n",
      " max_pooling3d_1 (MaxPooling  (None, 15, 18, 15, 64)   0         \n",
      " 3D)                                                             \n",
      "                                                                 \n",
      " batch_normalization_1 (Batc  (None, 15, 18, 15, 64)   256       \n",
      " hNormalization)                                                 \n",
      "                                                                 \n",
      " conv3d_2 (Conv3D)           (None, 15, 18, 15, 128)   221312    \n",
      "                                                                 \n",
      " max_pooling3d_2 (MaxPooling  (None, 7, 9, 7, 128)     0         \n",
      " 3D)                                                             \n",
      "                                                                 \n",
      " batch_normalization_2 (Batc  (None, 7, 9, 7, 128)     512       \n",
      " hNormalization)                                                 \n",
      "                                                                 \n",
      " conv3d_3 (Conv3D)           (None, 7, 9, 7, 128)      442496    \n",
      "                                                                 \n",
      " max_pooling3d_3 (MaxPooling  (None, 3, 4, 3, 128)     0         \n",
      " 3D)                                                             \n",
      "                                                                 \n",
      " batch_normalization_3 (Batc  (None, 3, 4, 3, 128)     512       \n",
      " hNormalization)                                                 \n",
      "                                                                 \n",
      " global_average_pooling3d (G  (None, 128)              0         \n",
      " lobalAveragePooling3D)                                          \n",
      "                                                                 \n",
      " dense (Dense)               (None, 16)                2064      \n",
      "                                                                 \n",
      " dropout (Dropout)           (None, 16)                0         \n",
      "                                                                 \n",
      " dense_1 (Dense)             (None, 1)                 17        \n",
      "                                                                 \n",
      "=================================================================\n",
      "Total params: 779,876\n",
      "Trainable params: 779,105\n",
      "Non-trainable params: 771\n",
      "_________________________________________________________________\n"
     ]
    }
   ],
   "source": [
    "def get_model(width=61, height=73, depth=61):\n",
    "    \"\"\"Build a 3D convolutional neural network model.\"\"\"\n",
    "\n",
    "    inputs = keras.Input((width, height, depth, 1))\n",
    "    \n",
    "    x = layers.Normalization(axis=None)(inputs) #ADDED NORMALIZATION LAYER\n",
    "\n",
    "    x = layers.Conv3D(filters=64, kernel_size=3, activation=\"relu\", padding=\"same\")(x)\n",
    "    x = layers.MaxPool3D(pool_size=2)(x)\n",
    "    x = layers.BatchNormalization()(x)\n",
    "\n",
    "    x = layers.Conv3D(filters=64, kernel_size=3, activation=\"relu\", padding=\"same\")(x)\n",
    "    x = layers.MaxPool3D(pool_size=2)(x)\n",
    "    x = layers.BatchNormalization()(x)\n",
    "\n",
    "    x = layers.Conv3D(filters=128, kernel_size=3, activation=\"relu\", padding=\"same\")(x)\n",
    "    x = layers.MaxPool3D(pool_size=2)(x)\n",
    "    x = layers.BatchNormalization()(x)\n",
    "\n",
    "    x = layers.Conv3D(filters=128, kernel_size=3, activation=\"relu\", padding=\"same\")(x)\n",
    "    x = layers.MaxPool3D(pool_size=2)(x)\n",
    "    x = layers.BatchNormalization()(x)\n",
    "\n",
    "    x = layers.GlobalAveragePooling3D()(x)\n",
    "    x = layers.Dense(units=16, activation=\"relu\")(x)\n",
    "    x = layers.Dropout(0.3)(x)\n",
    "\n",
    "    outputs = layers.Dense(units=1, activation=\"sigmoid\")(x)\n",
    "\n",
    "    # Define the model.\n",
    "    model = keras.Model(inputs, outputs, name=\"3dcnn\")\n",
    "    return model\n",
    "\n",
    "\n",
    "# Build model.\n",
    "model = get_model(width=61, height=73, depth=61)\n",
    "model.summary()"
   ]
  },
  {
   "cell_type": "code",
   "execution_count": 11,
   "metadata": {},
   "outputs": [
    {
     "name": "stdout",
     "output_type": "stream",
     "text": [
      "Epoch 1/50\n"
     ]
    },
    {
     "name": "stderr",
     "output_type": "stream",
     "text": [
      "2022-05-05 04:41:41.902418: I tensorflow/stream_executor/cuda/cuda_dnn.cc:368] Loaded cuDNN version 8101\n",
      "2022-05-05 04:41:47.067650: I tensorflow/stream_executor/cuda/cuda_blas.cc:1786] TensorFloat-32 will be used for the matrix multiplication. This will only be logged once.\n"
     ]
    },
    {
     "name": "stdout",
     "output_type": "stream",
     "text": [
      "8/8 - 12s - loss: 0.6672 - binary_accuracy: 0.6506 - auc: 0.6405 - val_loss: 1.8024 - val_binary_accuracy: 0.6386 - val_auc: 0.7261 - 12s/epoch - 1s/step\n",
      "Epoch 2/50\n",
      "8/8 - 1s - loss: 0.5741 - binary_accuracy: 0.7470 - auc: 0.7848 - val_loss: 0.5229 - val_binary_accuracy: 0.7108 - val_auc: 0.8138 - 1s/epoch - 134ms/step\n",
      "Epoch 3/50\n",
      "8/8 - 1s - loss: 0.5427 - binary_accuracy: 0.7590 - auc: 0.7951 - val_loss: 1.1088 - val_binary_accuracy: 0.6386 - val_auc: 0.8236 - 1s/epoch - 129ms/step\n",
      "Epoch 4/50\n",
      "8/8 - 1s - loss: 0.4973 - binary_accuracy: 0.8273 - auc: 0.8401 - val_loss: 1.5833 - val_binary_accuracy: 0.6386 - val_auc: 0.7201 - 1s/epoch - 136ms/step\n",
      "Epoch 5/50\n",
      "8/8 - 1s - loss: 0.4581 - binary_accuracy: 0.8313 - auc: 0.8729 - val_loss: 1.5254 - val_binary_accuracy: 0.6386 - val_auc: 0.6991 - 1s/epoch - 128ms/step\n",
      "Epoch 6/50\n",
      "8/8 - 1s - loss: 0.4424 - binary_accuracy: 0.8153 - auc: 0.8851 - val_loss: 1.5631 - val_binary_accuracy: 0.6386 - val_auc: 0.6849 - 1s/epoch - 126ms/step\n",
      "Epoch 7/50\n",
      "8/8 - 1s - loss: 0.4142 - binary_accuracy: 0.8594 - auc: 0.9032 - val_loss: 1.3583 - val_binary_accuracy: 0.6386 - val_auc: 0.6918 - 1s/epoch - 128ms/step\n",
      "Epoch 8/50\n",
      "8/8 - 1s - loss: 0.4038 - binary_accuracy: 0.8715 - auc: 0.9117 - val_loss: 1.1821 - val_binary_accuracy: 0.6386 - val_auc: 0.6230 - 1s/epoch - 128ms/step\n",
      "Epoch 9/50\n",
      "8/8 - 1s - loss: 0.3514 - binary_accuracy: 0.9036 - auc: 0.9490 - val_loss: 0.8964 - val_binary_accuracy: 0.6386 - val_auc: 0.6638 - 1s/epoch - 142ms/step\n",
      "Epoch 10/50\n",
      "8/8 - 1s - loss: 0.3581 - binary_accuracy: 0.8876 - auc: 0.9420 - val_loss: 0.6429 - val_binary_accuracy: 0.6386 - val_auc: 0.8179 - 1s/epoch - 129ms/step\n",
      "Epoch 11/50\n",
      "8/8 - 1s - loss: 0.3221 - binary_accuracy: 0.9076 - auc: 0.9488 - val_loss: 0.6740 - val_binary_accuracy: 0.6386 - val_auc: 0.7755 - 1s/epoch - 128ms/step\n",
      "Epoch 12/50\n",
      "8/8 - 1s - loss: 0.2897 - binary_accuracy: 0.9357 - auc: 0.9698 - val_loss: 0.7163 - val_binary_accuracy: 0.6386 - val_auc: 0.6925 - 1s/epoch - 128ms/step\n",
      "Epoch 13/50\n",
      "8/8 - 1s - loss: 0.2737 - binary_accuracy: 0.9237 - auc: 0.9781 - val_loss: 0.6033 - val_binary_accuracy: 0.6506 - val_auc: 0.7723 - 1s/epoch - 128ms/step\n",
      "Epoch 14/50\n",
      "8/8 - 1s - loss: 0.2404 - binary_accuracy: 0.9478 - auc: 0.9898 - val_loss: 0.6152 - val_binary_accuracy: 0.6747 - val_auc: 0.7560 - 1s/epoch - 129ms/step\n",
      "Epoch 15/50\n",
      "8/8 - 1s - loss: 0.2382 - binary_accuracy: 0.9598 - auc: 0.9854 - val_loss: 0.5439 - val_binary_accuracy: 0.7108 - val_auc: 0.8186 - 1s/epoch - 133ms/step\n",
      "Epoch 16/50\n",
      "8/8 - 1s - loss: 0.2300 - binary_accuracy: 0.9357 - auc: 0.9890 - val_loss: 0.5446 - val_binary_accuracy: 0.7108 - val_auc: 0.7991 - 1s/epoch - 135ms/step\n",
      "Epoch 17/50\n",
      "8/8 - 1s - loss: 0.1967 - binary_accuracy: 0.9719 - auc: 0.9982 - val_loss: 0.5305 - val_binary_accuracy: 0.7349 - val_auc: 0.8358 - 1s/epoch - 129ms/step\n",
      "Epoch 18/50\n",
      "8/8 - 1s - loss: 0.1754 - binary_accuracy: 0.9598 - auc: 0.9948 - val_loss: 0.5341 - val_binary_accuracy: 0.7229 - val_auc: 0.8013 - 1s/epoch - 130ms/step\n",
      "Epoch 19/50\n",
      "8/8 - 1s - loss: 0.1629 - binary_accuracy: 0.9719 - auc: 0.9976 - val_loss: 0.5117 - val_binary_accuracy: 0.8072 - val_auc: 0.8642 - 1s/epoch - 128ms/step\n",
      "Epoch 20/50\n",
      "8/8 - 1s - loss: 0.1647 - binary_accuracy: 0.9759 - auc: 0.9984 - val_loss: 0.5147 - val_binary_accuracy: 0.7952 - val_auc: 0.8626 - 1s/epoch - 130ms/step\n",
      "Epoch 21/50\n",
      "8/8 - 1s - loss: 0.1431 - binary_accuracy: 0.9719 - auc: 0.9990 - val_loss: 0.5269 - val_binary_accuracy: 0.8072 - val_auc: 0.8472 - 1s/epoch - 129ms/step\n",
      "Epoch 22/50\n",
      "8/8 - 1s - loss: 0.1368 - binary_accuracy: 0.9799 - auc: 0.9996 - val_loss: 0.5173 - val_binary_accuracy: 0.7952 - val_auc: 0.8572 - 1s/epoch - 129ms/step\n",
      "Epoch 23/50\n",
      "8/8 - 1s - loss: 0.1319 - binary_accuracy: 0.9880 - auc: 0.9985 - val_loss: 0.5639 - val_binary_accuracy: 0.6867 - val_auc: 0.8676 - 1s/epoch - 128ms/step\n",
      "Epoch 24/50\n",
      "8/8 - 1s - loss: 0.1399 - binary_accuracy: 0.9880 - auc: 0.9996 - val_loss: 0.5216 - val_binary_accuracy: 0.7590 - val_auc: 0.8654 - 1s/epoch - 134ms/step\n",
      "Epoch 25/50\n",
      "8/8 - 1s - loss: 0.1055 - binary_accuracy: 0.9920 - auc: 0.9999 - val_loss: 0.5545 - val_binary_accuracy: 0.7590 - val_auc: 0.8604 - 1s/epoch - 131ms/step\n",
      "Epoch 26/50\n",
      "8/8 - 1s - loss: 0.1045 - binary_accuracy: 0.9960 - auc: 0.9998 - val_loss: 0.4704 - val_binary_accuracy: 0.8313 - val_auc: 0.8516 - 1s/epoch - 127ms/step\n",
      "Epoch 27/50\n",
      "8/8 - 1s - loss: 0.1053 - binary_accuracy: 0.9880 - auc: 0.9995 - val_loss: 0.5127 - val_binary_accuracy: 0.7590 - val_auc: 0.8604 - 1s/epoch - 129ms/step\n",
      "Epoch 28/50\n",
      "8/8 - 1s - loss: 0.0850 - binary_accuracy: 0.9960 - auc: 1.0000 - val_loss: 0.6972 - val_binary_accuracy: 0.6265 - val_auc: 0.8711 - 1s/epoch - 129ms/step\n",
      "Epoch 29/50\n",
      "8/8 - 1s - loss: 0.0848 - binary_accuracy: 0.9920 - auc: 1.0000 - val_loss: 0.6116 - val_binary_accuracy: 0.7108 - val_auc: 0.8745 - 1s/epoch - 128ms/step\n",
      "Epoch 30/50\n",
      "8/8 - 1s - loss: 0.0884 - binary_accuracy: 0.9960 - auc: 0.9999 - val_loss: 0.9325 - val_binary_accuracy: 0.4819 - val_auc: 0.8698 - 1s/epoch - 131ms/step\n",
      "Epoch 31/50\n",
      "8/8 - 1s - loss: 0.0770 - binary_accuracy: 1.0000 - auc: 1.0000 - val_loss: 0.8176 - val_binary_accuracy: 0.5422 - val_auc: 0.8717 - 1s/epoch - 130ms/step\n",
      "Epoch 32/50\n",
      "8/8 - 1s - loss: 0.0815 - binary_accuracy: 0.9960 - auc: 0.9999 - val_loss: 1.1398 - val_binary_accuracy: 0.4699 - val_auc: 0.8714 - 1s/epoch - 128ms/step\n",
      "Epoch 33/50\n",
      "8/8 - 1s - loss: 0.0634 - binary_accuracy: 0.9960 - auc: 1.0000 - val_loss: 1.0342 - val_binary_accuracy: 0.4699 - val_auc: 0.8664 - 1s/epoch - 129ms/step\n",
      "Epoch 34/50\n",
      "8/8 - 1s - loss: 0.0657 - binary_accuracy: 1.0000 - auc: 1.0000 - val_loss: 1.0063 - val_binary_accuracy: 0.4699 - val_auc: 0.8679 - 1s/epoch - 131ms/step\n",
      "Epoch 35/50\n",
      "8/8 - 1s - loss: 0.0650 - binary_accuracy: 0.9960 - auc: 1.0000 - val_loss: 1.0911 - val_binary_accuracy: 0.4699 - val_auc: 0.8682 - 1s/epoch - 130ms/step\n",
      "Epoch 36/50\n",
      "8/8 - 1s - loss: 0.0658 - binary_accuracy: 0.9960 - auc: 0.9998 - val_loss: 0.7905 - val_binary_accuracy: 0.5904 - val_auc: 0.8654 - 1s/epoch - 129ms/step\n",
      "Epoch 37/50\n",
      "8/8 - 1s - loss: 0.0559 - binary_accuracy: 0.9960 - auc: 1.0000 - val_loss: 0.7270 - val_binary_accuracy: 0.7108 - val_auc: 0.8730 - 1s/epoch - 127ms/step\n",
      "Epoch 38/50\n",
      "8/8 - 1s - loss: 0.0494 - binary_accuracy: 0.9960 - auc: 1.0000 - val_loss: 0.6048 - val_binary_accuracy: 0.7349 - val_auc: 0.8742 - 1s/epoch - 128ms/step\n",
      "Epoch 39/50\n",
      "8/8 - 1s - loss: 0.0468 - binary_accuracy: 1.0000 - auc: 1.0000 - val_loss: 0.5328 - val_binary_accuracy: 0.7590 - val_auc: 0.8742 - 1s/epoch - 133ms/step\n",
      "Epoch 40/50\n",
      "8/8 - 1s - loss: 0.0409 - binary_accuracy: 1.0000 - auc: 1.0000 - val_loss: 0.6591 - val_binary_accuracy: 0.7349 - val_auc: 0.8692 - 1s/epoch - 130ms/step\n",
      "Epoch 41/50\n",
      "8/8 - 1s - loss: 0.0506 - binary_accuracy: 1.0000 - auc: 1.0000 - val_loss: 0.6437 - val_binary_accuracy: 0.7470 - val_auc: 0.8604 - 1s/epoch - 130ms/step\n"
     ]
    },
    {
     "data": {
      "text/plain": [
       "<keras.callbacks.History at 0x7f773af2a640>"
      ]
     },
     "execution_count": 11,
     "metadata": {},
     "output_type": "execute_result"
    }
   ],
   "source": [
    "# Compile model.\n",
    "initial_learning_rate = 0.0001\n",
    "\n",
    "lr_schedule = keras.optimizers.schedules.ExponentialDecay(\n",
    "    initial_learning_rate, decay_steps=10000, decay_rate=0.96, staircase=True\n",
    ")\n",
    "\n",
    "model.compile(\n",
    "    loss=\"binary_crossentropy\",\n",
    "    optimizer=keras.optimizers.Adam(learning_rate=lr_schedule),\n",
    "    metrics=[tf.keras.metrics.BinaryAccuracy(),tf.keras.metrics.AUC()],\n",
    ")\n",
    "\n",
    "# # Define callbacks.\n",
    "# checkpoint_cb = keras.callbacks.ModelCheckpoint(\n",
    "#     \"3d_image_classification_Cxa.h5\", save_best_only=True\n",
    "# )\n",
    "early_stopping_cb = keras.callbacks.EarlyStopping(monitor=\"val_binary_accuracy\", patience=15)\n",
    "\n",
    "# # Train the model, doing validation at the end of each epoch\n",
    "# epochs = 50\n",
    "# model.fit(\n",
    "#     train_dataset,\n",
    "#     validation_data=validation_dataset,\n",
    "#     epochs=epochs,\n",
    "#     shuffle=True,\n",
    "#     verbose=2,\n",
    "#     callbacks=[checkpoint_cb, early_stopping_cb],\n",
    "# )\n",
    "\n",
    "# Train the model, doing validation at the end of each epoch\n",
    "epochs = 50\n",
    "model.fit(\n",
    "    train_dataset,\n",
    "    validation_data=validation_dataset,\n",
    "    epochs=epochs,\n",
    "    shuffle=True,\n",
    "    verbose=2,\n",
    "    callbacks=[early_stopping_cb],\n",
    ")"
   ]
  },
  {
   "cell_type": "code",
   "execution_count": 12,
   "metadata": {},
   "outputs": [
    {
     "data": {
      "image/png": "[encoded data removed]",
      "text/plain": [
       "<Figure size 1440x216 with 2 Axes>"
      ]
     },
     "metadata": {
      "needs_background": "light"
     },
     "output_type": "display_data"
    }
   ],
   "source": [
    "fig, ax = plt.subplots(1, 2, figsize=(20, 3))\n",
    "ax = ax.ravel()\n",
    "\n",
    "#for i, metric in enumerate([\"auc_4\", \"loss\"]):\n",
    "for i, metric in enumerate([\"binary_accuracy\", \"loss\"]):\n",
    "    ax[i].plot(model.history.history[metric])\n",
    "    ax[i].plot(model.history.history[\"val_\" + metric])\n",
    "    ax[i].set_title(\"Model {}\".format(metric))\n",
    "    ax[i].set_xlabel(\"epochs\")\n",
    "    ax[i].set_ylabel(metric)\n",
    "    ax[i].legend([\"train\", \"val\"])"
   ]
  },
  {
   "cell_type": "code",
   "execution_count": 13,
   "metadata": {},
   "outputs": [
    {
     "name": "stdout",
     "output_type": "stream",
     "text": [
      "[0.9685333]\n",
      "This model is 3.15 percent confident that CT scan is normal\n",
      "This model is 96.85 percent confident that CT scan is abnormal\n",
      "1\n"
     ]
    }
   ],
   "source": [
    "# # Load best weights.\n",
    "# model.load_weights(\"3d_image_classification_Cxa.h5\")\n",
    "prediction = model.predict(np.expand_dims(x_test[0], axis=0))[0]\n",
    "print(prediction)\n",
    "scores = [1 - prediction[0], prediction[0]]\n",
    "\n",
    "class_names = [\"normal\", \"abnormal\"]\n",
    "for score, name in zip(scores, class_names):\n",
    "    print(\n",
    "        \"This model is %.2f percent confident that CT scan is %s\"\n",
    "        % ((100 * score), name)\n",
    "    )\n",
    "print(y_test[0])"
   ]
  },
  {
   "cell_type": "code",
   "execution_count": 14,
   "metadata": {},
   "outputs": [
    {
     "name": "stdout",
     "output_type": "stream",
     "text": [
      "2/2 [==============================] - 0s 237ms/step - loss: 0.6066 - binary_accuracy: 0.7627 - auc: 0.8053\n"
     ]
    },
    {
     "data": {
      "text/plain": [
       "[0.6066194176673889, 0.7627118825912476, 0.8052825331687927]"
      ]
     },
     "execution_count": 14,
     "metadata": {},
     "output_type": "execute_result"
    }
   ],
   "source": [
    "#proportion of training data that's positive\n",
    "sum(y_train) / len(y_train)\n",
    "\n",
    "#proportion of holdout data that's positive\n",
    "(sum(y_val) / len(y_val))\n",
    "\n",
    "#evaluate on the holdout data\n",
    "model.evaluate(x_val, y_val)"
   ]
  },
  {
   "cell_type": "code",
   "execution_count": 15,
   "metadata": {},
   "outputs": [
    {
     "name": "stdout",
     "output_type": "stream",
     "text": [
      "              precision    recall  f1-score   support\n",
      "\n",
      "           0       0.87      0.73      0.79        37\n",
      "           1       0.64      0.82      0.72        22\n",
      "\n",
      "    accuracy                           0.76        59\n",
      "   macro avg       0.76      0.77      0.76        59\n",
      "weighted avg       0.79      0.76      0.77        59\n",
      "\n"
     ]
    }
   ],
   "source": [
    "from sklearn.metrics import classification_report, confusion_matrix\n",
    "\n",
    "preds = model.predict(x_val)\n",
    "\n",
    "preds = np.where(preds > .5, 1,0)\n",
    "\n",
    "\n",
    "\n",
    "print(classification_report(y_val, preds))\n",
    "cm = confusion_matrix(y_val, preds)"
   ]
  },
  {
   "cell_type": "code",
   "execution_count": 16,
   "metadata": {},
   "outputs": [
    {
     "data": {
      "image/png": "[encoded data removed]",
      "text/plain": [
       "<Figure size 432x288 with 2 Axes>"
      ]
     },
     "metadata": {
      "needs_background": "light"
     },
     "output_type": "display_data"
    }
   ],
   "source": [
    "import seaborn as sns\n",
    "\n",
    "ax = sns.heatmap(cm, annot=True, cmap='Blues')\n",
    "\n",
    "ax.set_title('Confusion Matrix');\n",
    "ax.set_xlabel('\\nPredicted Values')\n",
    "ax.set_ylabel('Actual Values ');\n",
    "\n",
    "## Ticket labels - List must be in alphabetical order\n",
    "ax.xaxis.set_ticklabels(['False','True'])\n",
    "ax.yaxis.set_ticklabels(['False','True'])\n",
    "\n",
    "## Display the visualization of the Confusion Matrix.\n",
    "plt.show()"
   ]
  },
  {
   "cell_type": "code",
   "execution_count": 17,
   "metadata": {},
   "outputs": [],
   "source": [
    "from sklearn.metrics import roc_curve\n",
    "y_pred_keras = model.predict(x_val).ravel()\n",
    "fpr_keras, tpr_keras, thresholds_keras = roc_curve(y_val, y_pred_keras)"
   ]
  },
  {
   "cell_type": "code",
   "execution_count": 18,
   "metadata": {},
   "outputs": [],
   "source": [
    "from sklearn.metrics import auc\n",
    "auc_keras = auc(fpr_keras, tpr_keras)"
   ]
  },
  {
   "cell_type": "code",
   "execution_count": 19,
   "metadata": {},
   "outputs": [
    {
     "data": {
      "text/plain": [
       "0.8034398034398036"
      ]
     },
     "execution_count": 19,
     "metadata": {},
     "output_type": "execute_result"
    }
   ],
   "source": [
    "auc_keras"
   ]
  },
  {
   "cell_type": "code",
   "execution_count": 20,
   "metadata": {},
   "outputs": [
    {
     "data": {
      "image/png": "[encoded data removed]",
      "text/plain": [
       "<Figure size 432x288 with 1 Axes>"
      ]
     },
     "metadata": {
      "needs_background": "light"
     },
     "output_type": "display_data"
    }
   ],
   "source": [
    "plt.figure(1)\n",
    "plt.plot([0, 1], [0, 1], 'k--')\n",
    "plt.plot(fpr_keras, tpr_keras, label='Model (area = {:.3f})'.format(auc_keras))\n",
    "plt.xlabel('False positive rate')\n",
    "plt.ylabel('True positive rate')\n",
    "plt.title('ROC curve')\n",
    "plt.legend(loc='best')\n",
    "plt.show()"
   ]
  }
 ],
 "metadata": {
  "kernelspec": {
   "display_name": "Tensorflow 2.8.0/Keras Py3.9",
   "language": "python",
   "name": "tensorflow-2.8.0"
  },
  "language_info": {
   "codemirror_mode": {
    "name": "ipython",
    "version": 3
   },
   "file_extension": ".py",
   "mimetype": "text/x-python",
   "name": "python",
   "nbconvert_exporter": "python",
   "pygments_lexer": "ipython3",
   "version": "3.9.10"
  }
 },
 "nbformat": 4,
 "nbformat_minor": 4
}
