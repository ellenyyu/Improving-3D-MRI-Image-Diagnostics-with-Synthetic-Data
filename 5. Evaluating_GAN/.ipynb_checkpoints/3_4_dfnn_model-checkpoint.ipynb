{
 "cells": [
  {
   "cell_type": "markdown",
   "metadata": {},
   "source": [
    "# 3.4 Deep Feedforward Neural Network"
   ]
  },
  {
   "cell_type": "markdown",
   "metadata": {},
   "source": [
    "## 1. Data Load In"
   ]
  },
  {
   "cell_type": "code",
   "execution_count": 1,
   "metadata": {},
   "outputs": [],
   "source": [
    "import nibabel as nib\n",
    "import numpy as np\n",
    "import glob\n",
    "import sys\n",
    "import sklearn\n",
    "import os\n",
    "import numpy as np\n",
    "import matplotlib as mpl\n",
    "import matplotlib.pyplot as plt\n",
    "from functools import partial\n",
    "import PIL\n",
    "import PIL.Image\n",
    "import pandas as pd\n",
    "\n",
    "import tensorflow as tf\n",
    "from tensorflow import keras\n",
    "from tensorflow.keras import layers\n",
    "from sklearn.model_selection import train_test_split\n",
    "\n",
    "np.random.seed(42) # note that you must use the same seed to ensure consistentcy in your training/validation/testing\n",
    "tf.random.set_seed(42)"
   ]
  },
  {
   "cell_type": "code",
   "execution_count": 2,
   "metadata": {},
   "outputs": [],
   "source": [
    "# cases + conrols df\n",
    "df = pd.read_csv('/project/ds6050-soa2wg/team_lambda_II/ASD_DSM_CasesvsControls.csv', sep = ',')"
   ]
  },
  {
   "cell_type": "code",
   "execution_count": 3,
   "metadata": {},
   "outputs": [
    {
     "name": "stdout",
     "output_type": "stream",
     "text": [
      "There are 22 female cases\n",
      "---------------------------------------\n",
      "There are 61 female controls\n",
      "---------------------------------------\n",
      "There are 124 male cases\n",
      "---------------------------------------\n",
      "There are 184 male controls\n",
      "---------------------------------------\n",
      "There are 146 total cases and 245 total controls! 391 participants in total\n"
     ]
    }
   ],
   "source": [
    "# obtain paths for all images\n",
    "images_paths_f_case = list(df.query(\"SEX_ == 'Female' & DX_Control == 'Autism'\")['PATH'])\n",
    "images_paths_f_control = list(df.query(\"SEX_ == 'Female' & DX_Control == 'Control'\")['PATH'])\n",
    "images_paths_m_case = list(df.query(\"SEX_ == 'Male' & DX_Control == 'Autism'\")['PATH'])\n",
    "images_paths_m_control = list(df.query(\"SEX_ == 'Male' & DX_Control == 'Control'\")['PATH'])\n",
    "\n",
    "total_cases = len(images_paths_f_case) + len(images_paths_m_case)\n",
    "total_controls = len(images_paths_f_control ) + len(images_paths_m_control)\n",
    "# print out number of participants per category\n",
    "print('There are {} female cases'.format(str(len(images_paths_f_case))))\n",
    "print('---------------------------------------')\n",
    "print('There are {} female controls'.format(str(len(images_paths_f_control))))\n",
    "print('---------------------------------------')\n",
    "print('There are {} male cases'.format(str(len(images_paths_m_case))))\n",
    "print('---------------------------------------')\n",
    "print('There are {} male controls'.format(str(len(images_paths_m_control))))\n",
    "print('---------------------------------------')\n",
    "print(f'There are {total_cases} total cases and {total_controls} total controls! {total_controls + total_cases} participants in total')\n",
    "# make one giant list - ORIGINAL\n",
    "images_paths = images_paths_f_case  + images_paths_f_control + images_paths_m_case + images_paths_m_control\n",
    "\n",
    "num_im = len(images_paths)\n",
    "image_array = []"
   ]
  },
  {
   "cell_type": "code",
   "execution_count": 4,
   "metadata": {},
   "outputs": [],
   "source": [
    "final_list = [] # create image array from paths\n",
    "for path in images_paths:\n",
    "    try: \n",
    "        img = nib.load(path)\n",
    "        image_data = img.get_fdata()\n",
    "        image_array.append(image_data)\n",
    "        final_list.append(path)\n",
    "    except:\n",
    "        continue\n",
    "\n",
    "image_array = np.asarray(image_array).astype('float32')"
   ]
  },
  {
   "cell_type": "code",
   "execution_count": 5,
   "metadata": {},
   "outputs": [
    {
     "data": {
      "text/plain": [
       "(391, 61, 73, 61)"
      ]
     },
     "execution_count": 5,
     "metadata": {},
     "output_type": "execute_result"
    }
   ],
   "source": [
    "image_array.shape"
   ]
  },
  {
   "cell_type": "code",
   "execution_count": 6,
   "metadata": {},
   "outputs": [
    {
     "data": {
      "text/plain": [
       "2    245\n",
       "1    146\n",
       "Name: DX_GROUP, dtype: int64"
      ]
     },
     "execution_count": 6,
     "metadata": {},
     "output_type": "execute_result"
    }
   ],
   "source": [
    "pheno = df[['FILE_ID', 'DX_GROUP']]\n",
    "pheno_array = np.array(pheno['DX_GROUP'])\n",
    "pheno_array = np.where(pheno_array == 2, 0, pheno_array) # 0 = control, 1 = dx\n",
    "# distribution\n",
    "df['DX_GROUP'].value_counts()"
   ]
  },
  {
   "cell_type": "code",
   "execution_count": 7,
   "metadata": {},
   "outputs": [],
   "source": [
    "#training and holdout split\n",
    "x_train, x_val, y_train, y_val = train_test_split(image_array, pheno_array, test_size = 0.15, random_state = 654)\n",
    "\n",
    "#training and testing split\n",
    "x_train, x_test, y_train, y_test = train_test_split(x_train, y_train, test_size = 0.25, random_state = 654)"
   ]
  },
  {
   "cell_type": "code",
   "execution_count": 8,
   "metadata": {},
   "outputs": [
    {
     "data": {
      "text/plain": [
       "<matplotlib.image.AxesImage at 0x7f1fa004d4f0>"
      ]
     },
     "execution_count": 8,
     "metadata": {},
     "output_type": "execute_result"
    },
    {
     "data": {
      "image/png": "[encoded data removed]",
      "text/plain": [
       "<Figure size 432x288 with 1 Axes>"
      ]
     },
     "metadata": {
      "needs_background": "light"
     },
     "output_type": "display_data"
    }
   ],
   "source": [
    "plt.imshow(x_train[15][48].T)"
   ]
  },
  {
   "cell_type": "code",
   "execution_count": 9,
   "metadata": {},
   "outputs": [
    {
     "name": "stderr",
     "output_type": "stream",
     "text": [
      "2022-05-05 04:47:54.117550: I tensorflow/core/platform/cpu_feature_guard.cc:151] This TensorFlow binary is optimized with oneAPI Deep Neural Network Library (oneDNN) to use the following CPU instructions in performance-critical operations:  AVX2 FMA\n",
      "To enable them in other operations, rebuild TensorFlow with the appropriate compiler flags.\n",
      "2022-05-05 04:47:55.864575: I tensorflow/core/common_runtime/gpu/gpu_device.cc:1525] Created device /job:localhost/replica:0/task:0/device:GPU:0 with 38334 MB memory:  -> device: 0, name: NVIDIA A100-SXM4-40GB, pci bus id: 0000:07:00.0, compute capability: 8.0\n"
     ]
    }
   ],
   "source": [
    "# Define data loaders.\n",
    "train_loader = tf.data.Dataset.from_tensor_slices((x_train, y_train))\n",
    "validation_loader = tf.data.Dataset.from_tensor_slices((x_test, y_test))\n",
    "\n",
    "batch_size = 16\n",
    "# Augment the on the fly during training.\n",
    "train_dataset = (\n",
    "    train_loader.shuffle(len(x_train))\n",
    "#     .map(train_preprocessing)\n",
    "    .batch(batch_size)\n",
    "    .prefetch(tf.data.AUTOTUNE)\n",
    ")\n",
    "# Only rescale.\n",
    "validation_dataset = (\n",
    "    validation_loader.shuffle(len(x_test))\n",
    "#    .map(validation_preprocessing)\n",
    "    .batch(batch_size)\n",
    "    .prefetch(tf.data.AUTOTUNE)\n",
    ")"
   ]
  },
  {
   "cell_type": "markdown",
   "metadata": {},
   "source": [
    "## 2. Model"
   ]
  },
  {
   "cell_type": "markdown",
   "metadata": {},
   "source": [
    "### 2.1 Highest performing DFNN architecture from Mellema 2022 ** Best Performing with GAN data **"
   ]
  },
  {
   "cell_type": "code",
   "execution_count": 10,
   "metadata": {},
   "outputs": [
    {
     "name": "stdout",
     "output_type": "stream",
     "text": [
      "Model: \"DFNN\"\n",
      "_________________________________________________________________\n",
      " Layer (type)                Output Shape              Param #   \n",
      "=================================================================\n",
      " input_1 (InputLayer)        [(None, 61, 73, 61, 1)]   0         \n",
      "                                                                 \n",
      " dense (Dense)               (None, 61, 73, 61, 6)     12        \n",
      "                                                                 \n",
      " dense_1 (Dense)             (None, 61, 73, 61, 64)    448       \n",
      "                                                                 \n",
      " dropout (Dropout)           (None, 61, 73, 61, 64)    0         \n",
      "                                                                 \n",
      " dense_2 (Dense)             (None, 61, 73, 61, 64)    4160      \n",
      "                                                                 \n",
      " flatten (Flatten)           (None, 17384512)          0         \n",
      "                                                                 \n",
      " dense_3 (Dense)             (None, 1)                 17384513  \n",
      "                                                                 \n",
      "=================================================================\n",
      "Total params: 17,389,133\n",
      "Trainable params: 17,389,133\n",
      "Non-trainable params: 0\n",
      "_________________________________________________________________\n"
     ]
    }
   ],
   "source": [
    "def Dense_model(width=61, height=73, depth=61):\n",
    "    \"\"\"Build a Highest performing Dense FNN neural network model from Mellema 2022.\"\"\"\n",
    "\n",
    "    inputs = keras.Input((width, height, depth, 1))\n",
    "    \n",
    "    x = layers.Dense(6,kernel_regularizer=tf.keras.regularizers.l2(0.0001))(inputs)\n",
    "    x = layers.Dense(units=64, activation=\"relu\")(x)\n",
    "    x = layers.Dropout(0.13)(x)\n",
    "    x = layers.Dense(units=64, activation=\"relu\")(x)\n",
    "    x = layers.Flatten()(x)\n",
    "    \n",
    "\n",
    "    outputs = layers.Dense(units=1, activation=\"sigmoid\")(x)\n",
    "\n",
    "    # Define the model.\n",
    "    model = keras.Model(inputs, outputs, name=\"DFNN\")\n",
    "    return model\n",
    "\n",
    "\n",
    "# Build model.\n",
    "model = Dense_model(width=61, height=73, depth=61)\n",
    "model.summary()"
   ]
  },
  {
   "cell_type": "code",
   "execution_count": 11,
   "metadata": {},
   "outputs": [
    {
     "name": "stdout",
     "output_type": "stream",
     "text": [
      "Epoch 1/50\n"
     ]
    },
    {
     "name": "stderr",
     "output_type": "stream",
     "text": [
      "2022-05-05 04:47:59.863332: I tensorflow/stream_executor/cuda/cuda_blas.cc:1786] TensorFloat-32 will be used for the matrix multiplication. This will only be logged once.\n"
     ]
    },
    {
     "name": "stdout",
     "output_type": "stream",
     "text": [
      "16/16 [==============================] - 5s 94ms/step - loss: 43469.1445 - binary_accuracy: 0.5823 - auc: 0.5410 - val_loss: 4882.9390 - val_binary_accuracy: 0.7349 - val_auc: 0.6623\n",
      "Epoch 2/50\n",
      "16/16 [==============================] - 1s 75ms/step - loss: 14923.8057 - binary_accuracy: 0.5984 - auc: 0.5958 - val_loss: 8868.4424 - val_binary_accuracy: 0.7108 - val_auc: 0.6289\n",
      "Epoch 3/50\n",
      "16/16 [==============================] - 1s 75ms/step - loss: 10610.6738 - binary_accuracy: 0.6586 - auc: 0.6400 - val_loss: 4303.2476 - val_binary_accuracy: 0.7470 - val_auc: 0.7006\n",
      "Epoch 4/50\n",
      "16/16 [==============================] - 1s 76ms/step - loss: 5581.2544 - binary_accuracy: 0.7510 - auc: 0.7163 - val_loss: 8331.1768 - val_binary_accuracy: 0.5542 - val_auc: 0.6437\n",
      "Epoch 5/50\n",
      "16/16 [==============================] - 1s 76ms/step - loss: 3931.9368 - binary_accuracy: 0.7149 - auc: 0.7061 - val_loss: 3337.9446 - val_binary_accuracy: 0.7831 - val_auc: 0.7289\n",
      "Epoch 6/50\n",
      "16/16 [==============================] - 1s 75ms/step - loss: 2772.6343 - binary_accuracy: 0.7108 - auc: 0.6924 - val_loss: 2540.5308 - val_binary_accuracy: 0.7349 - val_auc: 0.6550\n",
      "Epoch 7/50\n",
      "16/16 [==============================] - 1s 76ms/step - loss: 2190.7915 - binary_accuracy: 0.7430 - auc: 0.7161 - val_loss: 3561.3328 - val_binary_accuracy: 0.6265 - val_auc: 0.7003\n",
      "Epoch 8/50\n",
      "16/16 [==============================] - 1s 76ms/step - loss: 1277.7150 - binary_accuracy: 0.8112 - auc: 0.8023 - val_loss: 2111.8833 - val_binary_accuracy: 0.7590 - val_auc: 0.6884\n",
      "Epoch 9/50\n",
      "16/16 [==============================] - 1s 76ms/step - loss: 2895.7368 - binary_accuracy: 0.6627 - auc: 0.6453 - val_loss: 8188.4678 - val_binary_accuracy: 0.6386 - val_auc: 0.5000\n",
      "Epoch 10/50\n",
      "16/16 [==============================] - 1s 75ms/step - loss: 2898.1072 - binary_accuracy: 0.7470 - auc: 0.7235 - val_loss: 1934.6150 - val_binary_accuracy: 0.7470 - val_auc: 0.7151\n",
      "Epoch 11/50\n",
      "16/16 [==============================] - 1s 76ms/step - loss: 905.9419 - binary_accuracy: 0.8394 - auc: 0.8333 - val_loss: 1610.5475 - val_binary_accuracy: 0.7349 - val_auc: 0.7563\n",
      "Epoch 12/50\n",
      "16/16 [==============================] - 1s 75ms/step - loss: 905.0448 - binary_accuracy: 0.8635 - auc: 0.8526 - val_loss: 2372.6060 - val_binary_accuracy: 0.7108 - val_auc: 0.6217\n",
      "Epoch 13/50\n",
      "16/16 [==============================] - 1s 75ms/step - loss: 3833.2703 - binary_accuracy: 0.6827 - auc: 0.6677 - val_loss: 1885.8949 - val_binary_accuracy: 0.7349 - val_auc: 0.7491\n",
      "Epoch 14/50\n",
      "16/16 [==============================] - 1s 76ms/step - loss: 2867.6807 - binary_accuracy: 0.7470 - auc: 0.7340 - val_loss: 5372.5732 - val_binary_accuracy: 0.7229 - val_auc: 0.6384\n",
      "Epoch 15/50\n",
      "16/16 [==============================] - 1s 77ms/step - loss: 2106.8596 - binary_accuracy: 0.8353 - auc: 0.8196 - val_loss: 3194.5833 - val_binary_accuracy: 0.7711 - val_auc: 0.7050\n"
     ]
    },
    {
     "data": {
      "text/plain": [
       "<keras.callbacks.History at 0x7f1f9f1c1100>"
      ]
     },
     "execution_count": 11,
     "metadata": {},
     "output_type": "execute_result"
    }
   ],
   "source": [
    "# Compile model.\n",
    "initial_learning_rate = 0.0001\n",
    "\n",
    "lr_schedule = keras.optimizers.schedules.ExponentialDecay(\n",
    "    initial_learning_rate, decay_steps=100000, decay_rate=0.96, staircase=True\n",
    ")\n",
    "\n",
    "# Compile model.\n",
    "model.compile(\n",
    "    loss=\"binary_crossentropy\",\n",
    "    optimizer=keras.optimizers.Adam(learning_rate=lr_schedule),\n",
    "    metrics=[tf.keras.metrics.BinaryAccuracy(),tf.keras.metrics.AUC()],\n",
    ")\n",
    "\n",
    "# Define callbacks.\n",
    "#checkpoint_cb = keras.callbacks.ModelCheckpoint(\n",
    " #   \"3d_image_classification_Cxa_DFNN.h5\", save_best_only=True\n",
    "#)\n",
    "early_stopping_cb = keras.callbacks.EarlyStopping(monitor=\"val_binary_accuracy\", patience=10)\n",
    "\n",
    "# Train the model, doing validation at the end of each epoch\n",
    "epochs = 50\n",
    "model.fit(\n",
    "    train_dataset,\n",
    "    validation_data=validation_dataset,\n",
    "    epochs=epochs,\n",
    "    shuffle=True,\n",
    "    callbacks=early_stopping_cb,\n",
    ")"
   ]
  },
  {
   "cell_type": "code",
   "execution_count": 12,
   "metadata": {},
   "outputs": [],
   "source": [
    "# # Save the weights\n",
    "# model.save_weights('DFNN_DoubleActuals_mod1.h5')"
   ]
  },
  {
   "cell_type": "code",
   "execution_count": 13,
   "metadata": {},
   "outputs": [
    {
     "name": "stdout",
     "output_type": "stream",
     "text": [
      "[1.]\n",
      "This model is 0.00 percent confident that CT scan is normal\n",
      "This model is 100.00 percent confident that CT scan is abnormal\n",
      "1\n"
     ]
    }
   ],
   "source": [
    "# # # Load best weights.\n",
    "# model.load_weights(\"DFNN_DoubleActuals_mod1.h5\")\n",
    "prediction = model.predict(np.expand_dims(x_test[0], axis=0))[0]\n",
    "print(prediction)\n",
    "scores = [1 - prediction[0], prediction[0]]\n",
    "\n",
    "class_names = [\"normal\", \"abnormal\"]\n",
    "for score, name in zip(scores, class_names):\n",
    "    print(\n",
    "    \"This model is %.2f percent confident that CT scan is %s\"\n",
    "    % ((100 * score), name))\n",
    "print(y_test[0])"
   ]
  },
  {
   "cell_type": "code",
   "execution_count": 14,
   "metadata": {},
   "outputs": [
    {
     "name": "stdout",
     "output_type": "stream",
     "text": [
      "2/2 [==============================] - 0s 37ms/step - loss: 2947.9990 - binary_accuracy: 0.8136 - auc: 0.7684\n"
     ]
    },
    {
     "data": {
      "text/plain": [
       "[2947.9990234375, 0.8135592937469482, 0.7684274911880493]"
      ]
     },
     "execution_count": 14,
     "metadata": {},
     "output_type": "execute_result"
    }
   ],
   "source": [
    "#proportion of training data that's positive\n",
    "sum(y_train) / len(y_train)\n",
    "\n",
    "#proportion of holdout data that's positive\n",
    "(sum(y_val) / len(y_val))\n",
    "\n",
    "#evaluate on the holdout data\n",
    "model.evaluate(x_val, y_val)"
   ]
  },
  {
   "cell_type": "code",
   "execution_count": 15,
   "metadata": {},
   "outputs": [
    {
     "name": "stdout",
     "output_type": "stream",
     "text": [
      "              precision    recall  f1-score   support\n",
      "\n",
      "           0       0.80      0.95      0.86        37\n",
      "           1       0.87      0.59      0.70        22\n",
      "\n",
      "    accuracy                           0.81        59\n",
      "   macro avg       0.83      0.77      0.78        59\n",
      "weighted avg       0.82      0.81      0.80        59\n",
      "\n"
     ]
    }
   ],
   "source": [
    "from sklearn.metrics import classification_report, confusion_matrix\n",
    "\n",
    "preds = model.predict(x_val)\n",
    "\n",
    "preds = np.where(preds > .5, 1,0)\n",
    "\n",
    "\n",
    "\n",
    "print(classification_report(y_val, preds))\n",
    "cm = confusion_matrix(y_val, preds)"
   ]
  },
  {
   "cell_type": "code",
   "execution_count": 16,
   "metadata": {},
   "outputs": [
    {
     "data": {
      "image/png": "[encoded data removed]",
      "text/plain": [
       "<Figure size 432x288 with 2 Axes>"
      ]
     },
     "metadata": {
      "needs_background": "light"
     },
     "output_type": "display_data"
    }
   ],
   "source": [
    "import seaborn as sns\n",
    "\n",
    "ax = sns.heatmap(cm, annot=True, cmap='Blues')\n",
    "\n",
    "ax.set_title('Confusion Matrix');\n",
    "ax.set_xlabel('\\nPredicted Values')\n",
    "ax.set_ylabel('Actual Values ');\n",
    "\n",
    "## Ticket labels - List must be in alphabetical order\n",
    "ax.xaxis.set_ticklabels(['False','True'])\n",
    "ax.yaxis.set_ticklabels(['False','True'])\n",
    "\n",
    "## Display the visualization of the Confusion Matrix.\n",
    "plt.show()"
   ]
  },
  {
   "cell_type": "code",
   "execution_count": 17,
   "metadata": {},
   "outputs": [],
   "source": [
    "from sklearn.metrics import roc_curve\n",
    "y_pred_keras = model.predict(x_val).ravel()\n",
    "fpr_keras, tpr_keras, thresholds_keras = roc_curve(y_val, y_pred_keras)"
   ]
  },
  {
   "cell_type": "code",
   "execution_count": 18,
   "metadata": {},
   "outputs": [],
   "source": [
    "from sklearn.metrics import auc\n",
    "auc_keras = auc(fpr_keras, tpr_keras)"
   ]
  },
  {
   "cell_type": "code",
   "execution_count": 19,
   "metadata": {},
   "outputs": [
    {
     "data": {
      "text/plain": [
       "0.7684275184275184"
      ]
     },
     "execution_count": 19,
     "metadata": {},
     "output_type": "execute_result"
    }
   ],
   "source": [
    "auc_keras"
   ]
  },
  {
   "cell_type": "code",
   "execution_count": 20,
   "metadata": {},
   "outputs": [
    {
     "data": {
      "image/png": "[encoded data removed]",
      "text/plain": [
       "<Figure size 432x288 with 1 Axes>"
      ]
     },
     "metadata": {
      "needs_background": "light"
     },
     "output_type": "display_data"
    }
   ],
   "source": [
    "plt.figure(1)\n",
    "plt.plot([0, 1], [0, 1], 'k--')\n",
    "plt.plot(fpr_keras, tpr_keras, label='Model (area = {:.3f})'.format(auc_keras))\n",
    "plt.xlabel('False positive rate')\n",
    "plt.ylabel('True positive rate')\n",
    "plt.title('ROC curve')\n",
    "plt.legend(loc='best')\n",
    "plt.show()"
   ]
  },
  {
   "cell_type": "code",
   "execution_count": 21,
   "metadata": {},
   "outputs": [],
   "source": [
    "# from PIL import ImageFont\n",
    "# font = ImageFont.truetype(\"Arial.ttf\", 16)\n",
    "# visualkeras.layered_view(model, legend=True,font = font, to_file='DFNN1arch_gan.png')  # font is optional!"
   ]
  },
  {
   "cell_type": "markdown",
   "metadata": {},
   "source": [
    "### 2.2 Build a Highest performing Dense FNN neural network model from Mellema 2022 with modifications"
   ]
  },
  {
   "cell_type": "code",
   "execution_count": 22,
   "metadata": {},
   "outputs": [
    {
     "name": "stdout",
     "output_type": "stream",
     "text": [
      "Model: \"DFNN\"\n",
      "_________________________________________________________________\n",
      " Layer (type)                Output Shape              Param #   \n",
      "=================================================================\n",
      " input_2 (InputLayer)        [(None, 61, 73, 61, 1)]   0         \n",
      "                                                                 \n",
      " dense_4 (Dense)             (None, 61, 73, 61, 6)     12        \n",
      "                                                                 \n",
      " batch_normalization (BatchN  (None, 61, 73, 61, 6)    24        \n",
      " ormalization)                                                   \n",
      "                                                                 \n",
      " dense_5 (Dense)             (None, 61, 73, 61, 128)   896       \n",
      "                                                                 \n",
      " dropout_1 (Dropout)         (None, 61, 73, 61, 128)   0         \n",
      "                                                                 \n",
      " dense_6 (Dense)             (None, 61, 73, 61, 64)    8256      \n",
      "                                                                 \n",
      " flatten_1 (Flatten)         (None, 17384512)          0         \n",
      "                                                                 \n",
      " dense_7 (Dense)             (None, 1)                 17384513  \n",
      "                                                                 \n",
      "=================================================================\n",
      "Total params: 17,393,701\n",
      "Trainable params: 17,393,689\n",
      "Non-trainable params: 12\n",
      "_________________________________________________________________\n"
     ]
    }
   ],
   "source": [
    "def Dense_model(width=61, height=73, depth=61):\n",
    "    \"\"\"Build a Highest performing Dense FNN neural network model from Mellema 2022 with modifications.\"\"\"\n",
    "\n",
    "    inputs = keras.Input((width, height, depth, 1))  \n",
    "     \n",
    "    x = layers.Dense(6,kernel_regularizer=tf.keras.regularizers.l2(0.0001))(inputs)\n",
    "    x = layers.BatchNormalization()(x)\n",
    "    x = layers.Dense(units=128, activation=\"relu\")(x)\n",
    "    x = layers.Dropout(0.13)(x)\n",
    "    x = layers.Dense(units=64, activation=\"relu\")(x)\n",
    "    x = layers.Flatten()(x)\n",
    "    outputs = layers.Dense(units=1, activation=\"sigmoid\")(x)\n",
    "\n",
    "    # Define the model.\n",
    "    model = keras.Model(inputs, outputs, name=\"DFNN\")\n",
    "    return model\n",
    "\n",
    "\n",
    "# Build model.\n",
    "model = Dense_model(width=61, height=73, depth=61)\n",
    "model.summary()"
   ]
  },
  {
   "cell_type": "code",
   "execution_count": 23,
   "metadata": {},
   "outputs": [
    {
     "name": "stdout",
     "output_type": "stream",
     "text": [
      "Epoch 1/50\n"
     ]
    },
    {
     "name": "stderr",
     "output_type": "stream",
     "text": [
      "2022-05-05 04:48:24.674255: I tensorflow/stream_executor/cuda/cuda_dnn.cc:368] Loaded cuDNN version 8101\n"
     ]
    },
    {
     "name": "stdout",
     "output_type": "stream",
     "text": [
      "16/16 [==============================] - 5s 136ms/step - loss: 31.8203 - binary_accuracy: 0.4940 - auc_1: 0.4512 - val_loss: 30.6109 - val_binary_accuracy: 0.3614 - val_auc_1: 0.5000\n",
      "Epoch 2/50\n",
      "16/16 [==============================] - 2s 120ms/step - loss: 15.6124 - binary_accuracy: 0.5100 - auc_1: 0.5185 - val_loss: 12.2188 - val_binary_accuracy: 0.4096 - val_auc_1: 0.5755\n",
      "Epoch 3/50\n",
      "16/16 [==============================] - 2s 120ms/step - loss: 4.0249 - binary_accuracy: 0.6627 - auc_1: 0.6460 - val_loss: 3.0621 - val_binary_accuracy: 0.7229 - val_auc_1: 0.7874\n",
      "Epoch 4/50\n",
      "16/16 [==============================] - 2s 120ms/step - loss: 2.2079 - binary_accuracy: 0.7269 - auc_1: 0.7453 - val_loss: 1.9283 - val_binary_accuracy: 0.7590 - val_auc_1: 0.7836\n",
      "Epoch 5/50\n",
      "16/16 [==============================] - 2s 120ms/step - loss: 0.8643 - binary_accuracy: 0.7952 - auc_1: 0.8462 - val_loss: 1.9595 - val_binary_accuracy: 0.5904 - val_auc_1: 0.7991\n",
      "Epoch 6/50\n",
      "16/16 [==============================] - 2s 120ms/step - loss: 0.5787 - binary_accuracy: 0.8072 - auc_1: 0.8807 - val_loss: 1.0714 - val_binary_accuracy: 0.7470 - val_auc_1: 0.8390\n",
      "Epoch 7/50\n",
      "16/16 [==============================] - 2s 120ms/step - loss: 0.4065 - binary_accuracy: 0.8474 - auc_1: 0.9161 - val_loss: 0.9141 - val_binary_accuracy: 0.6627 - val_auc_1: 0.8412\n",
      "Epoch 8/50\n",
      "16/16 [==============================] - 2s 120ms/step - loss: 0.7167 - binary_accuracy: 0.7590 - auc_1: 0.8398 - val_loss: 1.0584 - val_binary_accuracy: 0.7229 - val_auc_1: 0.8245\n",
      "Epoch 9/50\n",
      "16/16 [==============================] - 2s 120ms/step - loss: 0.7081 - binary_accuracy: 0.7831 - auc_1: 0.8473 - val_loss: 2.2212 - val_binary_accuracy: 0.6747 - val_auc_1: 0.6739\n",
      "Epoch 10/50\n",
      "16/16 [==============================] - 2s 121ms/step - loss: 1.0121 - binary_accuracy: 0.7269 - auc_1: 0.7832 - val_loss: 1.7450 - val_binary_accuracy: 0.6988 - val_auc_1: 0.7186\n",
      "Epoch 11/50\n",
      "16/16 [==============================] - 2s 120ms/step - loss: 0.5381 - binary_accuracy: 0.8434 - auc_1: 0.9069 - val_loss: 0.5816 - val_binary_accuracy: 0.7590 - val_auc_1: 0.8428\n",
      "Epoch 12/50\n",
      "16/16 [==============================] - 2s 121ms/step - loss: 1.3196 - binary_accuracy: 0.6867 - auc_1: 0.7532 - val_loss: 0.6692 - val_binary_accuracy: 0.7349 - val_auc_1: 0.8491\n",
      "Epoch 13/50\n",
      "16/16 [==============================] - 2s 120ms/step - loss: 0.9100 - binary_accuracy: 0.7550 - auc_1: 0.8393 - val_loss: 1.1393 - val_binary_accuracy: 0.6506 - val_auc_1: 0.8437\n",
      "Epoch 14/50\n",
      "16/16 [==============================] - 2s 120ms/step - loss: 0.2623 - binary_accuracy: 0.8956 - auc_1: 0.9627 - val_loss: 0.6671 - val_binary_accuracy: 0.7711 - val_auc_1: 0.8525\n",
      "Epoch 15/50\n",
      "16/16 [==============================] - 2s 121ms/step - loss: 0.0826 - binary_accuracy: 0.9679 - auc_1: 0.9970 - val_loss: 0.6694 - val_binary_accuracy: 0.7108 - val_auc_1: 0.8500\n",
      "Epoch 16/50\n",
      "16/16 [==============================] - 2s 121ms/step - loss: 0.0677 - binary_accuracy: 0.9839 - auc_1: 0.9992 - val_loss: 0.6983 - val_binary_accuracy: 0.7229 - val_auc_1: 0.8560\n",
      "Epoch 17/50\n",
      "16/16 [==============================] - 2s 121ms/step - loss: 0.1917 - binary_accuracy: 0.9277 - auc_1: 0.9760 - val_loss: 0.5232 - val_binary_accuracy: 0.7711 - val_auc_1: 0.8437\n",
      "Epoch 18/50\n",
      "16/16 [==============================] - 2s 120ms/step - loss: 0.2372 - binary_accuracy: 0.9076 - auc_1: 0.9688 - val_loss: 0.5508 - val_binary_accuracy: 0.7831 - val_auc_1: 0.8491\n",
      "Epoch 19/50\n",
      "16/16 [==============================] - 2s 120ms/step - loss: 0.0530 - binary_accuracy: 0.9880 - auc_1: 0.9997 - val_loss: 0.5137 - val_binary_accuracy: 0.7711 - val_auc_1: 0.8484\n",
      "Epoch 20/50\n",
      "16/16 [==============================] - 2s 120ms/step - loss: 0.0322 - binary_accuracy: 1.0000 - auc_1: 1.0000 - val_loss: 0.5405 - val_binary_accuracy: 0.7711 - val_auc_1: 0.8497\n",
      "Epoch 21/50\n",
      "16/16 [==============================] - 2s 120ms/step - loss: 0.0420 - binary_accuracy: 0.9920 - auc_1: 1.0000 - val_loss: 0.5538 - val_binary_accuracy: 0.7711 - val_auc_1: 0.8447\n",
      "Epoch 22/50\n",
      "16/16 [==============================] - 2s 120ms/step - loss: 0.0374 - binary_accuracy: 1.0000 - auc_1: 1.0000 - val_loss: 0.5384 - val_binary_accuracy: 0.7711 - val_auc_1: 0.8453\n",
      "Epoch 23/50\n",
      "16/16 [==============================] - 2s 119ms/step - loss: 0.0358 - binary_accuracy: 1.0000 - auc_1: 1.0000 - val_loss: 0.5964 - val_binary_accuracy: 0.7590 - val_auc_1: 0.8447\n",
      "Epoch 24/50\n",
      "16/16 [==============================] - 2s 119ms/step - loss: 0.1636 - binary_accuracy: 0.9157 - auc_1: 0.9821 - val_loss: 0.7017 - val_binary_accuracy: 0.7108 - val_auc_1: 0.8491\n",
      "Epoch 25/50\n",
      "16/16 [==============================] - 2s 121ms/step - loss: 0.1982 - binary_accuracy: 0.9076 - auc_1: 0.9760 - val_loss: 0.7689 - val_binary_accuracy: 0.7349 - val_auc_1: 0.8447\n",
      "Epoch 26/50\n",
      "16/16 [==============================] - 2s 120ms/step - loss: 0.7154 - binary_accuracy: 0.7711 - auc_1: 0.8621 - val_loss: 0.8132 - val_binary_accuracy: 0.7470 - val_auc_1: 0.8582\n",
      "Epoch 27/50\n",
      "16/16 [==============================] - 2s 121ms/step - loss: 0.7911 - binary_accuracy: 0.8112 - auc_1: 0.8719 - val_loss: 1.4443 - val_binary_accuracy: 0.6747 - val_auc_1: 0.8226\n",
      "Epoch 28/50\n",
      "16/16 [==============================] - 2s 120ms/step - loss: 0.5201 - binary_accuracy: 0.8675 - auc_1: 0.9211 - val_loss: 1.1246 - val_binary_accuracy: 0.7108 - val_auc_1: 0.8057\n",
      "Epoch 29/50\n",
      "16/16 [==============================] - 2s 120ms/step - loss: 0.0519 - binary_accuracy: 0.9759 - auc_1: 0.9990 - val_loss: 1.4413 - val_binary_accuracy: 0.6988 - val_auc_1: 0.7406\n",
      "Epoch 30/50\n",
      "16/16 [==============================] - 2s 121ms/step - loss: 0.0411 - binary_accuracy: 0.9839 - auc_1: 0.9990 - val_loss: 1.4101 - val_binary_accuracy: 0.7108 - val_auc_1: 0.7664\n",
      "Epoch 31/50\n",
      "16/16 [==============================] - 2s 119ms/step - loss: 0.5972 - binary_accuracy: 0.8313 - auc_1: 0.9128 - val_loss: 0.9329 - val_binary_accuracy: 0.6988 - val_auc_1: 0.8418\n",
      "Epoch 32/50\n",
      "16/16 [==============================] - 2s 121ms/step - loss: 0.6508 - binary_accuracy: 0.7831 - auc_1: 0.8882 - val_loss: 1.0167 - val_binary_accuracy: 0.7470 - val_auc_1: 0.8173\n",
      "Epoch 33/50\n",
      "16/16 [==============================] - 2s 120ms/step - loss: 0.0876 - binary_accuracy: 0.9719 - auc_1: 0.9958 - val_loss: 2.1423 - val_binary_accuracy: 0.6988 - val_auc_1: 0.7082\n"
     ]
    },
    {
     "data": {
      "text/plain": [
       "<keras.callbacks.History at 0x7f1f6c930a90>"
      ]
     },
     "execution_count": 23,
     "metadata": {},
     "output_type": "execute_result"
    }
   ],
   "source": [
    "initial_learning_rate = 0.0001\n",
    "lr_schedule = keras.optimizers.schedules.ExponentialDecay(\n",
    "    initial_learning_rate, decay_steps=100000, decay_rate=0.95, staircase=True)\n",
    "\n",
    "# Compile model.\n",
    "model.compile(\n",
    "    loss=\"binary_crossentropy\",\n",
    "    optimizer=keras.optimizers.Adam(learning_rate=lr_schedule),\n",
    "    metrics=[tf.keras.metrics.BinaryAccuracy(),tf.keras.metrics.AUC()],\n",
    ")\n",
    "\n",
    "# Define callbacks.\n",
    "#checkpoint_cb = keras.callbacks.ModelCheckpoint(\n",
    " #   \"3d_image_classification_Cxa_adamDFNN.h5\", save_best_only=True)\n",
    "early_stopping_cb = keras.callbacks.EarlyStopping(monitor=\"val_binary_accuracy\", patience=15)\n",
    "\n",
    "# Train the model, doing validation at the end of each epoch\n",
    "epochs = 50\n",
    "model.fit(\n",
    "    train_dataset,\n",
    "    validation_data=validation_dataset,\n",
    "    epochs=epochs,\n",
    "    shuffle=True,\n",
    "    callbacks=early_stopping_cb,\n",
    ")"
   ]
  },
  {
   "cell_type": "code",
   "execution_count": 24,
   "metadata": {},
   "outputs": [
    {
     "name": "stdout",
     "output_type": "stream",
     "text": [
      "2/2 [==============================] - 0s 52ms/step - loss: 2.0732 - binary_accuracy: 0.6949 - auc_1: 0.7912\n"
     ]
    },
    {
     "data": {
      "text/plain": [
       "[2.073166847229004, 0.694915235042572, 0.7911548018455505]"
      ]
     },
     "execution_count": 24,
     "metadata": {},
     "output_type": "execute_result"
    }
   ],
   "source": [
    "#evaluate on the holdout data\n",
    "model.evaluate(x_val, y_val)"
   ]
  },
  {
   "cell_type": "code",
   "execution_count": 25,
   "metadata": {},
   "outputs": [
    {
     "name": "stdout",
     "output_type": "stream",
     "text": [
      "              precision    recall  f1-score   support\n",
      "\n",
      "           0       0.68      0.97      0.80        37\n",
      "           1       0.83      0.23      0.36        22\n",
      "\n",
      "    accuracy                           0.69        59\n",
      "   macro avg       0.76      0.60      0.58        59\n",
      "weighted avg       0.74      0.69      0.63        59\n",
      "\n"
     ]
    }
   ],
   "source": [
    "from sklearn.metrics import classification_report, confusion_matrix\n",
    "\n",
    "preds = model.predict(x_val)\n",
    "\n",
    "preds = np.where(preds > .5, 1,0)\n",
    "\n",
    "\n",
    "\n",
    "print(classification_report(y_val, preds))\n",
    "cm = confusion_matrix(y_val, preds)"
   ]
  },
  {
   "cell_type": "code",
   "execution_count": 26,
   "metadata": {},
   "outputs": [
    {
     "data": {
      "image/png": "[encoded data removed]",
      "text/plain": [
       "<Figure size 432x288 with 2 Axes>"
      ]
     },
     "metadata": {
      "needs_background": "light"
     },
     "output_type": "display_data"
    }
   ],
   "source": [
    "import seaborn as sns\n",
    "\n",
    "ax = sns.heatmap(cm, annot=True, cmap='Blues')\n",
    "\n",
    "ax.set_title('Confusion Matrix');\n",
    "ax.set_xlabel('\\nPredicted Values')\n",
    "ax.set_ylabel('Actual Values ');\n",
    "\n",
    "## Ticket labels - List must be in alphabetical order\n",
    "ax.xaxis.set_ticklabels(['False','True'])\n",
    "ax.yaxis.set_ticklabels(['False','True'])\n",
    "\n",
    "## Display the visualization of the Confusion Matrix.\n",
    "plt.show()"
   ]
  },
  {
   "cell_type": "code",
   "execution_count": 27,
   "metadata": {},
   "outputs": [],
   "source": [
    "y_pred_keras = model.predict(x_val).ravel()\n",
    "fpr_keras, tpr_keras, thresholds_keras = roc_curve(y_val, y_pred_keras)"
   ]
  },
  {
   "cell_type": "code",
   "execution_count": 28,
   "metadata": {},
   "outputs": [],
   "source": [
    "auc_keras = auc(fpr_keras, tpr_keras)"
   ]
  },
  {
   "cell_type": "code",
   "execution_count": 29,
   "metadata": {},
   "outputs": [
    {
     "data": {
      "text/plain": [
       "0.8169533169533171"
      ]
     },
     "execution_count": 29,
     "metadata": {},
     "output_type": "execute_result"
    }
   ],
   "source": [
    "auc_keras"
   ]
  },
  {
   "cell_type": "code",
   "execution_count": 30,
   "metadata": {},
   "outputs": [
    {
     "data": {
      "image/png": "[encoded data removed]",
      "text/plain": [
       "<Figure size 432x288 with 1 Axes>"
      ]
     },
     "metadata": {
      "needs_background": "light"
     },
     "output_type": "display_data"
    }
   ],
   "source": [
    "plt.figure(1)\n",
    "plt.plot([0, 1], [0, 1], 'k--')\n",
    "plt.plot(fpr_keras, tpr_keras, label='Model (area = {:.3f})'.format(auc_keras))\n",
    "plt.xlabel('False positive rate')\n",
    "plt.ylabel('True positive rate')\n",
    "plt.title('ROC curve')\n",
    "plt.legend(loc='best')\n",
    "plt.show()"
   ]
  },
  {
   "cell_type": "markdown",
   "metadata": {},
   "source": [
    "### 2.3 Complex Highest performing Dense FNN neural network model from Mellema 2022 with modifications"
   ]
  },
  {
   "cell_type": "code",
   "execution_count": 31,
   "metadata": {},
   "outputs": [
    {
     "name": "stdout",
     "output_type": "stream",
     "text": [
      "Model: \"DFNN_complex\"\n",
      "_________________________________________________________________\n",
      " Layer (type)                Output Shape              Param #   \n",
      "=================================================================\n",
      " input_3 (InputLayer)        [(None, 61, 73, 61, 1)]   0         \n",
      "                                                                 \n",
      " dense_8 (Dense)             (None, 61, 73, 61, 128)   256       \n",
      "                                                                 \n",
      " batch_normalization_1 (Batc  (None, 61, 73, 61, 128)  512       \n",
      " hNormalization)                                                 \n",
      "                                                                 \n",
      " dropout_2 (Dropout)         (None, 61, 73, 61, 128)   0         \n",
      "                                                                 \n",
      " dense_9 (Dense)             (None, 61, 73, 61, 128)   16512     \n",
      "                                                                 \n",
      " dropout_3 (Dropout)         (None, 61, 73, 61, 128)   0         \n",
      "                                                                 \n",
      " dense_10 (Dense)            (None, 61, 73, 61, 64)    8256      \n",
      "                                                                 \n",
      " dropout_4 (Dropout)         (None, 61, 73, 61, 64)    0         \n",
      "                                                                 \n",
      " dense_11 (Dense)            (None, 61, 73, 61, 42)    2730      \n",
      "                                                                 \n",
      " flatten_2 (Flatten)         (None, 11408586)          0         \n",
      "                                                                 \n",
      " dense_12 (Dense)            (None, 1)                 11408587  \n",
      "                                                                 \n",
      "=================================================================\n",
      "Total params: 11,436,853\n",
      "Trainable params: 11,436,597\n",
      "Non-trainable params: 256\n",
      "_________________________________________________________________\n"
     ]
    }
   ],
   "source": [
    "def Dense_model(width=61, height=73, depth=61):\n",
    "    \"\"\"Build a complex Highest performing Dense FNN neural network model from Mellema 2022.\"\"\"\n",
    "\n",
    "    inputs = keras.Input((width, height, depth, 1))\n",
    "    \n",
    "    x = layers.Dense(units=128, activation=\"relu\", kernel_regularizer = keras.regularizers.L2(0.00011))(inputs)\n",
    "    \n",
    "    x = layers.BatchNormalization()(x)\n",
    "    \n",
    "    x = layers.Dropout(0.18)(x)\n",
    "    x = layers.Dense(units=128, activation=\"relu\")(x)\n",
    "    x = layers.Dropout(0.18)(x)\n",
    "    x = layers.Dense(units=64, activation=\"relu\")(x)\n",
    "    x = layers.Dropout(0.18)(x)\n",
    "    x = layers.Dense(units=42, activation=\"relu\")(x)\n",
    "    x = layers.Flatten()(x)\n",
    "    \n",
    "    outputs = layers.Dense(units=1, activation=\"sigmoid\")(x)\n",
    "\n",
    "    # Define the model.\n",
    "    model = keras.Model(inputs, outputs, name=\"DFNN_complex\")\n",
    "    return model\n",
    "\n",
    "\n",
    "# Build model.\n",
    "model = Dense_model(width=61, height=73, depth=61)\n",
    "model.summary()"
   ]
  },
  {
   "cell_type": "code",
   "execution_count": 32,
   "metadata": {},
   "outputs": [
    {
     "name": "stdout",
     "output_type": "stream",
     "text": [
      "Epoch 1/50\n",
      "16/16 [==============================] - 5s 241ms/step - loss: 11.2556 - binary_accuracy: 0.5382 - auc_2: 0.5272 - val_loss: 3.7643 - val_binary_accuracy: 0.7229 - val_auc_2: 0.6943\n",
      "Epoch 2/50\n",
      "16/16 [==============================] - 4s 226ms/step - loss: 1.5451 - binary_accuracy: 0.6586 - auc_2: 0.7013 - val_loss: 1.7533 - val_binary_accuracy: 0.7470 - val_auc_2: 0.7440\n",
      "Epoch 3/50\n",
      "16/16 [==============================] - 4s 225ms/step - loss: 1.3597 - binary_accuracy: 0.6988 - auc_2: 0.7334 - val_loss: 1.3938 - val_binary_accuracy: 0.7229 - val_auc_2: 0.7519\n",
      "Epoch 4/50\n",
      "16/16 [==============================] - 4s 225ms/step - loss: 1.0136 - binary_accuracy: 0.7149 - auc_2: 0.7838 - val_loss: 2.9320 - val_binary_accuracy: 0.4578 - val_auc_2: 0.7846\n",
      "Epoch 5/50\n",
      "16/16 [==============================] - 4s 226ms/step - loss: 3.1905 - binary_accuracy: 0.5863 - auc_2: 0.6066 - val_loss: 0.6764 - val_binary_accuracy: 0.7711 - val_auc_2: 0.8365\n",
      "Epoch 6/50\n",
      "16/16 [==============================] - 4s 225ms/step - loss: 2.5744 - binary_accuracy: 0.6064 - auc_2: 0.6398 - val_loss: 1.0934 - val_binary_accuracy: 0.7470 - val_auc_2: 0.7805\n",
      "Epoch 7/50\n",
      "16/16 [==============================] - 4s 227ms/step - loss: 1.2227 - binary_accuracy: 0.7309 - auc_2: 0.7783 - val_loss: 0.6286 - val_binary_accuracy: 0.7711 - val_auc_2: 0.8245\n",
      "Epoch 8/50\n",
      "16/16 [==============================] - 4s 225ms/step - loss: 0.6967 - binary_accuracy: 0.7550 - auc_2: 0.8453 - val_loss: 0.5462 - val_binary_accuracy: 0.7590 - val_auc_2: 0.8314\n",
      "Epoch 9/50\n",
      "16/16 [==============================] - 4s 225ms/step - loss: 0.5137 - binary_accuracy: 0.8112 - auc_2: 0.8728 - val_loss: 0.5009 - val_binary_accuracy: 0.7590 - val_auc_2: 0.8371\n",
      "Epoch 10/50\n",
      "16/16 [==============================] - 4s 224ms/step - loss: 0.4137 - binary_accuracy: 0.8514 - auc_2: 0.8929 - val_loss: 0.5868 - val_binary_accuracy: 0.6988 - val_auc_2: 0.8365\n",
      "Epoch 11/50\n",
      "16/16 [==============================] - 4s 225ms/step - loss: 0.2480 - binary_accuracy: 0.8876 - auc_2: 0.9629 - val_loss: 0.5107 - val_binary_accuracy: 0.7590 - val_auc_2: 0.8368\n",
      "Epoch 12/50\n",
      "16/16 [==============================] - 4s 225ms/step - loss: 0.2342 - binary_accuracy: 0.8996 - auc_2: 0.9674 - val_loss: 0.5444 - val_binary_accuracy: 0.7229 - val_auc_2: 0.8358\n",
      "Epoch 13/50\n",
      "16/16 [==============================] - 4s 226ms/step - loss: 0.2280 - binary_accuracy: 0.9116 - auc_2: 0.9740 - val_loss: 0.4804 - val_binary_accuracy: 0.7590 - val_auc_2: 0.8352\n",
      "Epoch 14/50\n",
      "16/16 [==============================] - 4s 225ms/step - loss: 0.3228 - binary_accuracy: 0.8715 - auc_2: 0.9304 - val_loss: 0.8162 - val_binary_accuracy: 0.5542 - val_auc_2: 0.8368\n",
      "Epoch 15/50\n",
      "16/16 [==============================] - 4s 224ms/step - loss: 0.8517 - binary_accuracy: 0.6707 - auc_2: 0.7947 - val_loss: 0.5197 - val_binary_accuracy: 0.7470 - val_auc_2: 0.8101\n",
      "Epoch 16/50\n",
      "16/16 [==============================] - 4s 225ms/step - loss: 0.2974 - binary_accuracy: 0.8755 - auc_2: 0.9425 - val_loss: 0.5030 - val_binary_accuracy: 0.7711 - val_auc_2: 0.8085\n",
      "Epoch 17/50\n",
      "16/16 [==============================] - 4s 225ms/step - loss: 0.1642 - binary_accuracy: 0.9478 - auc_2: 0.9856 - val_loss: 0.4958 - val_binary_accuracy: 0.7470 - val_auc_2: 0.8211\n",
      "Epoch 18/50\n",
      "16/16 [==============================] - 4s 225ms/step - loss: 0.1755 - binary_accuracy: 0.9357 - auc_2: 0.9853 - val_loss: 0.5029 - val_binary_accuracy: 0.7470 - val_auc_2: 0.8198\n",
      "Epoch 19/50\n",
      "16/16 [==============================] - 4s 224ms/step - loss: 0.1469 - binary_accuracy: 0.9357 - auc_2: 0.9928 - val_loss: 0.4873 - val_binary_accuracy: 0.7711 - val_auc_2: 0.8226\n",
      "Epoch 20/50\n",
      "16/16 [==============================] - 4s 225ms/step - loss: 0.1921 - binary_accuracy: 0.9076 - auc_2: 0.9765 - val_loss: 0.6093 - val_binary_accuracy: 0.6747 - val_auc_2: 0.8274\n"
     ]
    },
    {
     "data": {
      "text/plain": [
       "<keras.callbacks.History at 0x7f1f081dc070>"
      ]
     },
     "execution_count": 32,
     "metadata": {},
     "output_type": "execute_result"
    }
   ],
   "source": [
    "initial_learning_rate = 0.0001\n",
    "lr_schedule = keras.optimizers.schedules.ExponentialDecay(\n",
    "    initial_learning_rate, decay_steps=10000, decay_rate=0.96, staircase=True)\n",
    "\n",
    "# Compile model.\n",
    "model.compile(\n",
    "    loss=\"binary_crossentropy\",\n",
    "    optimizer=keras.optimizers.Adam(learning_rate=lr_schedule),\n",
    "    metrics=[tf.keras.metrics.BinaryAccuracy(),tf.keras.metrics.AUC()],\n",
    ")\n",
    "\n",
    "# Define callbacks.\n",
    "#checkpoint_cb = keras.callbacks.ModelCheckpoint(\n",
    " #   \"3d_image_classification_Cxa_adamDFNN.h5\", save_best_only=True)\n",
    "early_stopping_cb = keras.callbacks.EarlyStopping(monitor=\"val_binary_accuracy\", patience=15)\n",
    "\n",
    "# Train the model, doing validation at the end of each epoch\n",
    "epochs = 50\n",
    "model.fit(\n",
    "    train_dataset,\n",
    "    validation_data=validation_dataset,\n",
    "    epochs=epochs,\n",
    "    shuffle=True,\n",
    "    callbacks=[early_stopping_cb],\n",
    ")\n",
    "\n",
    "# # Train the model, doing validation at the end of each epoch\n",
    "# epochs = 50\n",
    "# model.fit(\n",
    "#     train_dataset,\n",
    "#     validation_data=validation_dataset,\n",
    "#     epochs=epochs,\n",
    "#     shuffle=True,\n",
    "#     callbacks=[checkpoint_cb, early_stopping_cb],\n",
    "# )"
   ]
  },
  {
   "cell_type": "code",
   "execution_count": 33,
   "metadata": {},
   "outputs": [
    {
     "name": "stdout",
     "output_type": "stream",
     "text": [
      "2/2 [==============================] - 0s 98ms/step - loss: 0.6372 - binary_accuracy: 0.6271 - auc_2: 0.8237\n"
     ]
    },
    {
     "data": {
      "text/plain": [
       "[0.6371505260467529, 0.6271186470985413, 0.8237101435661316]"
      ]
     },
     "execution_count": 33,
     "metadata": {},
     "output_type": "execute_result"
    }
   ],
   "source": [
    "#evaluate on the holdout data\n",
    "model.evaluate(x_val, y_val)"
   ]
  },
  {
   "cell_type": "code",
   "execution_count": 34,
   "metadata": {},
   "outputs": [
    {
     "name": "stdout",
     "output_type": "stream",
     "text": [
      "              precision    recall  f1-score   support\n",
      "\n",
      "           0       0.83      0.51      0.63        37\n",
      "           1       0.50      0.82      0.62        22\n",
      "\n",
      "    accuracy                           0.63        59\n",
      "   macro avg       0.66      0.67      0.63        59\n",
      "weighted avg       0.70      0.63      0.63        59\n",
      "\n"
     ]
    }
   ],
   "source": [
    "from sklearn.metrics import classification_report, confusion_matrix\n",
    "\n",
    "preds = model.predict(x_val)\n",
    "\n",
    "preds = np.where(preds > .5, 1,0)\n",
    "\n",
    "\n",
    "\n",
    "print(classification_report(y_val, preds))\n",
    "cm = confusion_matrix(y_val, preds)"
   ]
  },
  {
   "cell_type": "code",
   "execution_count": 35,
   "metadata": {},
   "outputs": [
    {
     "data": {
      "image/png": "[encoded data removed]",
      "text/plain": [
       "<Figure size 432x288 with 2 Axes>"
      ]
     },
     "metadata": {
      "needs_background": "light"
     },
     "output_type": "display_data"
    }
   ],
   "source": [
    "import seaborn as sns\n",
    "\n",
    "ax = sns.heatmap(cm, annot=True, cmap='Blues')\n",
    "\n",
    "ax.set_title('Confusion Matrix');\n",
    "ax.set_xlabel('\\nPredicted Values')\n",
    "ax.set_ylabel('Actual Values ');\n",
    "\n",
    "## Ticket labels - List must be in alphabetical order\n",
    "ax.xaxis.set_ticklabels(['False','True'])\n",
    "ax.yaxis.set_ticklabels(['False','True'])\n",
    "\n",
    "## Display the visualization of the Confusion Matrix.\n",
    "plt.show()"
   ]
  },
  {
   "cell_type": "code",
   "execution_count": 36,
   "metadata": {},
   "outputs": [],
   "source": [
    "y_pred_keras = model.predict(x_val).ravel()\n",
    "fpr_keras, tpr_keras, thresholds_keras = roc_curve(y_val, y_pred_keras)"
   ]
  },
  {
   "cell_type": "code",
   "execution_count": 37,
   "metadata": {},
   "outputs": [],
   "source": [
    "auc_keras = auc(fpr_keras, tpr_keras)"
   ]
  },
  {
   "cell_type": "code",
   "execution_count": 38,
   "metadata": {},
   "outputs": [
    {
     "data": {
      "text/plain": [
       "0.8230958230958231"
      ]
     },
     "execution_count": 38,
     "metadata": {},
     "output_type": "execute_result"
    }
   ],
   "source": [
    "auc_keras"
   ]
  },
  {
   "cell_type": "code",
   "execution_count": 39,
   "metadata": {},
   "outputs": [
    {
     "data": {
      "image/png": "[encoded data removed]",
      "text/plain": [
       "<Figure size 432x288 with 1 Axes>"
      ]
     },
     "metadata": {
      "needs_background": "light"
     },
     "output_type": "display_data"
    }
   ],
   "source": [
    "plt.figure(1)\n",
    "plt.plot([0, 1], [0, 1], 'k--')\n",
    "plt.plot(fpr_keras, tpr_keras, label='Model (area = {:.3f})'.format(auc_keras))\n",
    "plt.xlabel('False positive rate')\n",
    "plt.ylabel('True positive rate')\n",
    "plt.title('ROC curve')\n",
    "plt.legend(loc='best')\n",
    "plt.show()"
   ]
  }
 ],
 "metadata": {
  "kernelspec": {
   "display_name": "Tensorflow 2.8.0/Keras Py3.9",
   "language": "python",
   "name": "tensorflow-2.8.0"
  },
  "language_info": {
   "codemirror_mode": {
    "name": "ipython",
    "version": 3
   },
   "file_extension": ".py",
   "mimetype": "text/x-python",
   "name": "python",
   "nbconvert_exporter": "python",
   "pygments_lexer": "ipython3",
   "version": "3.9.10"
  }
 },
 "nbformat": 4,
 "nbformat_minor": 4
}
