{
 "cells": [
  {
   "cell_type": "markdown",
   "metadata": {},
   "source": [
    "# 3.4 Deep Feedforward Neural Network (w/ Double Actuals)"
   ]
  },
  {
   "cell_type": "markdown",
   "metadata": {},
   "source": [
    "## 1. Data Load In"
   ]
  },
  {
   "cell_type": "code",
   "execution_count": 1,
   "metadata": {},
   "outputs": [],
   "source": [
    "import nibabel as nib\n",
    "import numpy as np\n",
    "import glob\n",
    "import sys\n",
    "import sklearn\n",
    "import os\n",
    "import numpy as np\n",
    "import matplotlib as mpl\n",
    "import matplotlib.pyplot as plt\n",
    "from functools import partial\n",
    "import PIL\n",
    "import PIL.Image\n",
    "import pandas as pd\n",
    "\n",
    "import tensorflow as tf\n",
    "from tensorflow import keras\n",
    "from tensorflow.keras import layers\n",
    "from sklearn.model_selection import train_test_split\n",
    "\n",
    "np.random.seed(42) # note that you must use the same seed to ensure consistentcy in your training/validation/testing\n",
    "tf.random.set_seed(42)"
   ]
  },
  {
   "cell_type": "code",
   "execution_count": 2,
   "metadata": {},
   "outputs": [],
   "source": [
    "# cases + conrols df\n",
    "df = pd.read_csv('/project/ds6050-soa2wg/team_lambda_II/ASD_DSM_CasesvsControls.csv', sep = ',')"
   ]
  },
  {
   "cell_type": "code",
   "execution_count": 3,
   "metadata": {},
   "outputs": [
    {
     "name": "stdout",
     "output_type": "stream",
     "text": [
      "There are 22 female cases\n",
      "---------------------------------------\n",
      "There are 61 female controls\n",
      "---------------------------------------\n",
      "There are 124 male cases\n",
      "---------------------------------------\n",
      "There are 184 male controls\n",
      "---------------------------------------\n",
      "There are 146 total cases and 245 total controls! 391 participants in total\n"
     ]
    }
   ],
   "source": [
    "# obtain paths for all images\n",
    "images_paths_f_case = list(df.query(\"SEX_ == 'Female' & DX_Control == 'Autism'\")['PATH'])\n",
    "images_paths_f_control = list(df.query(\"SEX_ == 'Female' & DX_Control == 'Control'\")['PATH'])\n",
    "images_paths_m_case = list(df.query(\"SEX_ == 'Male' & DX_Control == 'Autism'\")['PATH'])\n",
    "images_paths_m_control = list(df.query(\"SEX_ == 'Male' & DX_Control == 'Control'\")['PATH'])\n",
    "\n",
    "total_cases = len(images_paths_f_case) + len(images_paths_m_case)\n",
    "total_controls = len(images_paths_f_control ) + len(images_paths_m_control)\n",
    "# print out number of participants per category\n",
    "print('There are {} female cases'.format(str(len(images_paths_f_case))))\n",
    "print('---------------------------------------')\n",
    "print('There are {} female controls'.format(str(len(images_paths_f_control))))\n",
    "print('---------------------------------------')\n",
    "print('There are {} male cases'.format(str(len(images_paths_m_case))))\n",
    "print('---------------------------------------')\n",
    "print('There are {} male controls'.format(str(len(images_paths_m_control))))\n",
    "print('---------------------------------------')\n",
    "print(f'There are {total_cases} total cases and {total_controls} total controls! {total_controls + total_cases} participants in total')\n",
    "# make one giant list - ORIGINAL\n",
    "#images_paths = images_paths_f_case  + images_paths_f_control + images_paths_m_case + images_paths_m_control\n",
    "\n",
    "# ~triple female and ~1.5 male for 50 more female and 50 more male\n",
    "images_paths_f_case_6 = list(df.query(\"SEX_ == 'Female' & DX_Control == 'Autism'\")['PATH'])[:6]\n",
    "images_paths_m_case_50 = list(df.query(\"SEX_ == 'Male' & DX_Control == 'Autism'\")['PATH'])[:50]\n",
    "images_paths = images_paths_f_case  + images_paths_f_control + images_paths_m_case + images_paths_m_control \\\n",
    "                + images_paths_f_case + images_paths_f_case + images_paths_f_case_6\\\n",
    "                + images_paths_m_case_50\n",
    "\n",
    "\n",
    "num_im = len(images_paths)\n",
    "image_array = []"
   ]
  },
  {
   "cell_type": "code",
   "execution_count": 4,
   "metadata": {},
   "outputs": [],
   "source": [
    "final_list = [] # create image array from paths\n",
    "for path in images_paths:\n",
    "    try: \n",
    "        img = nib.load(path)\n",
    "        image_data = img.get_fdata()\n",
    "        image_array.append(image_data)\n",
    "        final_list.append(path)\n",
    "    except:\n",
    "        continue\n",
    "\n",
    "image_array = np.asarray(image_array).astype('float32')"
   ]
  },
  {
   "cell_type": "code",
   "execution_count": 5,
   "metadata": {},
   "outputs": [
    {
     "data": {
      "text/plain": [
       "(491, 61, 73, 61)"
      ]
     },
     "execution_count": 5,
     "metadata": {},
     "output_type": "execute_result"
    }
   ],
   "source": [
    "image_array.shape"
   ]
  },
  {
   "cell_type": "code",
   "execution_count": 6,
   "metadata": {},
   "outputs": [
    {
     "data": {
      "text/plain": [
       "2    245\n",
       "1    146\n",
       "Name: DX_GROUP, dtype: int64"
      ]
     },
     "execution_count": 6,
     "metadata": {},
     "output_type": "execute_result"
    }
   ],
   "source": [
    "pheno = df[['FILE_ID', 'DX_GROUP']]\n",
    "pheno_array = np.array(pheno['DX_GROUP'])\n",
    "pheno_array = np.where(pheno_array == 2, 0, pheno_array) # 0 = control, 1 = dx\n",
    "# distribution\n",
    "df['DX_GROUP'].value_counts()"
   ]
  },
  {
   "cell_type": "code",
   "execution_count": 7,
   "metadata": {},
   "outputs": [],
   "source": [
    "# more pheno\n",
    "more_pheno_cases = np.ones((100,), dtype=int)\n",
    "\n",
    "# append to pheno_array\n",
    "all_pheno = np.concatenate((pheno_array, more_pheno_cases))"
   ]
  },
  {
   "cell_type": "code",
   "execution_count": 8,
   "metadata": {},
   "outputs": [],
   "source": [
    "#training and holdout split\n",
    "x_train, x_val, y_train, y_val = train_test_split(image_array, all_pheno, test_size = 0.15, random_state = 654)\n",
    "\n",
    "#training and testing split\n",
    "x_train, x_test, y_train, y_test = train_test_split(x_train, y_train, test_size = 0.25, random_state = 654)"
   ]
  },
  {
   "cell_type": "code",
   "execution_count": 9,
   "metadata": {},
   "outputs": [
    {
     "data": {
      "text/plain": [
       "<matplotlib.image.AxesImage at 0x7f935c334940>"
      ]
     },
     "execution_count": 9,
     "metadata": {},
     "output_type": "execute_result"
    },
    {
     "data": {
      "image/png": "[encoded data removed]",
      "text/plain": [
       "<Figure size 432x288 with 1 Axes>"
      ]
     },
     "metadata": {
      "needs_background": "light"
     },
     "output_type": "display_data"
    }
   ],
   "source": [
    "plt.imshow(x_train[15][48].T)"
   ]
  },
  {
   "cell_type": "code",
   "execution_count": 10,
   "metadata": {},
   "outputs": [
    {
     "name": "stderr",
     "output_type": "stream",
     "text": [
      "2022-05-05 04:26:04.612820: I tensorflow/core/platform/cpu_feature_guard.cc:151] This TensorFlow binary is optimized with oneAPI Deep Neural Network Library (oneDNN) to use the following CPU instructions in performance-critical operations:  AVX2 FMA\n",
      "To enable them in other operations, rebuild TensorFlow with the appropriate compiler flags.\n",
      "2022-05-05 04:26:06.730582: I tensorflow/core/common_runtime/gpu/gpu_device.cc:1525] Created device /job:localhost/replica:0/task:0/device:GPU:0 with 38397 MB memory:  -> device: 0, name: NVIDIA A100-SXM4-40GB, pci bus id: 0000:0f:00.0, compute capability: 8.0\n",
      "2022-05-05 04:26:06.736470: I tensorflow/core/common_runtime/gpu/gpu_device.cc:1525] Created device /job:localhost/replica:0/task:0/device:GPU:1 with 38397 MB memory:  -> device: 1, name: NVIDIA A100-SXM4-40GB, pci bus id: 0000:47:00.0, compute capability: 8.0\n"
     ]
    }
   ],
   "source": [
    "# Define data loaders.\n",
    "train_loader = tf.data.Dataset.from_tensor_slices((x_train, y_train))\n",
    "validation_loader = tf.data.Dataset.from_tensor_slices((x_test, y_test))\n",
    "\n",
    "batch_size = 16\n",
    "# Augment the on the fly during training.\n",
    "train_dataset = (\n",
    "    train_loader.shuffle(len(x_train))\n",
    "#     .map(train_preprocessing)\n",
    "    .batch(batch_size)\n",
    "    .prefetch(tf.data.AUTOTUNE)\n",
    ")\n",
    "# Only rescale.\n",
    "validation_dataset = (\n",
    "    validation_loader.shuffle(len(x_test))\n",
    "#    .map(validation_preprocessing)\n",
    "    .batch(batch_size)\n",
    "    .prefetch(tf.data.AUTOTUNE)\n",
    ")"
   ]
  },
  {
   "cell_type": "markdown",
   "metadata": {},
   "source": [
    "## 2. Model"
   ]
  },
  {
   "cell_type": "markdown",
   "metadata": {},
   "source": [
    "### 2.1 Highest performing DFNN architecture from Mellema 2022 ** Best Performing with GAN data **"
   ]
  },
  {
   "cell_type": "code",
   "execution_count": 11,
   "metadata": {},
   "outputs": [
    {
     "name": "stdout",
     "output_type": "stream",
     "text": [
      "Model: \"DFNN\"\n",
      "_________________________________________________________________\n",
      " Layer (type)                Output Shape              Param #   \n",
      "=================================================================\n",
      " input_1 (InputLayer)        [(None, 61, 73, 61, 1)]   0         \n",
      "                                                                 \n",
      " dense (Dense)               (None, 61, 73, 61, 6)     12        \n",
      "                                                                 \n",
      " dense_1 (Dense)             (None, 61, 73, 61, 64)    448       \n",
      "                                                                 \n",
      " dropout (Dropout)           (None, 61, 73, 61, 64)    0         \n",
      "                                                                 \n",
      " dense_2 (Dense)             (None, 61, 73, 61, 64)    4160      \n",
      "                                                                 \n",
      " flatten (Flatten)           (None, 17384512)          0         \n",
      "                                                                 \n",
      " dense_3 (Dense)             (None, 1)                 17384513  \n",
      "                                                                 \n",
      "=================================================================\n",
      "Total params: 17,389,133\n",
      "Trainable params: 17,389,133\n",
      "Non-trainable params: 0\n",
      "_________________________________________________________________\n"
     ]
    }
   ],
   "source": [
    "def Dense_model(width=61, height=73, depth=61):\n",
    "    \"\"\"Build a Highest performing Dense FNN neural network model from Mellema 2022.\"\"\"\n",
    "\n",
    "    inputs = keras.Input((width, height, depth, 1))\n",
    "    \n",
    "    x = layers.Dense(6,kernel_regularizer=tf.keras.regularizers.l2(0.0001))(inputs)\n",
    "    x = layers.Dense(units=64, activation=\"relu\")(x)\n",
    "    x = layers.Dropout(0.13)(x)\n",
    "    x = layers.Dense(units=64, activation=\"relu\")(x)\n",
    "    x = layers.Flatten()(x)\n",
    "    \n",
    "\n",
    "    outputs = layers.Dense(units=1, activation=\"sigmoid\")(x)\n",
    "\n",
    "    # Define the model.\n",
    "    model = keras.Model(inputs, outputs, name=\"DFNN\")\n",
    "    return model\n",
    "\n",
    "\n",
    "# Build model.\n",
    "model = Dense_model(width=61, height=73, depth=61)\n",
    "model.summary()"
   ]
  },
  {
   "cell_type": "code",
   "execution_count": 12,
   "metadata": {},
   "outputs": [
    {
     "name": "stdout",
     "output_type": "stream",
     "text": [
      "Epoch 1/50\n"
     ]
    },
    {
     "name": "stderr",
     "output_type": "stream",
     "text": [
      "2022-05-05 04:26:10.713438: I tensorflow/stream_executor/cuda/cuda_blas.cc:1786] TensorFloat-32 will be used for the matrix multiplication. This will only be logged once.\n"
     ]
    },
    {
     "name": "stdout",
     "output_type": "stream",
     "text": [
      "20/20 [==============================] - 5s 90ms/step - loss: 37698.7891 - binary_accuracy: 0.5833 - auc: 0.5830 - val_loss: 7368.8853 - val_binary_accuracy: 0.6476 - val_auc: 0.6672\n",
      "Epoch 2/50\n",
      "20/20 [==============================] - 2s 76ms/step - loss: 5998.8975 - binary_accuracy: 0.6378 - auc: 0.6360 - val_loss: 3665.7810 - val_binary_accuracy: 0.6762 - val_auc: 0.6639\n",
      "Epoch 3/50\n",
      "20/20 [==============================] - 2s 76ms/step - loss: 7262.9688 - binary_accuracy: 0.6090 - auc: 0.6086 - val_loss: 4163.6187 - val_binary_accuracy: 0.6571 - val_auc: 0.6447\n",
      "Epoch 4/50\n",
      "20/20 [==============================] - 2s 75ms/step - loss: 13782.0127 - binary_accuracy: 0.5737 - auc: 0.5722 - val_loss: 8700.9404 - val_binary_accuracy: 0.6381 - val_auc: 0.6584\n",
      "Epoch 5/50\n",
      "20/20 [==============================] - 2s 75ms/step - loss: 6608.5557 - binary_accuracy: 0.6987 - auc: 0.6985 - val_loss: 3563.9827 - val_binary_accuracy: 0.6952 - val_auc: 0.6930\n",
      "Epoch 6/50\n",
      "20/20 [==============================] - 2s 76ms/step - loss: 4482.7153 - binary_accuracy: 0.6827 - auc: 0.6826 - val_loss: 10546.9688 - val_binary_accuracy: 0.4952 - val_auc: 0.5302\n",
      "Epoch 7/50\n",
      "20/20 [==============================] - 2s 75ms/step - loss: 4758.3101 - binary_accuracy: 0.6923 - auc: 0.6923 - val_loss: 3904.0950 - val_binary_accuracy: 0.6762 - val_auc: 0.6837\n",
      "Epoch 8/50\n",
      "20/20 [==============================] - 2s 75ms/step - loss: 2611.2629 - binary_accuracy: 0.7436 - auc: 0.7430 - val_loss: 3067.5295 - val_binary_accuracy: 0.6571 - val_auc: 0.6694\n",
      "Epoch 9/50\n",
      "20/20 [==============================] - 2s 76ms/step - loss: 1892.7603 - binary_accuracy: 0.7564 - auc: 0.7556 - val_loss: 3132.9521 - val_binary_accuracy: 0.6762 - val_auc: 0.6919\n",
      "Epoch 10/50\n",
      "20/20 [==============================] - 2s 75ms/step - loss: 1840.1975 - binary_accuracy: 0.7436 - auc: 0.7435 - val_loss: 2528.0476 - val_binary_accuracy: 0.7143 - val_auc: 0.7122\n",
      "Epoch 11/50\n",
      "20/20 [==============================] - 2s 76ms/step - loss: 4575.2397 - binary_accuracy: 0.6442 - auc: 0.6441 - val_loss: 2616.7930 - val_binary_accuracy: 0.6857 - val_auc: 0.6711\n",
      "Epoch 12/50\n",
      "20/20 [==============================] - 2s 75ms/step - loss: 2872.2803 - binary_accuracy: 0.7596 - auc: 0.7579 - val_loss: 6126.9287 - val_binary_accuracy: 0.5524 - val_auc: 0.5137\n",
      "Epoch 13/50\n",
      "20/20 [==============================] - 2s 75ms/step - loss: 4160.3716 - binary_accuracy: 0.6667 - auc: 0.6664 - val_loss: 5591.1250 - val_binary_accuracy: 0.6286 - val_auc: 0.6513\n",
      "Epoch 14/50\n",
      "20/20 [==============================] - 2s 76ms/step - loss: 3757.0669 - binary_accuracy: 0.6987 - auc: 0.6988 - val_loss: 2724.4888 - val_binary_accuracy: 0.6571 - val_auc: 0.6513\n",
      "Epoch 15/50\n",
      "20/20 [==============================] - 2s 75ms/step - loss: 1217.7129 - binary_accuracy: 0.8365 - auc: 0.8359 - val_loss: 2882.2947 - val_binary_accuracy: 0.6667 - val_auc: 0.6798\n",
      "Epoch 16/50\n",
      "20/20 [==============================] - 2s 75ms/step - loss: 2272.5784 - binary_accuracy: 0.7276 - auc: 0.7260 - val_loss: 4882.7305 - val_binary_accuracy: 0.5619 - val_auc: 0.5274\n",
      "Epoch 17/50\n",
      "20/20 [==============================] - 2s 76ms/step - loss: 1325.9194 - binary_accuracy: 0.7724 - auc: 0.7722 - val_loss: 3070.6069 - val_binary_accuracy: 0.6857 - val_auc: 0.6990\n",
      "Epoch 18/50\n",
      "20/20 [==============================] - 2s 76ms/step - loss: 1752.5515 - binary_accuracy: 0.7596 - auc: 0.7599 - val_loss: 4011.5381 - val_binary_accuracy: 0.6286 - val_auc: 0.6513\n",
      "Epoch 19/50\n",
      "20/20 [==============================] - 2s 76ms/step - loss: 784.6599 - binary_accuracy: 0.8237 - auc: 0.8236 - val_loss: 2272.5925 - val_binary_accuracy: 0.6857 - val_auc: 0.6908\n",
      "Epoch 20/50\n",
      "20/20 [==============================] - 2s 76ms/step - loss: 1923.3860 - binary_accuracy: 0.7051 - auc: 0.7055 - val_loss: 2675.9236 - val_binary_accuracy: 0.6476 - val_auc: 0.6245\n"
     ]
    },
    {
     "data": {
      "text/plain": [
       "<keras.callbacks.History at 0x7f935b476700>"
      ]
     },
     "execution_count": 12,
     "metadata": {},
     "output_type": "execute_result"
    }
   ],
   "source": [
    "# Compile model.\n",
    "initial_learning_rate = 0.0001\n",
    "\n",
    "lr_schedule = keras.optimizers.schedules.ExponentialDecay(\n",
    "    initial_learning_rate, decay_steps=100000, decay_rate=0.96, staircase=True\n",
    ")\n",
    "\n",
    "# Compile model.\n",
    "model.compile(\n",
    "    loss=\"binary_crossentropy\",\n",
    "    optimizer=keras.optimizers.Adam(learning_rate=lr_schedule),\n",
    "    metrics=[tf.keras.metrics.BinaryAccuracy(),tf.keras.metrics.AUC()],\n",
    ")\n",
    "\n",
    "# Define callbacks.\n",
    "#checkpoint_cb = keras.callbacks.ModelCheckpoint(\n",
    " #   \"3d_image_classification_Cxa_DFNN.h5\", save_best_only=True\n",
    "#)\n",
    "early_stopping_cb = keras.callbacks.EarlyStopping(monitor=\"val_binary_accuracy\", patience=10)\n",
    "\n",
    "# Train the model, doing validation at the end of each epoch\n",
    "epochs = 50\n",
    "model.fit(\n",
    "    train_dataset,\n",
    "    validation_data=validation_dataset,\n",
    "    epochs=epochs,\n",
    "    shuffle=True,\n",
    "    callbacks=early_stopping_cb,\n",
    ")"
   ]
  },
  {
   "cell_type": "code",
   "execution_count": 13,
   "metadata": {},
   "outputs": [],
   "source": [
    "# # Save the weights\n",
    "# model.save_weights('DFNN_DoubleActuals_mod1.h5')"
   ]
  },
  {
   "cell_type": "code",
   "execution_count": 14,
   "metadata": {},
   "outputs": [
    {
     "name": "stdout",
     "output_type": "stream",
     "text": [
      "[0.]\n",
      "This model is 100.00 percent confident that CT scan is normal\n",
      "This model is 0.00 percent confident that CT scan is abnormal\n",
      "0\n"
     ]
    }
   ],
   "source": [
    "# # # Load best weights.\n",
    "# model.load_weights(\"DFNN_DoubleActuals_mod1.h5\")\n",
    "prediction = model.predict(np.expand_dims(x_test[0], axis=0))[0]\n",
    "print(prediction)\n",
    "scores = [1 - prediction[0], prediction[0]]\n",
    "\n",
    "class_names = [\"normal\", \"abnormal\"]\n",
    "for score, name in zip(scores, class_names):\n",
    "    print(\n",
    "    \"This model is %.2f percent confident that CT scan is %s\"\n",
    "    % ((100 * score), name))\n",
    "print(y_test[0])"
   ]
  },
  {
   "cell_type": "code",
   "execution_count": 15,
   "metadata": {},
   "outputs": [
    {
     "name": "stdout",
     "output_type": "stream",
     "text": [
      "3/3 [==============================] - 0s 30ms/step - loss: 2448.8718 - binary_accuracy: 0.5811 - auc: 0.5615\n"
     ]
    },
    {
     "data": {
      "text/plain": [
       "[2448.871826171875, 0.5810810923576355, 0.5615384578704834]"
      ]
     },
     "execution_count": 15,
     "metadata": {},
     "output_type": "execute_result"
    }
   ],
   "source": [
    "#proportion of training data that's positive\n",
    "sum(y_train) / len(y_train)\n",
    "\n",
    "#proportion of holdout data that's positive\n",
    "(sum(y_val) / len(y_val))\n",
    "\n",
    "#evaluate on the holdout data\n",
    "model.evaluate(x_val, y_val)"
   ]
  },
  {
   "cell_type": "code",
   "execution_count": 16,
   "metadata": {},
   "outputs": [
    {
     "name": "stdout",
     "output_type": "stream",
     "text": [
      "              precision    recall  f1-score   support\n",
      "\n",
      "           0       0.70      0.20      0.31        35\n",
      "           1       0.56      0.92      0.70        39\n",
      "\n",
      "    accuracy                           0.58        74\n",
      "   macro avg       0.63      0.56      0.51        74\n",
      "weighted avg       0.63      0.58      0.52        74\n",
      "\n"
     ]
    }
   ],
   "source": [
    "from sklearn.metrics import classification_report, confusion_matrix\n",
    "\n",
    "preds = model.predict(x_val)\n",
    "\n",
    "preds = np.where(preds > .5, 1,0)\n",
    "\n",
    "\n",
    "\n",
    "print(classification_report(y_val, preds))\n",
    "cm = confusion_matrix(y_val, preds)"
   ]
  },
  {
   "cell_type": "code",
   "execution_count": 17,
   "metadata": {},
   "outputs": [
    {
     "data": {
      "image/png": "[encoded data removed]",
      "text/plain": [
       "<Figure size 432x288 with 2 Axes>"
      ]
     },
     "metadata": {
      "needs_background": "light"
     },
     "output_type": "display_data"
    }
   ],
   "source": [
    "import seaborn as sns\n",
    "\n",
    "ax = sns.heatmap(cm, annot=True, cmap='Blues')\n",
    "\n",
    "ax.set_title('Confusion Matrix');\n",
    "ax.set_xlabel('\\nPredicted Values')\n",
    "ax.set_ylabel('Actual Values ');\n",
    "\n",
    "## Ticket labels - List must be in alphabetical order\n",
    "ax.xaxis.set_ticklabels(['False','True'])\n",
    "ax.yaxis.set_ticklabels(['False','True'])\n",
    "\n",
    "## Display the visualization of the Confusion Matrix.\n",
    "plt.show()"
   ]
  },
  {
   "cell_type": "code",
   "execution_count": 18,
   "metadata": {},
   "outputs": [],
   "source": [
    "from sklearn.metrics import roc_curve\n",
    "y_pred_keras = model.predict(x_val).ravel()\n",
    "fpr_keras, tpr_keras, thresholds_keras = roc_curve(y_val, y_pred_keras)"
   ]
  },
  {
   "cell_type": "code",
   "execution_count": 19,
   "metadata": {},
   "outputs": [],
   "source": [
    "from sklearn.metrics import auc\n",
    "auc_keras = auc(fpr_keras, tpr_keras)"
   ]
  },
  {
   "cell_type": "code",
   "execution_count": 20,
   "metadata": {},
   "outputs": [
    {
     "data": {
      "text/plain": [
       "0.5615384615384615"
      ]
     },
     "execution_count": 20,
     "metadata": {},
     "output_type": "execute_result"
    }
   ],
   "source": [
    "auc_keras"
   ]
  },
  {
   "cell_type": "code",
   "execution_count": 21,
   "metadata": {},
   "outputs": [
    {
     "data": {
      "image/png": "[encoded data removed]",
      "text/plain": [
       "<Figure size 432x288 with 1 Axes>"
      ]
     },
     "metadata": {
      "needs_background": "light"
     },
     "output_type": "display_data"
    }
   ],
   "source": [
    "plt.figure(1)\n",
    "plt.plot([0, 1], [0, 1], 'k--')\n",
    "plt.plot(fpr_keras, tpr_keras, label='Model (area = {:.3f})'.format(auc_keras))\n",
    "plt.xlabel('False positive rate')\n",
    "plt.ylabel('True positive rate')\n",
    "plt.title('ROC curve')\n",
    "plt.legend(loc='best')\n",
    "plt.show()"
   ]
  },
  {
   "cell_type": "code",
   "execution_count": 22,
   "metadata": {},
   "outputs": [],
   "source": [
    "# from PIL import ImageFont\n",
    "# font = ImageFont.truetype(\"Arial.ttf\", 16)\n",
    "# visualkeras.layered_view(model, legend=True,font = font, to_file='DFNN1arch_gan.png')  # font is optional!"
   ]
  },
  {
   "cell_type": "markdown",
   "metadata": {},
   "source": [
    "### 2.2 Build a Highest performing Dense FNN neural network model from Mellema 2022 with modifications"
   ]
  },
  {
   "cell_type": "code",
   "execution_count": 23,
   "metadata": {},
   "outputs": [
    {
     "name": "stdout",
     "output_type": "stream",
     "text": [
      "Model: \"DFNN\"\n",
      "_________________________________________________________________\n",
      " Layer (type)                Output Shape              Param #   \n",
      "=================================================================\n",
      " input_2 (InputLayer)        [(None, 61, 73, 61, 1)]   0         \n",
      "                                                                 \n",
      " dense_4 (Dense)             (None, 61, 73, 61, 6)     12        \n",
      "                                                                 \n",
      " batch_normalization (BatchN  (None, 61, 73, 61, 6)    24        \n",
      " ormalization)                                                   \n",
      "                                                                 \n",
      " dense_5 (Dense)             (None, 61, 73, 61, 128)   896       \n",
      "                                                                 \n",
      " dropout_1 (Dropout)         (None, 61, 73, 61, 128)   0         \n",
      "                                                                 \n",
      " dense_6 (Dense)             (None, 61, 73, 61, 64)    8256      \n",
      "                                                                 \n",
      " flatten_1 (Flatten)         (None, 17384512)          0         \n",
      "                                                                 \n",
      " dense_7 (Dense)             (None, 1)                 17384513  \n",
      "                                                                 \n",
      "=================================================================\n",
      "Total params: 17,393,701\n",
      "Trainable params: 17,393,689\n",
      "Non-trainable params: 12\n",
      "_________________________________________________________________\n"
     ]
    }
   ],
   "source": [
    "def Dense_model(width=61, height=73, depth=61):\n",
    "    \"\"\"Build a Highest performing Dense FNN neural network model from Mellema 2022 with modifications.\"\"\"\n",
    "\n",
    "    inputs = keras.Input((width, height, depth, 1))  \n",
    "     \n",
    "    x = layers.Dense(6,kernel_regularizer=tf.keras.regularizers.l2(0.0001))(inputs)\n",
    "    x = layers.BatchNormalization()(x)\n",
    "    x = layers.Dense(units=128, activation=\"relu\")(x)\n",
    "    x = layers.Dropout(0.13)(x)\n",
    "    x = layers.Dense(units=64, activation=\"relu\")(x)\n",
    "    x = layers.Flatten()(x)\n",
    "    outputs = layers.Dense(units=1, activation=\"sigmoid\")(x)\n",
    "\n",
    "    # Define the model.\n",
    "    model = keras.Model(inputs, outputs, name=\"DFNN\")\n",
    "    return model\n",
    "\n",
    "\n",
    "# Build model.\n",
    "model = Dense_model(width=61, height=73, depth=61)\n",
    "model.summary()"
   ]
  },
  {
   "cell_type": "code",
   "execution_count": 24,
   "metadata": {},
   "outputs": [
    {
     "name": "stdout",
     "output_type": "stream",
     "text": [
      "Epoch 1/50\n"
     ]
    },
    {
     "name": "stderr",
     "output_type": "stream",
     "text": [
      "2022-05-05 04:26:49.288594: I tensorflow/stream_executor/cuda/cuda_dnn.cc:368] Loaded cuDNN version 8101\n"
     ]
    },
    {
     "name": "stdout",
     "output_type": "stream",
     "text": [
      "20/20 [==============================] - 6s 134ms/step - loss: 22.9916 - binary_accuracy: 0.5481 - auc_1: 0.5591 - val_loss: 18.5466 - val_binary_accuracy: 0.5619 - val_auc_1: 0.5927\n",
      "Epoch 2/50\n",
      "20/20 [==============================] - 2s 120ms/step - loss: 5.1984 - binary_accuracy: 0.5994 - auc_1: 0.5970 - val_loss: 5.6946 - val_binary_accuracy: 0.6571 - val_auc_1: 0.6628\n",
      "Epoch 3/50\n",
      "20/20 [==============================] - 2s 120ms/step - loss: 1.7003 - binary_accuracy: 0.6827 - auc_1: 0.7507 - val_loss: 8.7395 - val_binary_accuracy: 0.4762 - val_auc_1: 0.5510\n",
      "Epoch 4/50\n",
      "20/20 [==============================] - 2s 120ms/step - loss: 2.3917 - binary_accuracy: 0.5865 - auc_1: 0.6332 - val_loss: 2.7975 - val_binary_accuracy: 0.6381 - val_auc_1: 0.7085\n",
      "Epoch 5/50\n",
      "20/20 [==============================] - 2s 120ms/step - loss: 1.0257 - binary_accuracy: 0.7308 - auc_1: 0.7958 - val_loss: 1.9126 - val_binary_accuracy: 0.6476 - val_auc_1: 0.7429\n",
      "Epoch 6/50\n",
      "20/20 [==============================] - 2s 119ms/step - loss: 1.1758 - binary_accuracy: 0.6763 - auc_1: 0.7606 - val_loss: 2.2693 - val_binary_accuracy: 0.5524 - val_auc_1: 0.6884\n",
      "Epoch 7/50\n",
      "20/20 [==============================] - 3s 119ms/step - loss: 2.1686 - binary_accuracy: 0.6731 - auc_1: 0.7138 - val_loss: 1.5871 - val_binary_accuracy: 0.7048 - val_auc_1: 0.7432\n",
      "Epoch 8/50\n",
      "20/20 [==============================] - 2s 120ms/step - loss: 1.3085 - binary_accuracy: 0.7308 - auc_1: 0.7883 - val_loss: 1.5240 - val_binary_accuracy: 0.6952 - val_auc_1: 0.7432\n",
      "Epoch 9/50\n",
      "20/20 [==============================] - 2s 120ms/step - loss: 0.9907 - binary_accuracy: 0.7596 - auc_1: 0.8276 - val_loss: 2.2521 - val_binary_accuracy: 0.6190 - val_auc_1: 0.7222\n",
      "Epoch 10/50\n",
      "20/20 [==============================] - 2s 121ms/step - loss: 0.7803 - binary_accuracy: 0.7212 - auc_1: 0.8191 - val_loss: 1.0856 - val_binary_accuracy: 0.6952 - val_auc_1: 0.7544\n",
      "Epoch 11/50\n",
      "20/20 [==============================] - 2s 120ms/step - loss: 1.8576 - binary_accuracy: 0.5994 - auc_1: 0.6906 - val_loss: 4.6609 - val_binary_accuracy: 0.4762 - val_auc_1: 0.6500\n",
      "Epoch 12/50\n",
      "20/20 [==============================] - 2s 120ms/step - loss: 0.9302 - binary_accuracy: 0.7692 - auc_1: 0.8292 - val_loss: 1.2125 - val_binary_accuracy: 0.6857 - val_auc_1: 0.7504\n",
      "Epoch 13/50\n",
      "20/20 [==============================] - 2s 120ms/step - loss: 0.7342 - binary_accuracy: 0.7853 - auc_1: 0.8674 - val_loss: 1.3686 - val_binary_accuracy: 0.6476 - val_auc_1: 0.7403\n",
      "Epoch 14/50\n",
      "20/20 [==============================] - 2s 120ms/step - loss: 0.9505 - binary_accuracy: 0.7628 - auc_1: 0.8301 - val_loss: 2.1975 - val_binary_accuracy: 0.5333 - val_auc_1: 0.7049\n",
      "Epoch 15/50\n",
      "20/20 [==============================] - 2s 120ms/step - loss: 1.3572 - binary_accuracy: 0.6987 - auc_1: 0.7668 - val_loss: 1.5705 - val_binary_accuracy: 0.5905 - val_auc_1: 0.7177\n",
      "Epoch 16/50\n",
      "20/20 [==============================] - 2s 120ms/step - loss: 0.8440 - binary_accuracy: 0.7628 - auc_1: 0.8422 - val_loss: 2.4564 - val_binary_accuracy: 0.5429 - val_auc_1: 0.7089\n",
      "Epoch 17/50\n",
      "20/20 [==============================] - 2s 121ms/step - loss: 0.9603 - binary_accuracy: 0.7692 - auc_1: 0.8221 - val_loss: 1.1495 - val_binary_accuracy: 0.6762 - val_auc_1: 0.7257\n",
      "Epoch 18/50\n",
      "20/20 [==============================] - 2s 120ms/step - loss: 0.5294 - binary_accuracy: 0.8173 - auc_1: 0.9082 - val_loss: 2.7003 - val_binary_accuracy: 0.5048 - val_auc_1: 0.6765\n",
      "Epoch 19/50\n",
      "20/20 [==============================] - 2s 120ms/step - loss: 0.7473 - binary_accuracy: 0.7949 - auc_1: 0.8589 - val_loss: 1.1330 - val_binary_accuracy: 0.7048 - val_auc_1: 0.7228\n",
      "Epoch 20/50\n",
      "20/20 [==============================] - 2s 120ms/step - loss: 0.4230 - binary_accuracy: 0.8429 - auc_1: 0.9279 - val_loss: 1.0782 - val_binary_accuracy: 0.6857 - val_auc_1: 0.7310\n",
      "Epoch 21/50\n",
      "20/20 [==============================] - 2s 121ms/step - loss: 0.3897 - binary_accuracy: 0.8526 - auc_1: 0.9298 - val_loss: 1.3515 - val_binary_accuracy: 0.5619 - val_auc_1: 0.7286\n",
      "Epoch 22/50\n",
      "20/20 [==============================] - 2s 120ms/step - loss: 0.6099 - binary_accuracy: 0.8109 - auc_1: 0.8887 - val_loss: 1.0668 - val_binary_accuracy: 0.6857 - val_auc_1: 0.7069\n"
     ]
    },
    {
     "data": {
      "text/plain": [
       "<keras.callbacks.History at 0x7f92c44f57f0>"
      ]
     },
     "execution_count": 24,
     "metadata": {},
     "output_type": "execute_result"
    }
   ],
   "source": [
    "initial_learning_rate = 0.0001\n",
    "lr_schedule = keras.optimizers.schedules.ExponentialDecay(\n",
    "    initial_learning_rate, decay_steps=100000, decay_rate=0.95, staircase=True)\n",
    "\n",
    "# Compile model.\n",
    "model.compile(\n",
    "    loss=\"binary_crossentropy\",\n",
    "    optimizer=keras.optimizers.Adam(learning_rate=lr_schedule),\n",
    "    metrics=[tf.keras.metrics.BinaryAccuracy(),tf.keras.metrics.AUC()],\n",
    ")\n",
    "\n",
    "# Define callbacks.\n",
    "#checkpoint_cb = keras.callbacks.ModelCheckpoint(\n",
    " #   \"3d_image_classification_Cxa_adamDFNN.h5\", save_best_only=True)\n",
    "early_stopping_cb = keras.callbacks.EarlyStopping(monitor=\"val_binary_accuracy\", patience=15)\n",
    "\n",
    "# Train the model, doing validation at the end of each epoch\n",
    "epochs = 50\n",
    "model.fit(\n",
    "    train_dataset,\n",
    "    validation_data=validation_dataset,\n",
    "    epochs=epochs,\n",
    "    shuffle=True,\n",
    "    callbacks=early_stopping_cb,\n",
    ")"
   ]
  },
  {
   "cell_type": "code",
   "execution_count": 25,
   "metadata": {},
   "outputs": [
    {
     "name": "stdout",
     "output_type": "stream",
     "text": [
      "3/3 [==============================] - 0s 41ms/step - loss: 0.6691 - binary_accuracy: 0.7432 - auc_1: 0.8289\n"
     ]
    },
    {
     "data": {
      "text/plain": [
       "[0.6690882444381714, 0.7432432174682617, 0.8289377689361572]"
      ]
     },
     "execution_count": 25,
     "metadata": {},
     "output_type": "execute_result"
    }
   ],
   "source": [
    "#evaluate on the holdout data\n",
    "model.evaluate(x_val, y_val)"
   ]
  },
  {
   "cell_type": "code",
   "execution_count": 26,
   "metadata": {},
   "outputs": [
    {
     "name": "stdout",
     "output_type": "stream",
     "text": [
      "              precision    recall  f1-score   support\n",
      "\n",
      "           0       0.79      0.63      0.70        35\n",
      "           1       0.72      0.85      0.78        39\n",
      "\n",
      "    accuracy                           0.74        74\n",
      "   macro avg       0.75      0.74      0.74        74\n",
      "weighted avg       0.75      0.74      0.74        74\n",
      "\n"
     ]
    }
   ],
   "source": [
    "from sklearn.metrics import classification_report, confusion_matrix\n",
    "\n",
    "preds = model.predict(x_val)\n",
    "\n",
    "preds = np.where(preds > .5, 1,0)\n",
    "\n",
    "\n",
    "\n",
    "print(classification_report(y_val, preds))\n",
    "cm = confusion_matrix(y_val, preds)"
   ]
  },
  {
   "cell_type": "code",
   "execution_count": 27,
   "metadata": {},
   "outputs": [
    {
     "data": {
      "image/png": "[encoded data removed]",
      "text/plain": [
       "<Figure size 432x288 with 2 Axes>"
      ]
     },
     "metadata": {
      "needs_background": "light"
     },
     "output_type": "display_data"
    }
   ],
   "source": [
    "import seaborn as sns\n",
    "\n",
    "ax = sns.heatmap(cm, annot=True, cmap='Blues')\n",
    "\n",
    "ax.set_title('Confusion Matrix');\n",
    "ax.set_xlabel('\\nPredicted Values')\n",
    "ax.set_ylabel('Actual Values ');\n",
    "\n",
    "## Ticket labels - List must be in alphabetical order\n",
    "ax.xaxis.set_ticklabels(['False','True'])\n",
    "ax.yaxis.set_ticklabels(['False','True'])\n",
    "\n",
    "## Display the visualization of the Confusion Matrix.\n",
    "plt.show()"
   ]
  },
  {
   "cell_type": "code",
   "execution_count": 28,
   "metadata": {},
   "outputs": [],
   "source": [
    "y_pred_keras = model.predict(x_val).ravel()\n",
    "fpr_keras, tpr_keras, thresholds_keras = roc_curve(y_val, y_pred_keras)"
   ]
  },
  {
   "cell_type": "code",
   "execution_count": 29,
   "metadata": {},
   "outputs": [],
   "source": [
    "auc_keras = auc(fpr_keras, tpr_keras)"
   ]
  },
  {
   "cell_type": "code",
   "execution_count": 30,
   "metadata": {},
   "outputs": [
    {
     "data": {
      "text/plain": [
       "0.8358974358974359"
      ]
     },
     "execution_count": 30,
     "metadata": {},
     "output_type": "execute_result"
    }
   ],
   "source": [
    "auc_keras"
   ]
  },
  {
   "cell_type": "code",
   "execution_count": 31,
   "metadata": {},
   "outputs": [
    {
     "data": {
      "image/png": "[encoded data removed]",
      "text/plain": [
       "<Figure size 432x288 with 1 Axes>"
      ]
     },
     "metadata": {
      "needs_background": "light"
     },
     "output_type": "display_data"
    }
   ],
   "source": [
    "plt.figure(1)\n",
    "plt.plot([0, 1], [0, 1], 'k--')\n",
    "plt.plot(fpr_keras, tpr_keras, label='Model (area = {:.3f})'.format(auc_keras))\n",
    "plt.xlabel('False positive rate')\n",
    "plt.ylabel('True positive rate')\n",
    "plt.title('ROC curve')\n",
    "plt.legend(loc='best')\n",
    "plt.show()"
   ]
  },
  {
   "cell_type": "markdown",
   "metadata": {},
   "source": [
    "### 2.3 Complex Highest performing Dense FNN neural network model from Mellema 2022 with modifications"
   ]
  },
  {
   "cell_type": "code",
   "execution_count": 32,
   "metadata": {},
   "outputs": [
    {
     "name": "stdout",
     "output_type": "stream",
     "text": [
      "Model: \"DFNN_complex\"\n",
      "_________________________________________________________________\n",
      " Layer (type)                Output Shape              Param #   \n",
      "=================================================================\n",
      " input_3 (InputLayer)        [(None, 61, 73, 61, 1)]   0         \n",
      "                                                                 \n",
      " dense_8 (Dense)             (None, 61, 73, 61, 128)   256       \n",
      "                                                                 \n",
      " batch_normalization_1 (Batc  (None, 61, 73, 61, 128)  512       \n",
      " hNormalization)                                                 \n",
      "                                                                 \n",
      " dropout_2 (Dropout)         (None, 61, 73, 61, 128)   0         \n",
      "                                                                 \n",
      " dense_9 (Dense)             (None, 61, 73, 61, 128)   16512     \n",
      "                                                                 \n",
      " dropout_3 (Dropout)         (None, 61, 73, 61, 128)   0         \n",
      "                                                                 \n",
      " dense_10 (Dense)            (None, 61, 73, 61, 64)    8256      \n",
      "                                                                 \n",
      " dropout_4 (Dropout)         (None, 61, 73, 61, 64)    0         \n",
      "                                                                 \n",
      " dense_11 (Dense)            (None, 61, 73, 61, 42)    2730      \n",
      "                                                                 \n",
      " flatten_2 (Flatten)         (None, 11408586)          0         \n",
      "                                                                 \n",
      " dense_12 (Dense)            (None, 1)                 11408587  \n",
      "                                                                 \n",
      "=================================================================\n",
      "Total params: 11,436,853\n",
      "Trainable params: 11,436,597\n",
      "Non-trainable params: 256\n",
      "_________________________________________________________________\n"
     ]
    }
   ],
   "source": [
    "def Dense_model(width=61, height=73, depth=61):\n",
    "    \"\"\"Build a complex Highest performing Dense FNN neural network model from Mellema 2022.\"\"\"\n",
    "\n",
    "    inputs = keras.Input((width, height, depth, 1))\n",
    "    \n",
    "    x = layers.Dense(units=128, activation=\"relu\", kernel_regularizer = keras.regularizers.L2(0.00011))(inputs)\n",
    "    \n",
    "    x = layers.BatchNormalization()(x)\n",
    "    \n",
    "    x = layers.Dropout(0.18)(x)\n",
    "    x = layers.Dense(units=128, activation=\"relu\")(x)\n",
    "    x = layers.Dropout(0.18)(x)\n",
    "    x = layers.Dense(units=64, activation=\"relu\")(x)\n",
    "    x = layers.Dropout(0.18)(x)\n",
    "    x = layers.Dense(units=42, activation=\"relu\")(x)\n",
    "    x = layers.Flatten()(x)\n",
    "    \n",
    "    outputs = layers.Dense(units=1, activation=\"sigmoid\")(x)\n",
    "\n",
    "    # Define the model.\n",
    "    model = keras.Model(inputs, outputs, name=\"DFNN_complex\")\n",
    "    return model\n",
    "\n",
    "\n",
    "# Build model.\n",
    "model = Dense_model(width=61, height=73, depth=61)\n",
    "model.summary()"
   ]
  },
  {
   "cell_type": "code",
   "execution_count": 33,
   "metadata": {},
   "outputs": [
    {
     "name": "stdout",
     "output_type": "stream",
     "text": [
      "Epoch 1/50\n",
      "20/20 [==============================] - 6s 239ms/step - loss: 10.5461 - binary_accuracy: 0.5769 - auc_2: 0.5802 - val_loss: 8.2966 - val_binary_accuracy: 0.6571 - val_auc_2: 0.6729\n",
      "Epoch 2/50\n",
      "20/20 [==============================] - 5s 226ms/step - loss: 1.6471 - binary_accuracy: 0.6795 - auc_2: 0.7367 - val_loss: 0.9886 - val_binary_accuracy: 0.6857 - val_auc_2: 0.7516\n",
      "Epoch 3/50\n",
      "20/20 [==============================] - 5s 225ms/step - loss: 1.2269 - binary_accuracy: 0.6763 - auc_2: 0.7477 - val_loss: 2.8523 - val_binary_accuracy: 0.4762 - val_auc_2: 0.6756\n",
      "Epoch 4/50\n",
      "20/20 [==============================] - 5s 225ms/step - loss: 2.0301 - binary_accuracy: 0.5833 - auc_2: 0.6302 - val_loss: 1.7542 - val_binary_accuracy: 0.6286 - val_auc_2: 0.7452\n",
      "Epoch 5/50\n",
      "20/20 [==============================] - 5s 224ms/step - loss: 2.2708 - binary_accuracy: 0.6218 - auc_2: 0.6619 - val_loss: 0.8300 - val_binary_accuracy: 0.6952 - val_auc_2: 0.7513\n",
      "Epoch 6/50\n",
      "20/20 [==============================] - 5s 226ms/step - loss: 0.8557 - binary_accuracy: 0.7051 - auc_2: 0.7922 - val_loss: 0.7201 - val_binary_accuracy: 0.7048 - val_auc_2: 0.7376\n",
      "Epoch 7/50\n",
      "20/20 [==============================] - 5s 225ms/step - loss: 0.5037 - binary_accuracy: 0.7660 - auc_2: 0.8620 - val_loss: 0.8584 - val_binary_accuracy: 0.6286 - val_auc_2: 0.7136\n",
      "Epoch 8/50\n",
      "20/20 [==============================] - 5s 224ms/step - loss: 0.6302 - binary_accuracy: 0.7115 - auc_2: 0.8007 - val_loss: 0.8726 - val_binary_accuracy: 0.6286 - val_auc_2: 0.6935\n",
      "Epoch 9/50\n",
      "20/20 [==============================] - 4s 223ms/step - loss: 0.4961 - binary_accuracy: 0.7788 - auc_2: 0.8625 - val_loss: 0.6822 - val_binary_accuracy: 0.6857 - val_auc_2: 0.6981\n",
      "Epoch 10/50\n",
      "20/20 [==============================] - 5s 224ms/step - loss: 0.5148 - binary_accuracy: 0.7692 - auc_2: 0.8497 - val_loss: 0.7634 - val_binary_accuracy: 0.6476 - val_auc_2: 0.7047\n",
      "Epoch 11/50\n",
      "20/20 [==============================] - 5s 224ms/step - loss: 0.5420 - binary_accuracy: 0.7788 - auc_2: 0.8478 - val_loss: 0.6768 - val_binary_accuracy: 0.7238 - val_auc_2: 0.7155\n",
      "Epoch 12/50\n",
      "20/20 [==============================] - 5s 225ms/step - loss: 0.3607 - binary_accuracy: 0.8301 - auc_2: 0.9159 - val_loss: 0.6741 - val_binary_accuracy: 0.6952 - val_auc_2: 0.7102\n",
      "Epoch 13/50\n",
      "20/20 [==============================] - 4s 224ms/step - loss: 0.4435 - binary_accuracy: 0.7981 - auc_2: 0.8849 - val_loss: 0.6776 - val_binary_accuracy: 0.6667 - val_auc_2: 0.7226\n",
      "Epoch 14/50\n",
      "20/20 [==============================] - 5s 224ms/step - loss: 0.6610 - binary_accuracy: 0.7404 - auc_2: 0.8242 - val_loss: 0.6528 - val_binary_accuracy: 0.6762 - val_auc_2: 0.7191\n",
      "Epoch 15/50\n",
      "20/20 [==============================] - 5s 226ms/step - loss: 0.9615 - binary_accuracy: 0.6410 - auc_2: 0.7587 - val_loss: 0.7493 - val_binary_accuracy: 0.6381 - val_auc_2: 0.7317\n",
      "Epoch 16/50\n",
      "20/20 [==============================] - 5s 224ms/step - loss: 0.7044 - binary_accuracy: 0.6955 - auc_2: 0.8058 - val_loss: 0.6242 - val_binary_accuracy: 0.6857 - val_auc_2: 0.7330\n",
      "Epoch 17/50\n",
      "20/20 [==============================] - 5s 225ms/step - loss: 0.4458 - binary_accuracy: 0.7468 - auc_2: 0.8791 - val_loss: 0.6325 - val_binary_accuracy: 0.6381 - val_auc_2: 0.7217\n",
      "Epoch 18/50\n",
      "20/20 [==============================] - 5s 225ms/step - loss: 0.3392 - binary_accuracy: 0.8301 - auc_2: 0.9273 - val_loss: 0.6246 - val_binary_accuracy: 0.6571 - val_auc_2: 0.7231\n",
      "Epoch 19/50\n",
      "20/20 [==============================] - 5s 226ms/step - loss: 0.4602 - binary_accuracy: 0.7564 - auc_2: 0.8721 - val_loss: 0.6465 - val_binary_accuracy: 0.7048 - val_auc_2: 0.7131\n",
      "Epoch 20/50\n",
      "20/20 [==============================] - 5s 226ms/step - loss: 0.3736 - binary_accuracy: 0.8205 - auc_2: 0.9151 - val_loss: 0.6457 - val_binary_accuracy: 0.6000 - val_auc_2: 0.7103\n",
      "Epoch 21/50\n",
      "20/20 [==============================] - 4s 224ms/step - loss: 0.3519 - binary_accuracy: 0.8365 - auc_2: 0.9224 - val_loss: 0.6453 - val_binary_accuracy: 0.7048 - val_auc_2: 0.7226\n",
      "Epoch 22/50\n",
      "20/20 [==============================] - 5s 225ms/step - loss: 0.3635 - binary_accuracy: 0.8269 - auc_2: 0.9161 - val_loss: 0.6425 - val_binary_accuracy: 0.6762 - val_auc_2: 0.7100\n",
      "Epoch 23/50\n",
      "20/20 [==============================] - 5s 224ms/step - loss: 0.3550 - binary_accuracy: 0.8622 - auc_2: 0.9226 - val_loss: 0.6444 - val_binary_accuracy: 0.7048 - val_auc_2: 0.7162\n",
      "Epoch 24/50\n",
      "20/20 [==============================] - 5s 223ms/step - loss: 0.3359 - binary_accuracy: 0.8462 - auc_2: 0.9285 - val_loss: 0.6499 - val_binary_accuracy: 0.6857 - val_auc_2: 0.7169\n",
      "Epoch 25/50\n",
      "20/20 [==============================] - 5s 224ms/step - loss: 0.2867 - binary_accuracy: 0.8846 - auc_2: 0.9523 - val_loss: 0.6591 - val_binary_accuracy: 0.6571 - val_auc_2: 0.7113\n",
      "Epoch 26/50\n",
      "20/20 [==============================] - 5s 225ms/step - loss: 0.3015 - binary_accuracy: 0.8494 - auc_2: 0.9455 - val_loss: 0.6525 - val_binary_accuracy: 0.6857 - val_auc_2: 0.7173\n"
     ]
    },
    {
     "data": {
      "text/plain": [
       "<keras.callbacks.History at 0x7f92c4079b80>"
      ]
     },
     "execution_count": 33,
     "metadata": {},
     "output_type": "execute_result"
    }
   ],
   "source": [
    "initial_learning_rate = 0.0001\n",
    "lr_schedule = keras.optimizers.schedules.ExponentialDecay(\n",
    "    initial_learning_rate, decay_steps=10000, decay_rate=0.96, staircase=True)\n",
    "\n",
    "# Compile model.\n",
    "model.compile(\n",
    "    loss=\"binary_crossentropy\",\n",
    "    optimizer=keras.optimizers.Adam(learning_rate=lr_schedule),\n",
    "    metrics=[tf.keras.metrics.BinaryAccuracy(),tf.keras.metrics.AUC()],\n",
    ")\n",
    "\n",
    "# Define callbacks.\n",
    "#checkpoint_cb = keras.callbacks.ModelCheckpoint(\n",
    " #   \"3d_image_classification_Cxa_adamDFNN.h5\", save_best_only=True)\n",
    "early_stopping_cb = keras.callbacks.EarlyStopping(monitor=\"val_binary_accuracy\", patience=15)\n",
    "\n",
    "# Train the model, doing validation at the end of each epoch\n",
    "epochs = 50\n",
    "model.fit(\n",
    "    train_dataset,\n",
    "    validation_data=validation_dataset,\n",
    "    epochs=epochs,\n",
    "    shuffle=True,\n",
    "    callbacks=[early_stopping_cb],\n",
    ")\n",
    "\n",
    "# # Train the model, doing validation at the end of each epoch\n",
    "# epochs = 50\n",
    "# model.fit(\n",
    "#     train_dataset,\n",
    "#     validation_data=validation_dataset,\n",
    "#     epochs=epochs,\n",
    "#     shuffle=True,\n",
    "#     callbacks=[checkpoint_cb, early_stopping_cb],\n",
    "# )"
   ]
  },
  {
   "cell_type": "code",
   "execution_count": 34,
   "metadata": {},
   "outputs": [
    {
     "name": "stdout",
     "output_type": "stream",
     "text": [
      "3/3 [==============================] - 0s 76ms/step - loss: 0.5545 - binary_accuracy: 0.7027 - auc_2: 0.8212\n"
     ]
    },
    {
     "data": {
      "text/plain": [
       "[0.5544915795326233, 0.7027027010917664, 0.8212454319000244]"
      ]
     },
     "execution_count": 34,
     "metadata": {},
     "output_type": "execute_result"
    }
   ],
   "source": [
    "#evaluate on the holdout data\n",
    "model.evaluate(x_val, y_val)"
   ]
  },
  {
   "cell_type": "code",
   "execution_count": 35,
   "metadata": {},
   "outputs": [
    {
     "name": "stdout",
     "output_type": "stream",
     "text": [
      "              precision    recall  f1-score   support\n",
      "\n",
      "           0       0.78      0.51      0.62        35\n",
      "           1       0.67      0.87      0.76        39\n",
      "\n",
      "    accuracy                           0.70        74\n",
      "   macro avg       0.72      0.69      0.69        74\n",
      "weighted avg       0.72      0.70      0.69        74\n",
      "\n"
     ]
    }
   ],
   "source": [
    "from sklearn.metrics import classification_report, confusion_matrix\n",
    "\n",
    "preds = model.predict(x_val)\n",
    "\n",
    "preds = np.where(preds > .5, 1,0)\n",
    "\n",
    "\n",
    "\n",
    "print(classification_report(y_val, preds))\n",
    "cm = confusion_matrix(y_val, preds)"
   ]
  },
  {
   "cell_type": "code",
   "execution_count": 36,
   "metadata": {},
   "outputs": [
    {
     "data": {
      "image/png": "[encoded data removed]",
      "text/plain": [
       "<Figure size 432x288 with 2 Axes>"
      ]
     },
     "metadata": {
      "needs_background": "light"
     },
     "output_type": "display_data"
    }
   ],
   "source": [
    "import seaborn as sns\n",
    "\n",
    "ax = sns.heatmap(cm, annot=True, cmap='Blues')\n",
    "\n",
    "ax.set_title('Confusion Matrix');\n",
    "ax.set_xlabel('\\nPredicted Values')\n",
    "ax.set_ylabel('Actual Values ');\n",
    "\n",
    "## Ticket labels - List must be in alphabetical order\n",
    "ax.xaxis.set_ticklabels(['False','True'])\n",
    "ax.yaxis.set_ticklabels(['False','True'])\n",
    "\n",
    "## Display the visualization of the Confusion Matrix.\n",
    "plt.show()"
   ]
  },
  {
   "cell_type": "code",
   "execution_count": 37,
   "metadata": {},
   "outputs": [],
   "source": [
    "y_pred_keras = model.predict(x_val).ravel()\n",
    "fpr_keras, tpr_keras, thresholds_keras = roc_curve(y_val, y_pred_keras)"
   ]
  },
  {
   "cell_type": "code",
   "execution_count": 38,
   "metadata": {},
   "outputs": [],
   "source": [
    "auc_keras = auc(fpr_keras, tpr_keras)"
   ]
  },
  {
   "cell_type": "code",
   "execution_count": 39,
   "metadata": {},
   "outputs": [
    {
     "data": {
      "text/plain": [
       "0.8212454212454213"
      ]
     },
     "execution_count": 39,
     "metadata": {},
     "output_type": "execute_result"
    }
   ],
   "source": [
    "auc_keras"
   ]
  },
  {
   "cell_type": "code",
   "execution_count": 40,
   "metadata": {},
   "outputs": [
    {
     "data": {
      "image/png": "[encoded data removed]",
      "text/plain": [
       "<Figure size 432x288 with 1 Axes>"
      ]
     },
     "metadata": {
      "needs_background": "light"
     },
     "output_type": "display_data"
    }
   ],
   "source": [
    "plt.figure(1)\n",
    "plt.plot([0, 1], [0, 1], 'k--')\n",
    "plt.plot(fpr_keras, tpr_keras, label='Model (area = {:.3f})'.format(auc_keras))\n",
    "plt.xlabel('False positive rate')\n",
    "plt.ylabel('True positive rate')\n",
    "plt.title('ROC curve')\n",
    "plt.legend(loc='best')\n",
    "plt.show()"
   ]
  }
 ],
 "metadata": {
  "kernelspec": {
   "display_name": "Tensorflow 2.8.0/Keras Py3.9",
   "language": "python",
   "name": "tensorflow-2.8.0"
  },
  "language_info": {
   "codemirror_mode": {
    "name": "ipython",
    "version": 3
   },
   "file_extension": ".py",
   "mimetype": "text/x-python",
   "name": "python",
   "nbconvert_exporter": "python",
   "pygments_lexer": "ipython3",
   "version": "3.9.10"
  }
 },
 "nbformat": 4,
 "nbformat_minor": 4
}
