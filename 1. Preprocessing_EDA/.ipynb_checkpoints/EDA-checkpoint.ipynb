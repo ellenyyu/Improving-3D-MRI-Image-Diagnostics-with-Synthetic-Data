{
 "cells": [
  {
   "cell_type": "markdown",
   "metadata": {},
   "source": [
    "__Exploratory Data Analysis__\n",
    "\n",
    "Monday, April 18, 2022\n",
    "\n",
    "Goal is to get a high level understanding of the data we have.  \n",
    "\n",
    "Conclusions: \n",
    "- We have Autism vs. Control, gender split, and functional MRI images\n",
    "- 391 images in total\n",
    "- 146 Autism cases, 245 Controls\n",
    "- 124 Autistic Male cases, 184 Male Controls \n",
    "- 22 Autistic Female cases, 61 Female Controls"
   ]
  },
  {
   "cell_type": "code",
   "execution_count": 3,
   "metadata": {},
   "outputs": [],
   "source": [
    "# Load Packages\n",
    "import pandas as pd\n",
    "import os"
   ]
  },
  {
   "cell_type": "code",
   "execution_count": 6,
   "metadata": {},
   "outputs": [
    {
     "data": {
      "text/html": [
       "<div>\n",
       "<style scoped>\n",
       "    .dataframe tbody tr th:only-of-type {\n",
       "        vertical-align: middle;\n",
       "    }\n",
       "\n",
       "    .dataframe tbody tr th {\n",
       "        vertical-align: top;\n",
       "    }\n",
       "\n",
       "    .dataframe thead th {\n",
       "        text-align: right;\n",
       "    }\n",
       "</style>\n",
       "<table border=\"1\" class=\"dataframe\">\n",
       "  <thead>\n",
       "    <tr style=\"text-align: right;\">\n",
       "      <th></th>\n",
       "      <th>FILE_ID</th>\n",
       "      <th>DX_GROUP</th>\n",
       "      <th>DSM_IV_TR</th>\n",
       "      <th>SEX</th>\n",
       "      <th>DX_Control</th>\n",
       "      <th>DX_DSM</th>\n",
       "      <th>SEX_</th>\n",
       "      <th>PATH</th>\n",
       "    </tr>\n",
       "  </thead>\n",
       "  <tbody>\n",
       "    <tr>\n",
       "      <th>0</th>\n",
       "      <td>Pitt_0050005</td>\n",
       "      <td>1</td>\n",
       "      <td>1</td>\n",
       "      <td>2</td>\n",
       "      <td>Autism</td>\n",
       "      <td>Autism</td>\n",
       "      <td>Female</td>\n",
       "      <td>/project/ds6050-soa2wg/team_lambda_II/Outputs/...</td>\n",
       "    </tr>\n",
       "    <tr>\n",
       "      <th>1</th>\n",
       "      <td>Pitt_0050006</td>\n",
       "      <td>1</td>\n",
       "      <td>1</td>\n",
       "      <td>1</td>\n",
       "      <td>Autism</td>\n",
       "      <td>Autism</td>\n",
       "      <td>Male</td>\n",
       "      <td>/project/ds6050-soa2wg/team_lambda_II/Outputs/...</td>\n",
       "    </tr>\n",
       "    <tr>\n",
       "      <th>2</th>\n",
       "      <td>Pitt_0050007</td>\n",
       "      <td>1</td>\n",
       "      <td>1</td>\n",
       "      <td>1</td>\n",
       "      <td>Autism</td>\n",
       "      <td>Autism</td>\n",
       "      <td>Male</td>\n",
       "      <td>/project/ds6050-soa2wg/team_lambda_II/Outputs/...</td>\n",
       "    </tr>\n",
       "    <tr>\n",
       "      <th>3</th>\n",
       "      <td>Pitt_0050011</td>\n",
       "      <td>1</td>\n",
       "      <td>1</td>\n",
       "      <td>1</td>\n",
       "      <td>Autism</td>\n",
       "      <td>Autism</td>\n",
       "      <td>Male</td>\n",
       "      <td>/project/ds6050-soa2wg/team_lambda_II/Outputs/...</td>\n",
       "    </tr>\n",
       "    <tr>\n",
       "      <th>4</th>\n",
       "      <td>Pitt_0050014</td>\n",
       "      <td>1</td>\n",
       "      <td>1</td>\n",
       "      <td>1</td>\n",
       "      <td>Autism</td>\n",
       "      <td>Autism</td>\n",
       "      <td>Male</td>\n",
       "      <td>/project/ds6050-soa2wg/team_lambda_II/Outputs/...</td>\n",
       "    </tr>\n",
       "    <tr>\n",
       "      <th>...</th>\n",
       "      <td>...</td>\n",
       "      <td>...</td>\n",
       "      <td>...</td>\n",
       "      <td>...</td>\n",
       "      <td>...</td>\n",
       "      <td>...</td>\n",
       "      <td>...</td>\n",
       "      <td>...</td>\n",
       "    </tr>\n",
       "    <tr>\n",
       "      <th>386</th>\n",
       "      <td>UCLA_1_0051280</td>\n",
       "      <td>2</td>\n",
       "      <td>0</td>\n",
       "      <td>1</td>\n",
       "      <td>Control</td>\n",
       "      <td>Control</td>\n",
       "      <td>Male</td>\n",
       "      <td>/project/ds6050-soa2wg/team_lambda_II/Outputs/...</td>\n",
       "    </tr>\n",
       "    <tr>\n",
       "      <th>387</th>\n",
       "      <td>UCLA_1_0051281</td>\n",
       "      <td>2</td>\n",
       "      <td>0</td>\n",
       "      <td>1</td>\n",
       "      <td>Control</td>\n",
       "      <td>Control</td>\n",
       "      <td>Male</td>\n",
       "      <td>/project/ds6050-soa2wg/team_lambda_II/Outputs/...</td>\n",
       "    </tr>\n",
       "    <tr>\n",
       "      <th>388</th>\n",
       "      <td>UCLA_1_0051282</td>\n",
       "      <td>2</td>\n",
       "      <td>0</td>\n",
       "      <td>2</td>\n",
       "      <td>Control</td>\n",
       "      <td>Control</td>\n",
       "      <td>Female</td>\n",
       "      <td>/project/ds6050-soa2wg/team_lambda_II/Outputs/...</td>\n",
       "    </tr>\n",
       "    <tr>\n",
       "      <th>389</th>\n",
       "      <td>UCLA_2_0051303</td>\n",
       "      <td>2</td>\n",
       "      <td>0</td>\n",
       "      <td>2</td>\n",
       "      <td>Control</td>\n",
       "      <td>Control</td>\n",
       "      <td>Female</td>\n",
       "      <td>/project/ds6050-soa2wg/team_lambda_II/Outputs/...</td>\n",
       "    </tr>\n",
       "    <tr>\n",
       "      <th>390</th>\n",
       "      <td>UCLA_2_0051305</td>\n",
       "      <td>2</td>\n",
       "      <td>0</td>\n",
       "      <td>2</td>\n",
       "      <td>Control</td>\n",
       "      <td>Control</td>\n",
       "      <td>Female</td>\n",
       "      <td>/project/ds6050-soa2wg/team_lambda_II/Outputs/...</td>\n",
       "    </tr>\n",
       "  </tbody>\n",
       "</table>\n",
       "<p>391 rows × 8 columns</p>\n",
       "</div>"
      ],
      "text/plain": [
       "            FILE_ID  DX_GROUP  DSM_IV_TR  SEX DX_Control   DX_DSM    SEX_  \\\n",
       "0      Pitt_0050005         1          1    2     Autism   Autism  Female   \n",
       "1      Pitt_0050006         1          1    1     Autism   Autism    Male   \n",
       "2      Pitt_0050007         1          1    1     Autism   Autism    Male   \n",
       "3      Pitt_0050011         1          1    1     Autism   Autism    Male   \n",
       "4      Pitt_0050014         1          1    1     Autism   Autism    Male   \n",
       "..              ...       ...        ...  ...        ...      ...     ...   \n",
       "386  UCLA_1_0051280         2          0    1    Control  Control    Male   \n",
       "387  UCLA_1_0051281         2          0    1    Control  Control    Male   \n",
       "388  UCLA_1_0051282         2          0    2    Control  Control  Female   \n",
       "389  UCLA_2_0051303         2          0    2    Control  Control  Female   \n",
       "390  UCLA_2_0051305         2          0    2    Control  Control  Female   \n",
       "\n",
       "                                                  PATH  \n",
       "0    /project/ds6050-soa2wg/team_lambda_II/Outputs/...  \n",
       "1    /project/ds6050-soa2wg/team_lambda_II/Outputs/...  \n",
       "2    /project/ds6050-soa2wg/team_lambda_II/Outputs/...  \n",
       "3    /project/ds6050-soa2wg/team_lambda_II/Outputs/...  \n",
       "4    /project/ds6050-soa2wg/team_lambda_II/Outputs/...  \n",
       "..                                                 ...  \n",
       "386  /project/ds6050-soa2wg/team_lambda_II/Outputs/...  \n",
       "387  /project/ds6050-soa2wg/team_lambda_II/Outputs/...  \n",
       "388  /project/ds6050-soa2wg/team_lambda_II/Outputs/...  \n",
       "389  /project/ds6050-soa2wg/team_lambda_II/Outputs/...  \n",
       "390  /project/ds6050-soa2wg/team_lambda_II/Outputs/...  \n",
       "\n",
       "[391 rows x 8 columns]"
      ]
     },
     "execution_count": 6,
     "metadata": {},
     "output_type": "execute_result"
    }
   ],
   "source": [
    "# First and foremost, exploring this metadata sheet\n",
    "meta = pd.read_csv(\"/gpfs/gpfs0/project/ds6050-soa2wg/team_lambda_II/ASD_DSM_CasesvsControls.csv\") #??? Did Chelsea create this or was this sheet given to us? \n",
    "meta"
   ]
  },
  {
   "cell_type": "code",
   "execution_count": 7,
   "metadata": {},
   "outputs": [
    {
     "data": {
      "text/plain": [
       "Index(['FILE_ID', 'DX_GROUP', 'DSM_IV_TR', 'SEX', 'DX_Control', 'DX_DSM',\n",
       "       'SEX_', 'PATH'],\n",
       "      dtype='object')"
      ]
     },
     "execution_count": 7,
     "metadata": {},
     "output_type": "execute_result"
    }
   ],
   "source": [
    "# Check out the columns. Looks like we used 'DX_Control' for classes, 'SEX' for gender, and 'PATH' for path of image\n",
    "# ??? What do the rest of the columns mean? \n",
    "meta.columns "
   ]
  },
  {
   "cell_type": "code",
   "execution_count": 8,
   "metadata": {},
   "outputs": [
    {
     "data": {
      "text/plain": [
       "FILE_ID       0\n",
       "DX_GROUP      0\n",
       "DSM_IV_TR     0\n",
       "SEX           0\n",
       "DX_Control    0\n",
       "DX_DSM        0\n",
       "SEX_          0\n",
       "PATH          0\n",
       "dtype: int64"
      ]
     },
     "execution_count": 8,
     "metadata": {},
     "output_type": "execute_result"
    }
   ],
   "source": [
    "# Check for missing data. Result: No missing data - horray! \n",
    "meta.isnull().sum(axis=0) "
   ]
  },
  {
   "cell_type": "code",
   "execution_count": 9,
   "metadata": {},
   "outputs": [
    {
     "name": "stdout",
     "output_type": "stream",
     "text": [
      "FILE_ID unique values: 391 \n",
      "\n",
      "DX_GROUP unique values: 2 \n",
      "\n",
      "DSM_IV_TR unique values: 2 \n",
      "\n",
      "SEX unique values: 2 \n",
      "\n",
      "DX_Control unique values: 2 \n",
      "\n",
      "DX_DSM unique values: 2 \n",
      "\n",
      "SEX_ unique values: 2 \n",
      "\n",
      "PATH unique values: 391 \n",
      "\n"
     ]
    }
   ],
   "source": [
    "# Check for unique values\n",
    "for col in meta.columns: \n",
    "    print(col, \"unique values:\", meta[col].nunique(), \"\\n\")"
   ]
  },
  {
   "cell_type": "code",
   "execution_count": 10,
   "metadata": {},
   "outputs": [
    {
     "name": "stdout",
     "output_type": "stream",
     "text": [
      "DX_GROUP unique values: [1 2] \n",
      "\n",
      "DSM_IV_TR unique values: [1 0] \n",
      "\n",
      "SEX unique values: [2 1] \n",
      "\n",
      "DX_Control unique values: ['Autism' 'Control'] \n",
      "\n",
      "DX_DSM unique values: ['Autism' 'Control'] \n",
      "\n",
      "SEX_ unique values: ['Female' 'Male'] \n",
      "\n"
     ]
    }
   ],
   "source": [
    "# With the exception of first and last column, what are the unique values? \n",
    "for col in meta.columns[1:-1]: \n",
    "    print(col, \"unique values:\", meta[col].unique(), \"\\n\")"
   ]
  },
  {
   "cell_type": "code",
   "execution_count": 11,
   "metadata": {},
   "outputs": [
    {
     "data": {
      "text/plain": [
       "DX_Control  DX_DSM \n",
       "Autism      Autism     146\n",
       "Control     Control    245\n",
       "dtype: int64"
      ]
     },
     "execution_count": 11,
     "metadata": {},
     "output_type": "execute_result"
    }
   ],
   "source": [
    "# Checking if columns are duplicative.  Result: DX_Control and DX_DSM are the same\n",
    "meta.groupby([\"DX_Control\", \"DX_DSM\"]).size()"
   ]
  },
  {
   "cell_type": "code",
   "execution_count": 12,
   "metadata": {},
   "outputs": [],
   "source": [
    "# # Double-check. Result: DX_Control and DX_DSM are the same\n",
    "# meta.query(\"DX_Control == 'Autism' & DX_DSM == 'Control'\")"
   ]
  },
  {
   "cell_type": "code",
   "execution_count": 13,
   "metadata": {},
   "outputs": [
    {
     "data": {
      "text/plain": [
       "SEX  SEX_  \n",
       "1    Male      308\n",
       "2    Female     83\n",
       "dtype: int64"
      ]
     },
     "execution_count": 13,
     "metadata": {},
     "output_type": "execute_result"
    }
   ],
   "source": [
    "# Checking if columns are duplicative.  Result: SEX and SEX_ are the same\n",
    "meta.groupby([\"SEX\", \"SEX_\"]).size()"
   ]
  },
  {
   "cell_type": "code",
   "execution_count": 14,
   "metadata": {},
   "outputs": [
    {
     "name": "stdout",
     "output_type": "stream",
     "text": [
      "DX_GROUP \n",
      "\n",
      " DX_GROUP  DX_GROUP\n",
      "1         1           146\n",
      "2         2           245\n",
      "dtype: int64 \n",
      "\n",
      "\n",
      "\n",
      "DSM_IV_TR \n",
      "\n",
      " DX_GROUP  DSM_IV_TR\n",
      "1         1            146\n",
      "2         0            245\n",
      "dtype: int64 \n",
      "\n",
      "\n",
      "\n",
      "SEX \n",
      "\n",
      " DX_GROUP  SEX\n",
      "1         1      124\n",
      "          2       22\n",
      "2         1      184\n",
      "          2       61\n",
      "dtype: int64 \n",
      "\n",
      "\n",
      "\n",
      "DX_Control \n",
      "\n",
      " DX_GROUP  DX_Control\n",
      "1         Autism        146\n",
      "2         Control       245\n",
      "dtype: int64 \n",
      "\n",
      "\n",
      "\n",
      "DX_DSM \n",
      "\n",
      " DX_GROUP  DX_DSM \n",
      "1         Autism     146\n",
      "2         Control    245\n",
      "dtype: int64 \n",
      "\n",
      "\n",
      "\n",
      "SEX_ \n",
      "\n",
      " DX_GROUP  SEX_  \n",
      "1         Female     22\n",
      "          Male      124\n",
      "2         Female     61\n",
      "          Male      184\n",
      "dtype: int64 \n",
      "\n",
      "\n",
      "\n"
     ]
    }
   ],
   "source": [
    "# Checking if columns are duplicative.  Result: DX_GROUP and DSM_IV_TR do not add new information\n",
    "for col in meta.columns[1:-1]: \n",
    "    print(col, \"\\n\"*2, meta.groupby([\"DX_GROUP\", col]).size(), \"\\n\"*3)"
   ]
  },
  {
   "cell_type": "code",
   "execution_count": 15,
   "metadata": {},
   "outputs": [
    {
     "data": {
      "text/plain": [
       "DX_Control  SEX_  \n",
       "Autism      Female     22\n",
       "            Male      124\n",
       "Control     Female     61\n",
       "            Male      184\n",
       "dtype: int64"
      ]
     },
     "execution_count": 15,
     "metadata": {},
     "output_type": "execute_result"
    }
   ],
   "source": [
    "# value counts by class and gender\n",
    "meta.groupby([\"DX_Control\", \"SEX_\"]).size()"
   ]
  },
  {
   "cell_type": "code",
   "execution_count": 16,
   "metadata": {},
   "outputs": [
    {
     "data": {
      "text/html": [
       "<div>\n",
       "<style scoped>\n",
       "    .dataframe tbody tr th:only-of-type {\n",
       "        vertical-align: middle;\n",
       "    }\n",
       "\n",
       "    .dataframe tbody tr th {\n",
       "        vertical-align: top;\n",
       "    }\n",
       "\n",
       "    .dataframe thead th {\n",
       "        text-align: right;\n",
       "    }\n",
       "</style>\n",
       "<table border=\"1\" class=\"dataframe\">\n",
       "  <thead>\n",
       "    <tr style=\"text-align: right;\">\n",
       "      <th></th>\n",
       "      <th>DX_Control</th>\n",
       "      <th>SEX_</th>\n",
       "      <th>PATH</th>\n",
       "    </tr>\n",
       "  </thead>\n",
       "  <tbody>\n",
       "    <tr>\n",
       "      <th>0</th>\n",
       "      <td>Autism</td>\n",
       "      <td>Female</td>\n",
       "      <td>/project/ds6050-soa2wg/team_lambda_II/Outputs/ccs/filt_global/func_mean/female_asd/Pitt_0050005_func_mean.nii.gz</td>\n",
       "    </tr>\n",
       "    <tr>\n",
       "      <th>1</th>\n",
       "      <td>Autism</td>\n",
       "      <td>Male</td>\n",
       "      <td>/project/ds6050-soa2wg/team_lambda_II/Outputs/ccs/filt_global/func_mean/male_asd/Pitt_0050006_func_mean.nii.gz</td>\n",
       "    </tr>\n",
       "    <tr>\n",
       "      <th>2</th>\n",
       "      <td>Autism</td>\n",
       "      <td>Male</td>\n",
       "      <td>/project/ds6050-soa2wg/team_lambda_II/Outputs/ccs/filt_global/func_mean/male_asd/Pitt_0050007_func_mean.nii.gz</td>\n",
       "    </tr>\n",
       "    <tr>\n",
       "      <th>3</th>\n",
       "      <td>Autism</td>\n",
       "      <td>Male</td>\n",
       "      <td>/project/ds6050-soa2wg/team_lambda_II/Outputs/ccs/filt_global/func_mean/male_asd/Pitt_0050011_func_mean.nii.gz</td>\n",
       "    </tr>\n",
       "    <tr>\n",
       "      <th>4</th>\n",
       "      <td>Autism</td>\n",
       "      <td>Male</td>\n",
       "      <td>/project/ds6050-soa2wg/team_lambda_II/Outputs/ccs/filt_global/func_mean/male_asd/Pitt_0050014_func_mean.nii.gz</td>\n",
       "    </tr>\n",
       "    <tr>\n",
       "      <th>...</th>\n",
       "      <td>...</td>\n",
       "      <td>...</td>\n",
       "      <td>...</td>\n",
       "    </tr>\n",
       "    <tr>\n",
       "      <th>386</th>\n",
       "      <td>Control</td>\n",
       "      <td>Male</td>\n",
       "      <td>/project/ds6050-soa2wg/team_lambda_II/Outputs/ccs/filt_global/func_mean/male_control/UCLA_1_0051280_func_mean.nii.gz</td>\n",
       "    </tr>\n",
       "    <tr>\n",
       "      <th>387</th>\n",
       "      <td>Control</td>\n",
       "      <td>Male</td>\n",
       "      <td>/project/ds6050-soa2wg/team_lambda_II/Outputs/ccs/filt_global/func_mean/male_control/UCLA_1_0051281_func_mean.nii.gz</td>\n",
       "    </tr>\n",
       "    <tr>\n",
       "      <th>388</th>\n",
       "      <td>Control</td>\n",
       "      <td>Female</td>\n",
       "      <td>/project/ds6050-soa2wg/team_lambda_II/Outputs/ccs/filt_global/func_mean/female_control/UCLA_1_0051282_func_mean.nii.gz</td>\n",
       "    </tr>\n",
       "    <tr>\n",
       "      <th>389</th>\n",
       "      <td>Control</td>\n",
       "      <td>Female</td>\n",
       "      <td>/project/ds6050-soa2wg/team_lambda_II/Outputs/ccs/filt_global/func_mean/female_control/UCLA_2_0051303_func_mean.nii.gz</td>\n",
       "    </tr>\n",
       "    <tr>\n",
       "      <th>390</th>\n",
       "      <td>Control</td>\n",
       "      <td>Female</td>\n",
       "      <td>/project/ds6050-soa2wg/team_lambda_II/Outputs/ccs/filt_global/func_mean/female_control/UCLA_2_0051305_func_mean.nii.gz</td>\n",
       "    </tr>\n",
       "  </tbody>\n",
       "</table>\n",
       "<p>391 rows × 3 columns</p>\n",
       "</div>"
      ],
      "text/plain": [
       "    DX_Control    SEX_  \\\n",
       "0       Autism  Female   \n",
       "1       Autism    Male   \n",
       "2       Autism    Male   \n",
       "3       Autism    Male   \n",
       "4       Autism    Male   \n",
       "..         ...     ...   \n",
       "386    Control    Male   \n",
       "387    Control    Male   \n",
       "388    Control  Female   \n",
       "389    Control  Female   \n",
       "390    Control  Female   \n",
       "\n",
       "                                                                                                                       PATH  \n",
       "0          /project/ds6050-soa2wg/team_lambda_II/Outputs/ccs/filt_global/func_mean/female_asd/Pitt_0050005_func_mean.nii.gz  \n",
       "1            /project/ds6050-soa2wg/team_lambda_II/Outputs/ccs/filt_global/func_mean/male_asd/Pitt_0050006_func_mean.nii.gz  \n",
       "2            /project/ds6050-soa2wg/team_lambda_II/Outputs/ccs/filt_global/func_mean/male_asd/Pitt_0050007_func_mean.nii.gz  \n",
       "3            /project/ds6050-soa2wg/team_lambda_II/Outputs/ccs/filt_global/func_mean/male_asd/Pitt_0050011_func_mean.nii.gz  \n",
       "4            /project/ds6050-soa2wg/team_lambda_II/Outputs/ccs/filt_global/func_mean/male_asd/Pitt_0050014_func_mean.nii.gz  \n",
       "..                                                                                                                      ...  \n",
       "386    /project/ds6050-soa2wg/team_lambda_II/Outputs/ccs/filt_global/func_mean/male_control/UCLA_1_0051280_func_mean.nii.gz  \n",
       "387    /project/ds6050-soa2wg/team_lambda_II/Outputs/ccs/filt_global/func_mean/male_control/UCLA_1_0051281_func_mean.nii.gz  \n",
       "388  /project/ds6050-soa2wg/team_lambda_II/Outputs/ccs/filt_global/func_mean/female_control/UCLA_1_0051282_func_mean.nii.gz  \n",
       "389  /project/ds6050-soa2wg/team_lambda_II/Outputs/ccs/filt_global/func_mean/female_control/UCLA_2_0051303_func_mean.nii.gz  \n",
       "390  /project/ds6050-soa2wg/team_lambda_II/Outputs/ccs/filt_global/func_mean/female_control/UCLA_2_0051305_func_mean.nii.gz  \n",
       "\n",
       "[391 rows x 3 columns]"
      ]
     },
     "execution_count": 16,
     "metadata": {},
     "output_type": "execute_result"
    }
   ],
   "source": [
    "pd.set_option(\"max_colwidth\",None)\n",
    "# Print relevant columns\n",
    "meta[['DX_Control', 'SEX_', 'PATH']]\n",
    "#pd.reset_option(\"max_colwidth\")"
   ]
  },
  {
   "cell_type": "code",
   "execution_count": null,
   "metadata": {},
   "outputs": [],
   "source": []
  }
 ],
 "metadata": {
  "kernelspec": {
   "display_name": "Python 3",
   "language": "python",
   "name": "python3"
  },
  "language_info": {
   "codemirror_mode": {
    "name": "ipython",
    "version": 3
   },
   "file_extension": ".py",
   "mimetype": "text/x-python",
   "name": "python",
   "nbconvert_exporter": "python",
   "pygments_lexer": "ipython3",
   "version": "3.8.8"
  }
 },
 "nbformat": 4,
 "nbformat_minor": 4
}
