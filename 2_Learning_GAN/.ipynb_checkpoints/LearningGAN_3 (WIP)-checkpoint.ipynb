{
 "cells": [
  {
   "cell_type": "markdown",
   "metadata": {},
   "source": [
    "### Generative Adversarial Networks\n",
    " \n",
    "April 31, 2022\n",
    "\n",
    "_Following this tutorial so hopefully I can learn how to extract GAN data_ \n",
    "\n",
    "_Update: The tutorial is good for figuring out how to update input sizes and loss functions, but not what I'm looking for in terms of how to save the data_\n",
    "\n",
    "https://machinelearningmastery.com/how-to-get-started-with-generative-adversarial-networks-7-day-mini-course/"
   ]
  },
  {
   "cell_type": "markdown",
   "metadata": {},
   "source": [
    "#### Lesson 01: What Are Generative Adversarial Networks?"
   ]
  },
  {
   "cell_type": "code",
   "execution_count": null,
   "metadata": {},
   "outputs": [],
   "source": []
  }
 ],
 "metadata": {
  "kernelspec": {
   "display_name": "Tensorflow 2.8.0/Keras Py3.9",
   "language": "python",
   "name": "tensorflow-2.8.0"
  },
  "language_info": {
   "codemirror_mode": {
    "name": "ipython",
    "version": 3
   },
   "file_extension": ".py",
   "mimetype": "text/x-python",
   "name": "python",
   "nbconvert_exporter": "python",
   "pygments_lexer": "ipython3",
   "version": "3.9.10"
  }
 },
 "nbformat": 4,
 "nbformat_minor": 4
}
