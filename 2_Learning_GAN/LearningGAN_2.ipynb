{
 "cells": [
  {
   "cell_type": "markdown",
   "metadata": {},
   "source": [
    "### Generative Adversarial Networks\n",
    " \n",
    "April 31, 2022\n",
    "\n",
    "_Following this tutorial so hopefully I can learn how to extract GAN data_ \n",
    "\n",
    "https://towardsdatascience.com/synthetic-data-generation-using-conditional-gan-45f91542ec6b"
   ]
  },
  {
   "cell_type": "markdown",
   "metadata": {},
   "source": [
    "#### Conditional GAN\n",
    "\n",
    "- Takes in label y"
   ]
  },
  {
   "cell_type": "code",
   "execution_count": 1,
   "metadata": {},
   "outputs": [
    {
     "name": "stdout",
     "output_type": "stream",
     "text": [
      "Defaulting to user installation because normal site-packages is not writeable\n",
      "Requirement already satisfied: pydot in /usr/local/lib/python3.9/site-packages (1.4.2)\n",
      "Requirement already satisfied: pyparsing>=2.1.4 in /usr/local/lib/python3.9/site-packages (from pydot) (3.0.7)\n",
      "\u001b[33mWARNING: You are using pip version 22.0.3; however, version 22.0.4 is available.\n",
      "You should consider upgrading via the '/usr/local/bin/python -m pip install --upgrade pip' command.\u001b[0m\u001b[33m\n",
      "\u001b[0m"
     ]
    }
   ],
   "source": [
    "# Installs \n",
    "!pip3 install pydot"
   ]
  },
  {
   "cell_type": "code",
   "execution_count": 2,
   "metadata": {},
   "outputs": [
    {
     "name": "stdout",
     "output_type": "stream",
     "text": [
      "Defaulting to user installation because normal site-packages is not writeable\n",
      "Requirement already satisfied: graphviz in /home/eyy8k/.local/lib/python3.9/site-packages (0.20)\n",
      "\u001b[33mWARNING: You are using pip version 22.0.3; however, version 22.0.4 is available.\n",
      "You should consider upgrading via the '/usr/local/bin/python -m pip install --upgrade pip' command.\u001b[0m\u001b[33m\n",
      "\u001b[0m"
     ]
    }
   ],
   "source": [
    "!pip3 install graphviz"
   ]
  },
  {
   "cell_type": "code",
   "execution_count": 3,
   "metadata": {},
   "outputs": [],
   "source": [
    "# import TensorFlow Keras API\n",
    "%matplotlib inline\n",
    "\n",
    "import matplotlib.pyplot as plt\n",
    "import numpy as np\n",
    "import tensorflow as tf"
   ]
  },
  {
   "cell_type": "code",
   "execution_count": 4,
   "metadata": {},
   "outputs": [],
   "source": [
    "# load data \n",
    "from tensorflow.keras.datasets import fashion_mnist\n",
    "from tensorflow.keras.layers import (\n",
    "        Activation, BatchNormalization, Concatenate, Dense, Dropout, Multiply,\n",
    "        Embedding, Flatten, Input, Reshape, LeakyReLU, Conv2D, Conv2DTranspose) \n",
    "from tensorflow.keras.models import Model, Sequential\n",
    "from tensorflow.keras.optimizers import Adam\n",
    "from tensorflow.keras.utils import plot_model\n"
   ]
  },
  {
   "cell_type": "code",
   "execution_count": 5,
   "metadata": {},
   "outputs": [],
   "source": [
    "# Define important parameters\n",
    "img_shape = (28,28,1)\n",
    "z_dim =100\n",
    "n_class= 10\n"
   ]
  },
  {
   "cell_type": "code",
   "execution_count": 6,
   "metadata": {},
   "outputs": [],
   "source": [
    "# Generator CNN model\n",
    "def generator_model(z_dim):\n",
    "\n",
    "    model = Sequential()\n",
    "\n",
    "    model.add(Dense(256 * 7 * 7, input_dim=z_dim,))\n",
    "    model.add(Reshape((7, 7, 256)))\n",
    "\n",
    "    model.add(Conv2DTranspose(128, 3, 2, padding='same',))\n",
    "    model.add(LeakyReLU(alpha =0.01))\n",
    "\n",
    "    model.add(Conv2DTranspose(64, 3, 1, padding='same',))\n",
    "    model.add(LeakyReLU(alpha =0.01))\n",
    "\n",
    "    model.add(Conv2DTranspose(1, 3, 2, padding='same',))\n",
    "    model.add(LeakyReLU(alpha =0.01))\n",
    "\n",
    "    return model"
   ]
  },
  {
   "cell_type": "code",
   "execution_count": 7,
   "metadata": {},
   "outputs": [],
   "source": [
    "# generator input \n",
    "def generator(z_dim):\n",
    "    # latent input\n",
    "    z = Input(shape=(z_dim, ))\n",
    "    # label input\n",
    "    label = Input(shape=(1, ), dtype='int32')\n",
    "    # convert label to embedding\n",
    "    label_embedding = Embedding(n_class, z_dim)(label)\n",
    "\n",
    "    label_embedding = Flatten()(label_embedding)\n",
    "    # dot product two inputs\n",
    "    joined_representation = Multiply()([z, label_embedding])\n",
    "\n",
    "    generator = generator_model(z_dim)\n",
    "\n",
    "    conditioned_img = generator(joined_representation)\n",
    "\n",
    "    model =  Model([z, label], conditioned_img)\n",
    "    # save model blueprint to image\n",
    "    plot_model(model,'generator.jpg',show_shapes=True,show_dtype=True)\n",
    "\n",
    "    return model"
   ]
  },
  {
   "cell_type": "code",
   "execution_count": 8,
   "metadata": {},
   "outputs": [],
   "source": [
    "# discriminator CNN model\n",
    "def discriminator_model(img_shape):\n",
    "\n",
    "    model = Sequential()\n",
    "\n",
    "    model.add(Conv2D(64,3,2,input_shape=(img_shape[0], img_shape[1], img_shape[2] + 1),))\n",
    "    model.add(LeakyReLU(alpha =0.01))\n",
    "\n",
    "    model.add(Conv2D(64,3,2,input_shape=img_shape,padding='same',))\n",
    "    model.add(LeakyReLU(alpha =0.001))\n",
    "\n",
    "    model.add(Conv2D(128,3,2,input_shape=img_shape,padding='same',))\n",
    "    model.add(LeakyReLU(alpha =0.001))\n",
    "\n",
    "    model.add(Flatten())\n",
    "    model.add(Dense(1, activation='sigmoid'))\n",
    "\n",
    "    return model"
   ]
  },
  {
   "cell_type": "code",
   "execution_count": 9,
   "metadata": {},
   "outputs": [],
   "source": [
    "def discriminator(img_shape):\n",
    "    # image input\n",
    "    img = Input(shape=img_shape)\n",
    "    # label input\n",
    "    label = Input(shape=(1, ), dtype='int32')\n",
    "\n",
    "    label_embedding = Embedding(n_class, np.prod(img_shape),input_length=1)(label)\n",
    "\n",
    "    label_embedding = Flatten()(label_embedding)\n",
    "\n",
    "    label_embedding = Reshape(img_shape)(label_embedding)\n",
    "    # concatenate the image and label\n",
    "    concatenated = Concatenate(axis=-1)([img, label_embedding])\n",
    "\n",
    "    discriminator = discriminator_model(img_shape)\n",
    "\n",
    "    classification = discriminator(concatenated)\n",
    "\n",
    "    model = Model([img, label], classification)\n",
    "\n",
    "    plot_model(model,'discriminator.jpg',show_shapes=True,show_dtype=True)\n",
    "\n",
    "    return model"
   ]
  },
  {
   "cell_type": "code",
   "execution_count": 10,
   "metadata": {},
   "outputs": [
    {
     "name": "stdout",
     "output_type": "stream",
     "text": [
      "You must install pydot (`pip install pydot`) and install graphviz (see instructions at https://graphviz.gitlab.io/download/) for plot_model/model_to_dot to work.\n"
     ]
    },
    {
     "name": "stderr",
     "output_type": "stream",
     "text": [
      "2022-05-01 17:44:15.522988: E tensorflow/stream_executor/cuda/cuda_driver.cc:271] failed call to cuInit: CUDA_ERROR_NO_DEVICE: no CUDA-capable device is detected\n",
      "2022-05-01 17:44:15.523043: I tensorflow/stream_executor/cuda/cuda_diagnostics.cc:156] kernel driver does not appear to be running on this host (udc-aw29-23b): /proc/driver/nvidia/version does not exist\n",
      "2022-05-01 17:44:15.525077: I tensorflow/core/platform/cpu_feature_guard.cc:151] This TensorFlow binary is optimized with oneAPI Deep Neural Network Library (oneDNN) to use the following CPU instructions in performance-critical operations:  AVX2 AVX512F FMA\n",
      "To enable them in other operations, rebuild TensorFlow with the appropriate compiler flags.\n"
     ]
    },
    {
     "name": "stdout",
     "output_type": "stream",
     "text": [
      "You must install pydot (`pip install pydot`) and install graphviz (see instructions at https://graphviz.gitlab.io/download/) for plot_model/model_to_dot to work.\n"
     ]
    }
   ],
   "source": [
    "# define a complete GAN architecture\n",
    "def cgan(generator, discriminator):\n",
    "\n",
    "    z = Input(shape=(z_dim, ))\n",
    "\n",
    "    label = Input(shape=(1, ))\n",
    "\n",
    "    img = generator([z, label])\n",
    "\n",
    "    classification = discriminator([img, label])\n",
    "\n",
    "    model = Model([z, label], classification)\n",
    "    \n",
    "    return model\n",
    "\n",
    "discriminator = discriminator(img_shape)\n",
    "# compile the discriminator architecture \n",
    "discriminator.compile(loss='binary_crossentropy',\n",
    "                      optimizer=Adam(),\n",
    "                      metrics=['accuracy'])\n",
    "\n",
    "generator = generator(z_dim)\n",
    "# set discriminator to non-trainanle \n",
    "discriminator.trainable = False\n",
    "# compile the whole C-GAN architectu\n",
    "cgan = cgan(generator, discriminator)\n",
    "cgan.compile(loss='binary_crossentropy', optimizer=Adam())"
   ]
  },
  {
   "cell_type": "code",
   "execution_count": null,
   "metadata": {},
   "outputs": [],
   "source": [
    "# label to category dictionary\n",
    "dict_clothes ={0: \"T-shirt/top\",1: \"Trouser\",2: \"Pullover\",\n",
    "               3: \"Dress\",4: \"Coat\",5: \"Sandal\",6: \"Shirt\",\n",
    "               7: \"Sneaker\",8: \"Bag\",9: \"Ankle boot\"}"
   ]
  },
  {
   "cell_type": "code",
   "execution_count": null,
   "metadata": {},
   "outputs": [],
   "source": [
    "# function to plot and save sample images\n",
    "def plot_sample_images(epoch ,rows=5,columns=4):\n",
    "\n",
    "    z = np.random.normal(0, 1, (rows * columns, z_dim))\n",
    "    a =np.arange(0,10)\n",
    "    b =np.arange(0,10)\n",
    "\n",
    "    labels = np.append(a,b).reshape(-1,1)\n",
    "    \n",
    "    gen_imgs = generator.predict([z, labels])\n",
    "\n",
    "    gen_imgs = 0.5 * gen_imgs + 0.5\n",
    "    print(\"Epoch : %d \"%(epoch+1))\n",
    "    fig, axs = plt.subplots(rows,\n",
    "                            columns,\n",
    "                            figsize =(50, 20),\n",
    "                            sharey=True,\n",
    "                            sharex=True)\n",
    "\n",
    "    cnt = 0\n",
    "    for i in range(rows):\n",
    "        for j in range(columns):\n",
    "            axs[i, j].imshow(gen_imgs[cnt, :, :, 0], cmap='gray')\n",
    "            axs[i, j].axis('off')\n",
    "            axs[i, j].set_title(\"Type: %s\" % dict_clothes.get(labels[cnt][0]))\n",
    "            cnt += 1\n",
    "    fig.savefig('image%d.jpg'%(epoch))"
   ]
  },
  {
   "cell_type": "code",
   "execution_count": null,
   "metadata": {},
   "outputs": [],
   "source": [
    "# define training step\n",
    "def train(epochs, batch_size, sample_interval):\n",
    "    #  import Fashion-MNIST dataset\n",
    "    (x_train, y_train), (x_test, y_test)  = fashion_mnist.load_data()\n",
    "    X_train = np.concatenate([x_train, x_test])\n",
    "    Y_train = np.concatenate([y_train, y_test])\n",
    "\n",
    "    X_train = X_train.astype(\"float32\") / 255.0\n",
    "    X_train = np.reshape(X_train, (-1, 28, 28, 1))\n",
    "\n",
    "\n",
    "    real = np.ones((batch_size, 1))\n",
    "\n",
    "    fake = np.zeros((batch_size, 1))\n",
    "    \n",
    "    for epoch in range(epochs): \n",
    "        idx = np.random.randint(0, X_train.shape[0], batch_size)\n",
    "        imgs, labels = X_train[idx], Y_train[idx]\n",
    "\n",
    "        z = np.random.normal(0, 1, (batch_size, z_dim))\n",
    "        # generate images from generator\n",
    "        gen_imgs = generator.predict([z, labels])\n",
    "        # pass real an generated images to the discriminator and ctrain on them\n",
    "        d_loss_real = discriminator.train_on_batch([imgs, labels], real)\n",
    "        d_loss_fake = discriminator.train_on_batch([gen_imgs, labels], fake)\n",
    "        d_loss = 0.5 * np.add(d_loss_real, d_loss_fake)\n",
    "        \n",
    "        z = np.random.normal(0, 1, (batch_size, z_dim))\n",
    "\n",
    "        labels = np.random.randint(0, n_class, batch_size).reshape(-1, 1)\n",
    "   \n",
    "        g_loss = cgan.train_on_batch([z, labels], real)\n",
    "\n",
    "        if (epoch + 1) % sample_interval == 0:\n",
    "\n",
    "            print(\"%d [D loss: %f, acc.: %.2f%%] [G loss: %f]\" %(epoch + 1, d_loss[0], 100 * d_loss[1], g_loss))\n",
    "\n",
    "            plot_sample_images(epoch+1)"
   ]
  },
  {
   "cell_type": "code",
   "execution_count": null,
   "metadata": {},
   "outputs": [],
   "source": [
    "iterations = 20000\n",
    "batch_size = 128\n",
    "sample_interval = 2000\n",
    "\n",
    "train(iterations, batch_size, sample_interval)"
   ]
  },
  {
   "cell_type": "code",
   "execution_count": null,
   "metadata": {},
   "outputs": [],
   "source": [
    "anim_file = 'condition_gan.gif'\n",
    "# for creating GIF\n",
    "import imageio\n",
    "import glob\n",
    "\n",
    "with imageio.get_writer(anim_file, mode='I') as writer:\n",
    "  filenames = glob.glob('image*.jpg')\n",
    "  filenames = sorted(filenames)\n",
    "  for filename in filenames:\n",
    "    image = imageio.imread(filename)\n",
    "    writer.append_data(image)\n",
    "  image = imageio.imread(filename)\n",
    "  writer.append_data(image)"
   ]
  }
 ],
 "metadata": {
  "kernelspec": {
   "display_name": "Tensorflow 2.8.0/Keras Py3.9",
   "language": "python",
   "name": "tensorflow-2.8.0"
  },
  "language_info": {
   "codemirror_mode": {
    "name": "ipython",
    "version": 3
   },
   "file_extension": ".py",
   "mimetype": "text/x-python",
   "name": "python",
   "nbconvert_exporter": "python",
   "pygments_lexer": "ipython3",
   "version": "3.9.10"
  }
 },
 "nbformat": 4,
 "nbformat_minor": 4
}
