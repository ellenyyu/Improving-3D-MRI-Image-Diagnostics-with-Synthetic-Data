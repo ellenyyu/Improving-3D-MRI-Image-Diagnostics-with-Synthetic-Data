{
  "nbformat": 4,
  "nbformat_minor": 0,
  "metadata": {
    "colab": {
      "name": "ABIDE_CreatingTFDataset.ipynb",
      "provenance": [],
      "collapsed_sections": []
    },
    "kernelspec": {
      "name": "python3",
      "display_name": "Python 3"
    },
    "language_info": {
      "name": "python"
    }
  },
  "cells": [
    {
      "cell_type": "code",
      "source": [
        "# Test if this line of code is necessary. Result: Yes. \n",
        "from google.colab import drive\n",
        "drive.mount('/content/drive')"
      ],
      "metadata": {
        "colab": {
          "base_uri": "https://localhost:8080/"
        },
        "id": "5f-9XCvR4ZFo",
        "outputId": "ff836955-41bc-4c8d-ed4d-c6404b736233"
      },
      "execution_count": 1,
      "outputs": [
        {
          "output_type": "stream",
          "name": "stdout",
          "text": [
            "Mounted at /content/drive\n"
          ]
        }
      ]
    },
    {
      "cell_type": "code",
      "source": [
        "# Test if this line of code is necessary. Result: Yes. \n",
        "import os\n",
        "os.chdir('/content/drive/MyDrive/DL Final Project')\n",
        "!pwd"
      ],
      "metadata": {
        "colab": {
          "base_uri": "https://localhost:8080/"
        },
        "id": "Bm2opXe84ZN-",
        "outputId": "fc97fd98-66bb-4ac8-9b8a-e3df57eb1e71"
      },
      "execution_count": 2,
      "outputs": [
        {
          "output_type": "stream",
          "name": "stdout",
          "text": [
            "/content/drive/.shortcut-targets-by-id/1XkxjoagHhkDNpQA7O667l4uGGKsTb_MU/DL Final Project\n"
          ]
        }
      ]
    },
    {
      "cell_type": "code",
      "source": [
        "#path to the files downloaded for testing\n",
        "#only 3 files downloaded, all 9-10 year old girls with autism\n",
        "!ls ABIDE_Download/Outputs/ccs/filt_global/func_mean"
      ],
      "metadata": {
        "colab": {
          "base_uri": "https://localhost:8080/"
        },
        "id": "b_LSLfZl4ZQg",
        "outputId": "7e3b604f-2bee-446e-cdbf-4c8436b5542a"
      },
      "execution_count": 3,
      "outputs": [
        {
          "output_type": "stream",
          "name": "stdout",
          "text": [
            "UCLA_1_0051226_func_mean.nii.gz  Yale_0050627_func_mean.nii.gz\n",
            "UM_1_0050300_func_mean.nii.gz\n"
          ]
        }
      ]
    },
    {
      "cell_type": "code",
      "source": [
        "# Reference: https://www.tensorflow.org/datasets/add_dataset"
      ],
      "metadata": {
        "id": "2JsZIGDt4ehH"
      },
      "execution_count": null,
      "outputs": []
    }
  ]
}