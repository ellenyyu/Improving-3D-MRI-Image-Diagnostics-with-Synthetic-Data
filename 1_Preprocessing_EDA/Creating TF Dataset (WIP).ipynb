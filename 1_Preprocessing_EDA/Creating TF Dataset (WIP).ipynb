{
 "cells": [
  {
   "cell_type": "code",
   "execution_count": 1,
   "metadata": {
    "colab": {
     "base_uri": "https://localhost:8080/"
    },
    "id": "5f-9XCvR4ZFo",
    "outputId": "ff836955-41bc-4c8d-ed4d-c6404b736233"
   },
   "outputs": [
    {
     "name": "stdout",
     "output_type": "stream",
     "text": [
      "Mounted at /content/drive\n"
     ]
    }
   ],
   "source": [
    "# Test if this line of code is necessary. Result: Yes. \n",
    "from google.colab import drive\n",
    "drive.mount('/content/drive')"
   ]
  },
  {
   "cell_type": "code",
   "execution_count": 2,
   "metadata": {
    "colab": {
     "base_uri": "https://localhost:8080/"
    },
    "id": "Bm2opXe84ZN-",
    "outputId": "fc97fd98-66bb-4ac8-9b8a-e3df57eb1e71"
   },
   "outputs": [
    {
     "name": "stdout",
     "output_type": "stream",
     "text": [
      "/content/drive/.shortcut-targets-by-id/1XkxjoagHhkDNpQA7O667l4uGGKsTb_MU/DL Final Project\n"
     ]
    }
   ],
   "source": [
    "# Test if this line of code is necessary. Result: Yes. \n",
    "import os\n",
    "os.chdir('/content/drive/MyDrive/DL Final Project')\n",
    "!pwd"
   ]
  },
  {
   "cell_type": "code",
   "execution_count": 3,
   "metadata": {
    "colab": {
     "base_uri": "https://localhost:8080/"
    },
    "id": "b_LSLfZl4ZQg",
    "outputId": "7e3b604f-2bee-446e-cdbf-4c8436b5542a"
   },
   "outputs": [
    {
     "name": "stdout",
     "output_type": "stream",
     "text": [
      "UCLA_1_0051226_func_mean.nii.gz  Yale_0050627_func_mean.nii.gz\n",
      "UM_1_0050300_func_mean.nii.gz\n"
     ]
    }
   ],
   "source": [
    "#path to the files downloaded for testing\n",
    "#only 3 files downloaded, all 9-10 year old girls with autism\n",
    "!ls ABIDE_Download/Outputs/ccs/filt_global/func_mean"
   ]
  },
  {
   "cell_type": "code",
   "execution_count": null,
   "metadata": {
    "id": "2JsZIGDt4ehH"
   },
   "outputs": [],
   "source": [
    "# Reference: https://www.tensorflow.org/datasets/add_dataset"
   ]
  }
 ],
 "metadata": {
  "colab": {
   "collapsed_sections": [],
   "name": "ABIDE_CreatingTFDataset.ipynb",
   "provenance": []
  },
  "kernelspec": {
   "display_name": "Python 3",
   "language": "python",
   "name": "python3"
  },
  "language_info": {
   "codemirror_mode": {
    "name": "ipython",
    "version": 3
   },
   "file_extension": ".py",
   "mimetype": "text/x-python",
   "name": "python",
   "nbconvert_exporter": "python",
   "pygments_lexer": "ipython3",
   "version": "3.8.8"
  }
 },
 "nbformat": 4,
 "nbformat_minor": 4
}
