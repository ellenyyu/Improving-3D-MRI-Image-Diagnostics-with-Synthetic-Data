{
 "cells": [
  {
   "cell_type": "markdown",
   "metadata": {},
   "source": [
    "### Learning saving Tensor Data \n",
    "\n",
    "April 31, 2022 \n",
    "\n",
    "_This was surprisingly hard_"
   ]
  },
  {
   "cell_type": "markdown",
   "metadata": {},
   "source": [
    "https://www.tensorflow.org/api_docs/python/tf/data/experimental/save"
   ]
  },
  {
   "cell_type": "code",
   "execution_count": null,
   "metadata": {},
   "outputs": [],
   "source": [
    "# # Unsuccessful attempt via tf.data.experimental.save\n",
    "\n",
    "# import tempfile\n",
    "\n",
    "# path = os.path.join(tempfile.gettempdir(), \"saved_data\")\n",
    "# # Save a dataset\n",
    "# #dataset = tf.data.Dataset.range(2)\n",
    "# dataset = GAN\n",
    "# tf.data.experimental.save(dataset, path)\n",
    "# #new_dataset = tf.data.experimental.load(path)\n",
    "# # for elem in new_dataset:\n",
    "# #   print(elem)"
   ]
  },
  {
   "cell_type": "markdown",
   "metadata": {},
   "source": [
    "https://www.tensorflow.org/api_docs/python/tf/io/write_file"
   ]
  },
  {
   "cell_type": "code",
   "execution_count": 2,
   "metadata": {},
   "outputs": [],
   "source": [
    "## This attempt was also unsuccessful \n",
    "#tf.io.write_file(\"GAN\", GAN)"
   ]
  },
  {
   "cell_type": "markdown",
   "metadata": {},
   "source": [
    "https://pytorch.org/docs/stable/generated/torch.save.html"
   ]
  },
  {
   "cell_type": "code",
   "execution_count": 3,
   "metadata": {},
   "outputs": [],
   "source": [
    "# This attempt was also unsuccessful \n",
    "# import torch \n",
    "# torch.save(GAN, 'GAN.pt')"
   ]
  },
  {
   "cell_type": "markdown",
   "metadata": {},
   "source": [
    "https://discuss.pytorch.org/t/what-is-the-recommended-format-to-save-data-in-pytorch/89047"
   ]
  },
  {
   "cell_type": "code",
   "execution_count": 4,
   "metadata": {},
   "outputs": [],
   "source": [
    "# Saving tensor to file \n",
    "\n",
    "## I believe this has to be run in a kernel that supports Torch such as AMPTorch 0.1\n",
    "\n",
    "## The OG code saves the files in my home folder -> data -> tmp\n",
    "# import torch\n",
    "\n",
    "# from pathlib import Path\n",
    "\n",
    "# path = Path('~/data/tmp/').expanduser()\n",
    "\n",
    "# tensor_a = torch.rand(2,3)\n",
    "# tensor_b = torch.rand(1,3)\n",
    "\n",
    "# db = {'a': tensor_a, 'b': tensor_b}\n",
    "\n",
    "# torch.save(db, path/'torch_db')\n",
    "# loaded = torch.load(path/'torch_db')\n",
    "# print( loaded['a'] == tensor_a )\n",
    "# print( loaded['b'] == tensor_b )"
   ]
  },
  {
   "cell_type": "code",
   "execution_count": 5,
   "metadata": {},
   "outputs": [
    {
     "name": "stdout",
     "output_type": "stream",
     "text": [
      "tensor([[True, True, True],\n",
      "        [True, True, True]])\n",
      "tensor([[True, True, True]])\n"
     ]
    }
   ],
   "source": [
    "## This modified block of code saves the files in the project folder\n",
    "import torch\n",
    "\n",
    "from pathlib import Path\n",
    "\n",
    "path = Path('/project/ds6050-soa2wg/team_lambda_II/').expanduser()\n",
    "\n",
    "tensor_a = torch.rand(2,3)\n",
    "tensor_b = torch.rand(1,3)\n",
    "\n",
    "db = {'a': tensor_a, 'b': tensor_b}\n",
    "\n",
    "torch.save(db, path/'torch_db')\n",
    "loaded = torch.load(path/'torch_db')\n",
    "print( loaded['a'] == tensor_a )\n",
    "print( loaded['b'] == tensor_b )"
   ]
  },
  {
   "cell_type": "code",
   "execution_count": 6,
   "metadata": {},
   "outputs": [],
   "source": [
    "# saving data in numpy\n",
    "\n",
    "## The OG code saves the files in my home folder -> data -> tmp\n",
    "\n",
    "# import numpy as np\n",
    "# import pickle\n",
    "# from pathlib import Path\n",
    "\n",
    "# path = Path('~/data/tmp/').expanduser()\n",
    "# path.mkdir(parents=True, exist_ok=True)\n",
    "\n",
    "# lb,ub = -1,1\n",
    "# num_samples = 5\n",
    "# x = np.random.uniform(low=lb,high=ub,size=(1,num_samples))\n",
    "# y = x**2 + x + 2\n",
    "\n",
    "# # using save (to npy), savez (to npz)\n",
    "# np.save(path/'x', x)\n",
    "# np.save(path/'y', y)\n",
    "# np.savez(path/'db', x=x, y=y)\n",
    "# with open(path/'db.pkl', 'wb') as db_file:\n",
    "#     pickle.dump(obj={'x':x, 'y':y}, file=db_file)\n",
    "\n",
    "# ## using loading npy, npz files\n",
    "# x_loaded = np.load(path/'x.npy')\n",
    "# y_load = np.load(path/'y.npy')\n",
    "# db = np.load(path/'db.npz')\n",
    "# with open(path/'db.pkl', 'rb') as db_file:\n",
    "#     db_pkl = pickle.load(db_file)\n",
    "\n",
    "# print(x is x_loaded)\n",
    "# print(x == x_loaded)\n",
    "# print(x == db['x'])\n",
    "# print(x == db_pkl['x'])\n",
    "# print('done')"
   ]
  },
  {
   "cell_type": "code",
   "execution_count": 7,
   "metadata": {},
   "outputs": [],
   "source": [
    "## This modified block of code saves the files in the project folder\n",
    "import torch\n",
    "\n",
    "from pathlib import Path\n",
    "\n",
    "path = Path('/project/ds6050-soa2wg/team_lambda_II/').expanduser()\n",
    "\n",
    "tensor_a = torch.rand(2,3)\n",
    "tensor_b = torch.rand(1,3)"
   ]
  },
  {
   "cell_type": "code",
   "execution_count": 9,
   "metadata": {},
   "outputs": [
    {
     "data": {
      "text/plain": [
       "tensor([[0.1363, 0.6177, 0.1193],\n",
       "        [0.7630, 0.1149, 0.3399]])"
      ]
     },
     "execution_count": 9,
     "metadata": {},
     "output_type": "execute_result"
    }
   ],
   "source": [
    "tensor_a"
   ]
  },
  {
   "cell_type": "code",
   "execution_count": 10,
   "metadata": {},
   "outputs": [
    {
     "data": {
      "text/plain": [
       "tensor([[0.0776, 0.7623, 0.3437]])"
      ]
     },
     "execution_count": 10,
     "metadata": {},
     "output_type": "execute_result"
    }
   ],
   "source": [
    "tensor_b"
   ]
  },
  {
   "cell_type": "code",
   "execution_count": 11,
   "metadata": {},
   "outputs": [
    {
     "name": "stdout",
     "output_type": "stream",
     "text": [
      "tensor([[True, True, True],\n",
      "        [True, True, True]])\n",
      "tensor([[True, True, True]])\n"
     ]
    }
   ],
   "source": [
    "db = {'a': tensor_a, 'b': tensor_b}\n",
    "\n",
    "torch.save(db, path/'torch_db')\n",
    "loaded = torch.load(path/'torch_db')\n",
    "print( loaded['a'] == tensor_a )\n",
    "print( loaded['b'] == tensor_b )"
   ]
  },
  {
   "cell_type": "code",
   "execution_count": 12,
   "metadata": {},
   "outputs": [
    {
     "data": {
      "text/plain": [
       "tensor([[0.1363, 0.6177, 0.1193],\n",
       "        [0.7630, 0.1149, 0.3399]])"
      ]
     },
     "execution_count": 12,
     "metadata": {},
     "output_type": "execute_result"
    }
   ],
   "source": [
    "tensor_a"
   ]
  },
  {
   "cell_type": "code",
   "execution_count": 13,
   "metadata": {},
   "outputs": [
    {
     "data": {
      "text/plain": [
       "tensor([[0.0776, 0.7623, 0.3437]])"
      ]
     },
     "execution_count": 13,
     "metadata": {},
     "output_type": "execute_result"
    }
   ],
   "source": [
    "tensor_b"
   ]
  },
  {
   "cell_type": "code",
   "execution_count": null,
   "metadata": {},
   "outputs": [],
   "source": []
  }
 ],
 "metadata": {
  "kernelspec": {
   "display_name": "AMPTorch 0.1",
   "language": "python",
   "name": "amptorch-0.1"
  },
  "language_info": {
   "codemirror_mode": {
    "name": "ipython",
    "version": 3
   },
   "file_extension": ".py",
   "mimetype": "text/x-python",
   "name": "python",
   "nbconvert_exporter": "python",
   "pygments_lexer": "ipython3",
   "version": "3.7.10"
  }
 },
 "nbformat": 4,
 "nbformat_minor": 4
}
