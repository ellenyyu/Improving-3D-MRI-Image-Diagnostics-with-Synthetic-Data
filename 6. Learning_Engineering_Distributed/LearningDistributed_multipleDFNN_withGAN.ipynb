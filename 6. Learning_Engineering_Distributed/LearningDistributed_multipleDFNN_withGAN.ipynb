{
 "cells": [
  {
   "cell_type": "markdown",
   "metadata": {},
   "source": [
    "# Learning Distributed Computing\n",
    "\n",
    "_Finding out the size of my data and testing how batch sizes affect run through_\n",
    "\n",
    "<u> Results </u>\n",
    "- On batch size 16, I could run through maybe 2 DFNN (through 50 epochs each) before I ran out of memory on my one NVIDIA AA100 GPU with 38334 MB memory (Now, this runs through all 3 models in one go).\n",
    "- On batch size 32, I could run through I could run through all 3 DFNN.\n",
    "- On batch size 64, I could run through 2 DFNN (stalls on the third). \n",
    "- On batch size 8, I could run through all 3 DFNN.\n",
    "- On batch size 4, I could run through all 3 DFNN."
   ]
  },
  {
   "cell_type": "markdown",
   "metadata": {},
   "source": [
    "# 3.4 Deep Feedforward Neural Network (w/ GAN data)"
   ]
  },
  {
   "cell_type": "markdown",
   "metadata": {},
   "source": [
    "## 1. Data Load In"
   ]
  },
  {
   "cell_type": "code",
   "execution_count": 1,
   "metadata": {},
   "outputs": [],
   "source": [
    "import nibabel as nib\n",
    "import numpy as np\n",
    "import glob\n",
    "import sys\n",
    "import sklearn\n",
    "import os\n",
    "import numpy as np\n",
    "import matplotlib as mpl\n",
    "import matplotlib.pyplot as plt\n",
    "from functools import partial\n",
    "import PIL\n",
    "import PIL.Image\n",
    "import pandas as pd\n",
    "\n",
    "import tensorflow as tf\n",
    "from tensorflow import keras\n",
    "from tensorflow.keras import layers\n",
    "from sklearn.model_selection import train_test_split\n",
    "\n",
    "np.random.seed(42) # note that you must use the same seed to ensure consistentcy in your training/validation/testing\n",
    "tf.random.set_seed(42)"
   ]
  },
  {
   "cell_type": "code",
   "execution_count": 2,
   "metadata": {},
   "outputs": [],
   "source": [
    "# cases + conrols df\n",
    "df = pd.read_csv('/project/ds6050-soa2wg/team_lambda_II/ASD_DSM_CasesvsControls.csv', sep = ',')\n",
    "\n",
    "# obtain paths for all images\n",
    "images_paths_f_case = list(df.query(\"SEX_ == 'Female' & DX_Control == 'Autism'\")['PATH'])\n",
    "images_paths_f_control = list(df.query(\"SEX_ == 'Female' & DX_Control == 'Control'\")['PATH'])\n",
    "images_paths_m_case = list(df.query(\"SEX_ == 'Male' & DX_Control == 'Autism'\")['PATH'])\n",
    "images_paths_m_control = list(df.query(\"SEX_ == 'Male' & DX_Control == 'Control'\")['PATH'])\n",
    "\n",
    "# GAN\n",
    "gan_data_m = np.load('4hr_gan_pos_female_ep500_cs3000_si50.npy')\n",
    "gan_data_f = np.load('4hr_gan_pos_male_ep500_cs3000_si50.npy')"
   ]
  },
  {
   "cell_type": "code",
   "execution_count": 3,
   "metadata": {},
   "outputs": [
    {
     "data": {
      "text/plain": [
       "(50, 61, 73, 61)"
      ]
     },
     "execution_count": 3,
     "metadata": {},
     "output_type": "execute_result"
    }
   ],
   "source": [
    "gan_data_m.shape"
   ]
  },
  {
   "cell_type": "code",
   "execution_count": 4,
   "metadata": {},
   "outputs": [
    {
     "data": {
      "text/plain": [
       "(50, 61, 73, 61)"
      ]
     },
     "execution_count": 4,
     "metadata": {},
     "output_type": "execute_result"
    }
   ],
   "source": [
    "gan_data_f.shape"
   ]
  },
  {
   "cell_type": "code",
   "execution_count": 5,
   "metadata": {},
   "outputs": [],
   "source": [
    "gan_data_cases = np.concatenate((gan_data_f, gan_data_m))"
   ]
  },
  {
   "cell_type": "code",
   "execution_count": 6,
   "metadata": {},
   "outputs": [
    {
     "data": {
      "text/plain": [
       "(100, 61, 73, 61)"
      ]
     },
     "execution_count": 6,
     "metadata": {},
     "output_type": "execute_result"
    }
   ],
   "source": [
    "gan_data_cases.shape"
   ]
  },
  {
   "cell_type": "code",
   "execution_count": 7,
   "metadata": {},
   "outputs": [
    {
     "name": "stdout",
     "output_type": "stream",
     "text": [
      "There are 72 female cases\n",
      "---------------------------------------\n",
      "There are 61 female controls\n",
      "---------------------------------------\n",
      "There are 174 male cases\n",
      "---------------------------------------\n",
      "There are 184 male controls\n",
      "---------------------------------------\n",
      "There are 246 total cases and 245 total controls! 491 participants in total\n"
     ]
    }
   ],
   "source": [
    "total_cases = len(images_paths_f_case) + len(images_paths_m_case) + gan_data_m.shape[0] + gan_data_f.shape[0]\n",
    "total_controls = len(images_paths_f_control ) + len(images_paths_m_control) #+ gan_control_f.shape[0]\n",
    "# print out number of participants per category\n",
    "print('There are {} female cases'.format(str(len(images_paths_f_case) + gan_data_f.shape[0])))\n",
    "print('---------------------------------------')\n",
    "print('There are {} female controls'.format(str(len(images_paths_f_control))))\n",
    "print('---------------------------------------')\n",
    "print('There are {} male cases'.format(str(len(images_paths_m_case) + gan_data_m.shape[0])))\n",
    "print('---------------------------------------')\n",
    "print('There are {} male controls'.format(str(len(images_paths_m_control))))\n",
    "print('---------------------------------------')\n",
    "print(f'There are {total_cases} total cases and {total_controls} total controls! {total_controls + total_cases} participants in total')\n",
    "# make one giant list\n",
    "images_paths = images_paths_f_case  + images_paths_f_control + images_paths_m_case + images_paths_m_control\n",
    "\n",
    "num_im = len(images_paths)\n",
    "image_array = []"
   ]
  },
  {
   "cell_type": "code",
   "execution_count": 8,
   "metadata": {},
   "outputs": [],
   "source": [
    "final_list = [] # create image array from paths\n",
    "for path in images_paths:\n",
    "    try: \n",
    "        img = nib.load(path)\n",
    "        image_data = img.get_fdata()\n",
    "        image_array.append(image_data)\n",
    "        final_list.append(path)\n",
    "    except:\n",
    "        continue\n",
    "\n",
    "image_array = np.asarray(image_array).astype('float32')\n",
    "image_array = np.vstack((image_array,gan_data_cases))  "
   ]
  },
  {
   "cell_type": "code",
   "execution_count": 9,
   "metadata": {},
   "outputs": [
    {
     "data": {
      "text/plain": [
       "(491, 61, 73, 61)"
      ]
     },
     "execution_count": 9,
     "metadata": {},
     "output_type": "execute_result"
    }
   ],
   "source": [
    "image_array.shape"
   ]
  },
  {
   "cell_type": "code",
   "execution_count": 10,
   "metadata": {},
   "outputs": [
    {
     "data": {
      "text/plain": [
       "2    245\n",
       "1    146\n",
       "Name: DX_GROUP, dtype: int64"
      ]
     },
     "execution_count": 10,
     "metadata": {},
     "output_type": "execute_result"
    }
   ],
   "source": [
    "pheno = df[['FILE_ID', 'DX_GROUP']]\n",
    "pheno_array = np.array(pheno['DX_GROUP'])\n",
    "pheno_array = np.where(pheno_array == 2, 0, pheno_array) # 0 = control, 1 = dx\n",
    "# distribution\n",
    "df['DX_GROUP'].value_counts()"
   ]
  },
  {
   "cell_type": "code",
   "execution_count": 11,
   "metadata": {},
   "outputs": [],
   "source": [
    "# gan_pheno\n",
    "gan_pheno_cases = np.ones((gan_data_cases.shape[0],), dtype=int)\n",
    "all_pheno = np.concatenate((pheno_array, gan_pheno_cases))"
   ]
  },
  {
   "cell_type": "code",
   "execution_count": 12,
   "metadata": {},
   "outputs": [],
   "source": [
    "#training and holdout split\n",
    "x_train, x_val, y_train, y_val = train_test_split(image_array, all_pheno, test_size = 0.15, random_state = 654)\n",
    "\n",
    "#training and testing split\n",
    "x_train, x_test, y_train, y_test = train_test_split(x_train, y_train, test_size = 0.25, random_state = 654)"
   ]
  },
  {
   "cell_type": "markdown",
   "metadata": {},
   "source": [
    "#### Find the memory size of a NumPy array"
   ]
  },
  {
   "cell_type": "code",
   "execution_count": 13,
   "metadata": {},
   "outputs": [],
   "source": [
    "# Checking size (really, memory) of data\n",
    "# quick and not necessarily throughly studied implementation: \n",
    "# https://www.geeksforgeeks.org/find-the-memory-size-of-a-numpy-array/#:~:text=So%20for%20finding%20the%20memory,of%20NumPy%20array%20in%20bytes.\n",
    "# Method 1: Using size and itemsize attributes of NumPy array\n",
    "\n",
    "#size: This attribute gives the number of elements present in the NumPy array.\n",
    "#itemsize: This attribute gives the memory size of one element of NumPy array in bytes."
   ]
  },
  {
   "cell_type": "code",
   "execution_count": 14,
   "metadata": {},
   "outputs": [
    {
     "name": "stdout",
     "output_type": "stream",
     "text": [
      "Size of the array:  133371803\n",
      "Memory size of one array element in bytes:  4\n",
      "Memory size of numpy array in bytes: 533487212\n"
     ]
    }
   ],
   "source": [
    "#import numpy as np \n",
    "# create a numpy 1d-array\n",
    "x = image_array\n",
    "  \n",
    "print(\"Size of the array: \",\n",
    "      x.size)\n",
    "  \n",
    "print(\"Memory size of one array element in bytes: \",\n",
    "      x.itemsize)\n",
    "  \n",
    "# memory size of numpy array in bytes\n",
    "print(\"Memory size of numpy array in bytes:\",\n",
    "      x.size * x.itemsize)"
   ]
  },
  {
   "cell_type": "code",
   "execution_count": 15,
   "metadata": {},
   "outputs": [
    {
     "name": "stdout",
     "output_type": "stream",
     "text": [
      "Size of the array:  491\n",
      "Memory size of one array element in bytes:  8\n",
      "Memory size of numpy array in bytes: 3928\n"
     ]
    }
   ],
   "source": [
    "#import numpy as np \n",
    "# create a numpy 1d-array\n",
    "x = all_pheno\n",
    "  \n",
    "print(\"Size of the array: \",\n",
    "      x.size)\n",
    "  \n",
    "print(\"Memory size of one array element in bytes: \",\n",
    "      x.itemsize)\n",
    "  \n",
    "# memory size of numpy array in bytes\n",
    "print(\"Memory size of numpy array in bytes:\",\n",
    "      x.size * x.itemsize)"
   ]
  },
  {
   "cell_type": "code",
   "execution_count": 16,
   "metadata": {},
   "outputs": [
    {
     "name": "stdout",
     "output_type": "stream",
     "text": [
      "Size of the array:  84749496\n",
      "Memory size of one array element in bytes:  4\n",
      "Memory size of numpy array in bytes: 338997984\n"
     ]
    }
   ],
   "source": [
    "#import numpy as np \n",
    "# create a numpy 1d-array\n",
    "x = x_train\n",
    "  \n",
    "print(\"Size of the array: \",\n",
    "      x.size)\n",
    "  \n",
    "print(\"Memory size of one array element in bytes: \",\n",
    "      x.itemsize)\n",
    "  \n",
    "# memory size of numpy array in bytes\n",
    "print(\"Memory size of numpy array in bytes:\",\n",
    "      x.size * x.itemsize)"
   ]
  },
  {
   "cell_type": "code",
   "execution_count": 17,
   "metadata": {},
   "outputs": [
    {
     "name": "stdout",
     "output_type": "stream",
     "text": [
      "Memory size of a NumPy array: 533487212\n"
     ]
    }
   ],
   "source": [
    "# Method 2: Using nbytes attribute of NumPy array\n",
    "#nbytes: This attribute gives the total bytes consumed by the elements of the NumPy array.\n",
    "\n",
    "# import library\n",
    "#import numpy as np\n",
    "  \n",
    "# create numpy 1d-array\n",
    "x = image_array\n",
    "  \n",
    "print(\"Memory size of a NumPy array:\",\n",
    "      x.nbytes)\n",
    "\n",
    "# 533,487,212 bytes is equivalent to 533 MB"
   ]
  },
  {
   "cell_type": "code",
   "execution_count": 18,
   "metadata": {},
   "outputs": [
    {
     "data": {
      "text/plain": [
       "<matplotlib.image.AxesImage at 0x7f12b2c26070>"
      ]
     },
     "execution_count": 18,
     "metadata": {},
     "output_type": "execute_result"
    },
    {
     "data": {
      "image/png": "[encoded data removed]",
      "text/plain": [
       "<Figure size 432x288 with 1 Axes>"
      ]
     },
     "metadata": {
      "needs_background": "light"
     },
     "output_type": "display_data"
    }
   ],
   "source": [
    "plt.imshow(x_train[15][48].T)"
   ]
  },
  {
   "cell_type": "code",
   "execution_count": 19,
   "metadata": {},
   "outputs": [
    {
     "name": "stderr",
     "output_type": "stream",
     "text": [
      "2022-05-06 18:38:54.593270: I tensorflow/core/platform/cpu_feature_guard.cc:151] This TensorFlow binary is optimized with oneAPI Deep Neural Network Library (oneDNN) to use the following CPU instructions in performance-critical operations:  AVX2 FMA\n",
      "To enable them in other operations, rebuild TensorFlow with the appropriate compiler flags.\n",
      "2022-05-06 18:38:56.805647: I tensorflow/core/common_runtime/gpu/gpu_device.cc:1525] Created device /job:localhost/replica:0/task:0/device:GPU:0 with 38334 MB memory:  -> device: 0, name: NVIDIA A100-SXM4-40GB, pci bus id: 0000:07:00.0, compute capability: 8.0\n",
      "2022-05-06 18:38:56.811627: I tensorflow/core/common_runtime/gpu/gpu_device.cc:1525] Created device /job:localhost/replica:0/task:0/device:GPU:1 with 38397 MB memory:  -> device: 1, name: NVIDIA A100-SXM4-40GB, pci bus id: 0000:4e:00.0, compute capability: 8.0\n"
     ]
    }
   ],
   "source": [
    "# Define data loaders.\n",
    "train_loader = tf.data.Dataset.from_tensor_slices((x_train, y_train))\n",
    "validation_loader = tf.data.Dataset.from_tensor_slices((x_test, y_test))\n",
    "\n",
    "batch_size = 8\n",
    "# Augment the on the fly during training.\n",
    "train_dataset = (\n",
    "    train_loader.shuffle(len(x_train))\n",
    "#     .map(train_preprocessing)\n",
    "    .batch(batch_size)\n",
    "    .prefetch(tf.data.AUTOTUNE)\n",
    ")\n",
    "# Only rescale.\n",
    "validation_dataset = (\n",
    "    validation_loader.shuffle(len(x_test))\n",
    "#    .map(validation_preprocessing)\n",
    "    .batch(batch_size)\n",
    "    .prefetch(tf.data.AUTOTUNE)\n",
    ")"
   ]
  },
  {
   "cell_type": "markdown",
   "metadata": {},
   "source": [
    "#### Measuring Time to Run "
   ]
  },
  {
   "cell_type": "code",
   "execution_count": 20,
   "metadata": {},
   "outputs": [],
   "source": [
    "from timeit import default_timer as timer\n",
    "start = timer()"
   ]
  },
  {
   "cell_type": "markdown",
   "metadata": {},
   "source": [
    "## 2. Model"
   ]
  },
  {
   "cell_type": "markdown",
   "metadata": {},
   "source": [
    "### 2.1 Highest performing DFNN architecture from Mellema 2022 ** Best Performing with GAN data **"
   ]
  },
  {
   "cell_type": "code",
   "execution_count": 21,
   "metadata": {},
   "outputs": [
    {
     "name": "stdout",
     "output_type": "stream",
     "text": [
      "Model: \"DFNN\"\n",
      "_________________________________________________________________\n",
      " Layer (type)                Output Shape              Param #   \n",
      "=================================================================\n",
      " input_1 (InputLayer)        [(None, 61, 73, 61, 1)]   0         \n",
      "                                                                 \n",
      " dense (Dense)               (None, 61, 73, 61, 6)     12        \n",
      "                                                                 \n",
      " dense_1 (Dense)             (None, 61, 73, 61, 64)    448       \n",
      "                                                                 \n",
      " dropout (Dropout)           (None, 61, 73, 61, 64)    0         \n",
      "                                                                 \n",
      " dense_2 (Dense)             (None, 61, 73, 61, 64)    4160      \n",
      "                                                                 \n",
      " flatten (Flatten)           (None, 17384512)          0         \n",
      "                                                                 \n",
      " dense_3 (Dense)             (None, 1)                 17384513  \n",
      "                                                                 \n",
      "=================================================================\n",
      "Total params: 17,389,133\n",
      "Trainable params: 17,389,133\n",
      "Non-trainable params: 0\n",
      "_________________________________________________________________\n"
     ]
    }
   ],
   "source": [
    "def Dense_model(width=61, height=73, depth=61):\n",
    "    \"\"\"Build a Highest performing Dense FNN neural network model from Mellema 2022.\"\"\"\n",
    "\n",
    "    inputs = keras.Input((width, height, depth, 1))\n",
    "    \n",
    "    x = layers.Dense(6,kernel_regularizer=tf.keras.regularizers.l2(0.0001))(inputs)\n",
    "    x = layers.Dense(units=64, activation=\"relu\")(x)\n",
    "    x = layers.Dropout(0.13)(x)\n",
    "    x = layers.Dense(units=64, activation=\"relu\")(x)\n",
    "    x = layers.Flatten()(x)\n",
    "    \n",
    "\n",
    "    outputs = layers.Dense(units=1, activation=\"sigmoid\")(x)\n",
    "\n",
    "    # Define the model.\n",
    "    model = keras.Model(inputs, outputs, name=\"DFNN\")\n",
    "    return model\n",
    "\n",
    "\n",
    "# Build model.\n",
    "model = Dense_model(width=61, height=73, depth=61)\n",
    "model.summary()"
   ]
  },
  {
   "cell_type": "code",
   "execution_count": 22,
   "metadata": {},
   "outputs": [
    {
     "name": "stdout",
     "output_type": "stream",
     "text": [
      "Epoch 1/125\n"
     ]
    },
    {
     "name": "stderr",
     "output_type": "stream",
     "text": [
      "2022-05-06 18:39:00.975254: I tensorflow/stream_executor/cuda/cuda_blas.cc:1786] TensorFloat-32 will be used for the matrix multiplication. This will only be logged once.\n"
     ]
    },
    {
     "name": "stdout",
     "output_type": "stream",
     "text": [
      "39/39 [==============================] - 5s 49ms/step - loss: 37740.8828 - binary_accuracy: 0.5481 - auc: 0.5459 - val_loss: 15278.4189 - val_binary_accuracy: 0.5714 - val_auc: 0.5312\n",
      "Epoch 2/125\n",
      "39/39 [==============================] - 2s 42ms/step - loss: 13771.4043 - binary_accuracy: 0.6859 - auc: 0.6748 - val_loss: 3970.0881 - val_binary_accuracy: 0.7810 - val_auc: 0.7884\n",
      "Epoch 3/125\n",
      "39/39 [==============================] - 2s 42ms/step - loss: 5230.6616 - binary_accuracy: 0.7756 - auc: 0.7688 - val_loss: 16076.4805 - val_binary_accuracy: 0.6476 - val_auc: 0.6754\n",
      "Epoch 4/125\n",
      "39/39 [==============================] - 2s 42ms/step - loss: 5144.0679 - binary_accuracy: 0.7308 - auc: 0.7183 - val_loss: 5337.7002 - val_binary_accuracy: 0.7143 - val_auc: 0.7315\n",
      "Epoch 5/125\n",
      "39/39 [==============================] - 2s 42ms/step - loss: 2762.0237 - binary_accuracy: 0.7756 - auc: 0.7556 - val_loss: 2765.2783 - val_binary_accuracy: 0.8190 - val_auc: 0.8070\n",
      "Epoch 6/125\n",
      "39/39 [==============================] - 2s 42ms/step - loss: 1803.6675 - binary_accuracy: 0.8269 - auc: 0.8066 - val_loss: 1549.0612 - val_binary_accuracy: 0.8286 - val_auc: 0.8114\n",
      "Epoch 7/125\n",
      "39/39 [==============================] - 2s 42ms/step - loss: 1354.2881 - binary_accuracy: 0.8494 - auc: 0.8294 - val_loss: 2352.8413 - val_binary_accuracy: 0.7810 - val_auc: 0.7867\n",
      "Epoch 8/125\n",
      "39/39 [==============================] - 2s 42ms/step - loss: 1103.3656 - binary_accuracy: 0.8558 - auc: 0.8459 - val_loss: 2478.2849 - val_binary_accuracy: 0.7810 - val_auc: 0.7867\n",
      "Epoch 9/125\n",
      "39/39 [==============================] - 2s 42ms/step - loss: 5426.0835 - binary_accuracy: 0.7276 - auc: 0.6958 - val_loss: 5661.0024 - val_binary_accuracy: 0.7238 - val_auc: 0.7350\n",
      "Epoch 10/125\n",
      "39/39 [==============================] - 2s 42ms/step - loss: 1146.8517 - binary_accuracy: 0.8814 - auc: 0.8645 - val_loss: 2043.3186 - val_binary_accuracy: 0.7238 - val_auc: 0.6573\n",
      "Epoch 11/125\n",
      "39/39 [==============================] - 2s 42ms/step - loss: 3682.3157 - binary_accuracy: 0.7564 - auc: 0.7164 - val_loss: 2167.6206 - val_binary_accuracy: 0.7905 - val_auc: 0.7911\n",
      "Epoch 12/125\n",
      "39/39 [==============================] - 2s 42ms/step - loss: 1684.5254 - binary_accuracy: 0.8397 - auc: 0.8170 - val_loss: 1615.1443 - val_binary_accuracy: 0.7905 - val_auc: 0.7540\n",
      "Epoch 13/125\n",
      "39/39 [==============================] - 2s 42ms/step - loss: 393.9217 - binary_accuracy: 0.9006 - auc: 0.8831 - val_loss: 1608.5360 - val_binary_accuracy: 0.7143 - val_auc: 0.6043\n",
      "Epoch 14/125\n",
      "39/39 [==============================] - 2s 42ms/step - loss: 485.1640 - binary_accuracy: 0.9135 - auc: 0.8956 - val_loss: 1244.7947 - val_binary_accuracy: 0.8190 - val_auc: 0.8121\n",
      "Epoch 15/125\n",
      "39/39 [==============================] - 2s 42ms/step - loss: 666.7599 - binary_accuracy: 0.8622 - auc: 0.8416 - val_loss: 1728.6937 - val_binary_accuracy: 0.7238 - val_auc: 0.6184\n",
      "Epoch 16/125\n",
      "39/39 [==============================] - 2s 42ms/step - loss: 153.2275 - binary_accuracy: 0.9295 - auc: 0.9180 - val_loss: 1388.8705 - val_binary_accuracy: 0.8190 - val_auc: 0.8174\n"
     ]
    },
    {
     "data": {
      "text/plain": [
       "<keras.callbacks.History at 0x7f12a82503a0>"
      ]
     },
     "execution_count": 22,
     "metadata": {},
     "output_type": "execute_result"
    }
   ],
   "source": [
    "# Compile model.\n",
    "initial_learning_rate = 0.0001\n",
    "\n",
    "lr_schedule = keras.optimizers.schedules.ExponentialDecay(\n",
    "    initial_learning_rate, decay_steps=100000, decay_rate=0.96, staircase=True\n",
    ")\n",
    "\n",
    "# Compile model.\n",
    "model.compile(\n",
    "    loss=\"binary_crossentropy\",\n",
    "    optimizer=keras.optimizers.Adam(learning_rate=lr_schedule),\n",
    "    metrics=[tf.keras.metrics.BinaryAccuracy(),tf.keras.metrics.AUC()],\n",
    ")\n",
    "\n",
    "# Define callbacks.\n",
    "#checkpoint_cb = keras.callbacks.ModelCheckpoint(\n",
    " #   \"3d_image_classification_Cxa_DFNN.h5\", save_best_only=True\n",
    "#)\n",
    "early_stopping_cb = keras.callbacks.EarlyStopping(monitor=\"val_binary_accuracy\", patience=10)\n",
    "\n",
    "# Train the model, doing validation at the end of each epoch\n",
    "epochs = 125\n",
    "model.fit(\n",
    "    train_dataset,\n",
    "    validation_data=validation_dataset,\n",
    "    epochs=epochs,\n",
    "    shuffle=True,\n",
    "    callbacks=early_stopping_cb,\n",
    ")"
   ]
  },
  {
   "cell_type": "code",
   "execution_count": 23,
   "metadata": {},
   "outputs": [],
   "source": [
    "# # Save the weights\n",
    "# model.save_weights('DFNN_DoubleActuals_mod1.h5')"
   ]
  },
  {
   "cell_type": "code",
   "execution_count": 24,
   "metadata": {},
   "outputs": [
    {
     "name": "stdout",
     "output_type": "stream",
     "text": [
      "[0.]\n",
      "This model is 100.00 percent confident that CT scan is normal\n",
      "This model is 0.00 percent confident that CT scan is abnormal\n",
      "0\n"
     ]
    }
   ],
   "source": [
    "# # # Load best weights.\n",
    "# model.load_weights(\"DFNN_DoubleActuals_mod1.h5\")\n",
    "prediction = model.predict(np.expand_dims(x_test[0], axis=0))[0]\n",
    "print(prediction)\n",
    "scores = [1 - prediction[0], prediction[0]]\n",
    "\n",
    "class_names = [\"normal\", \"abnormal\"]\n",
    "for score, name in zip(scores, class_names):\n",
    "    print(\n",
    "    \"This model is %.2f percent confident that CT scan is %s\"\n",
    "    % ((100 * score), name))\n",
    "print(y_test[0])"
   ]
  },
  {
   "cell_type": "code",
   "execution_count": 25,
   "metadata": {},
   "outputs": [
    {
     "name": "stdout",
     "output_type": "stream",
     "text": [
      "3/3 [==============================] - 0s 31ms/step - loss: 899.2334 - binary_accuracy: 0.7973 - auc: 0.7868\n"
     ]
    },
    {
     "data": {
      "text/plain": [
       "[899.2333984375, 0.7972972989082336, 0.7868131995201111]"
      ]
     },
     "execution_count": 25,
     "metadata": {},
     "output_type": "execute_result"
    }
   ],
   "source": [
    "#proportion of training data that's positive\n",
    "sum(y_train) / len(y_train)\n",
    "\n",
    "#proportion of holdout data that's positive\n",
    "(sum(y_val) / len(y_val))\n",
    "\n",
    "#evaluate on the holdout data\n",
    "model.evaluate(x_val, y_val)"
   ]
  },
  {
   "cell_type": "code",
   "execution_count": 26,
   "metadata": {},
   "outputs": [
    {
     "name": "stdout",
     "output_type": "stream",
     "text": [
      "              precision    recall  f1-score   support\n",
      "\n",
      "           0       0.73      0.91      0.81        35\n",
      "           1       0.90      0.69      0.78        39\n",
      "\n",
      "    accuracy                           0.80        74\n",
      "   macro avg       0.81      0.80      0.80        74\n",
      "weighted avg       0.82      0.80      0.80        74\n",
      "\n"
     ]
    }
   ],
   "source": [
    "from sklearn.metrics import classification_report, confusion_matrix\n",
    "\n",
    "preds = model.predict(x_val)\n",
    "\n",
    "preds = np.where(preds > .5, 1,0)\n",
    "\n",
    "\n",
    "\n",
    "print(classification_report(y_val, preds))\n",
    "cm = confusion_matrix(y_val, preds)"
   ]
  },
  {
   "cell_type": "code",
   "execution_count": 27,
   "metadata": {},
   "outputs": [
    {
     "data": {
      "image/png": "[encoded data removed]",
      "text/plain": [
       "<Figure size 432x288 with 2 Axes>"
      ]
     },
     "metadata": {
      "needs_background": "light"
     },
     "output_type": "display_data"
    }
   ],
   "source": [
    "import seaborn as sns\n",
    "\n",
    "ax = sns.heatmap(cm, annot=True, cmap='Blues')\n",
    "\n",
    "ax.set_title('Confusion Matrix');\n",
    "ax.set_xlabel('\\nPredicted Values')\n",
    "ax.set_ylabel('Actual Values ');\n",
    "\n",
    "## Ticket labels - List must be in alphabetical order\n",
    "ax.xaxis.set_ticklabels(['False','True'])\n",
    "ax.yaxis.set_ticklabels(['False','True'])\n",
    "\n",
    "## Display the visualization of the Confusion Matrix.\n",
    "plt.show()"
   ]
  },
  {
   "cell_type": "code",
   "execution_count": 28,
   "metadata": {},
   "outputs": [],
   "source": [
    "from sklearn.metrics import roc_curve\n",
    "y_pred_keras = model.predict(x_val).ravel()\n",
    "fpr_keras, tpr_keras, thresholds_keras = roc_curve(y_val, y_pred_keras)"
   ]
  },
  {
   "cell_type": "code",
   "execution_count": 29,
   "metadata": {},
   "outputs": [],
   "source": [
    "from sklearn.metrics import auc\n",
    "auc_keras = auc(fpr_keras, tpr_keras)"
   ]
  },
  {
   "cell_type": "code",
   "execution_count": 30,
   "metadata": {},
   "outputs": [
    {
     "data": {
      "text/plain": [
       "0.7985347985347985"
      ]
     },
     "execution_count": 30,
     "metadata": {},
     "output_type": "execute_result"
    }
   ],
   "source": [
    "auc_keras"
   ]
  },
  {
   "cell_type": "code",
   "execution_count": 31,
   "metadata": {},
   "outputs": [
    {
     "data": {
      "image/png": "[encoded data removed]",
      "text/plain": [
       "<Figure size 432x288 with 1 Axes>"
      ]
     },
     "metadata": {
      "needs_background": "light"
     },
     "output_type": "display_data"
    }
   ],
   "source": [
    "plt.figure(1)\n",
    "plt.plot([0, 1], [0, 1], 'k--')\n",
    "plt.plot(fpr_keras, tpr_keras, label='Model (area = {:.3f})'.format(auc_keras))\n",
    "plt.xlabel('False positive rate')\n",
    "plt.ylabel('True positive rate')\n",
    "plt.title('ROC curve')\n",
    "plt.legend(loc='best')\n",
    "plt.show()"
   ]
  },
  {
   "cell_type": "code",
   "execution_count": 32,
   "metadata": {},
   "outputs": [],
   "source": [
    "# from PIL import ImageFont\n",
    "# font = ImageFont.truetype(\"Arial.ttf\", 16)\n",
    "# visualkeras.layered_view(model, legend=True,font = font, to_file='DFNN1arch_gan.png')  # font is optional!"
   ]
  },
  {
   "cell_type": "markdown",
   "metadata": {},
   "source": [
    "### 2.2 Build a Highest performing Dense FNN neural network model from Mellema 2022 with modifications"
   ]
  },
  {
   "cell_type": "code",
   "execution_count": 33,
   "metadata": {},
   "outputs": [
    {
     "name": "stdout",
     "output_type": "stream",
     "text": [
      "Model: \"DFNN\"\n",
      "_________________________________________________________________\n",
      " Layer (type)                Output Shape              Param #   \n",
      "=================================================================\n",
      " input_2 (InputLayer)        [(None, 61, 73, 61, 1)]   0         \n",
      "                                                                 \n",
      " dense_4 (Dense)             (None, 61, 73, 61, 6)     12        \n",
      "                                                                 \n",
      " batch_normalization (BatchN  (None, 61, 73, 61, 6)    24        \n",
      " ormalization)                                                   \n",
      "                                                                 \n",
      " dense_5 (Dense)             (None, 61, 73, 61, 128)   896       \n",
      "                                                                 \n",
      " dropout_1 (Dropout)         (None, 61, 73, 61, 128)   0         \n",
      "                                                                 \n",
      " dense_6 (Dense)             (None, 61, 73, 61, 64)    8256      \n",
      "                                                                 \n",
      " flatten_1 (Flatten)         (None, 17384512)          0         \n",
      "                                                                 \n",
      " dense_7 (Dense)             (None, 1)                 17384513  \n",
      "                                                                 \n",
      "=================================================================\n",
      "Total params: 17,393,701\n",
      "Trainable params: 17,393,689\n",
      "Non-trainable params: 12\n",
      "_________________________________________________________________\n"
     ]
    }
   ],
   "source": [
    "def Dense_model(width=61, height=73, depth=61):\n",
    "    \"\"\"Build a Highest performing Dense FNN neural network model from Mellema 2022 with modifications.\"\"\"\n",
    "\n",
    "    inputs = keras.Input((width, height, depth, 1))  \n",
    "     \n",
    "    x = layers.Dense(6,kernel_regularizer=tf.keras.regularizers.l2(0.0001))(inputs)\n",
    "    x = layers.BatchNormalization()(x)\n",
    "    x = layers.Dense(units=128, activation=\"relu\")(x)\n",
    "    x = layers.Dropout(0.13)(x)\n",
    "    x = layers.Dense(units=64, activation=\"relu\")(x)\n",
    "    x = layers.Flatten()(x)\n",
    "    outputs = layers.Dense(units=1, activation=\"sigmoid\")(x)\n",
    "\n",
    "    # Define the model.\n",
    "    model = keras.Model(inputs, outputs, name=\"DFNN\")\n",
    "    return model\n",
    "\n",
    "\n",
    "# Build model.\n",
    "model = Dense_model(width=61, height=73, depth=61)\n",
    "model.summary()"
   ]
  },
  {
   "cell_type": "code",
   "execution_count": 34,
   "metadata": {},
   "outputs": [
    {
     "name": "stdout",
     "output_type": "stream",
     "text": [
      "Epoch 1/125\n"
     ]
    },
    {
     "name": "stderr",
     "output_type": "stream",
     "text": [
      "2022-05-06 18:39:35.034623: I tensorflow/stream_executor/cuda/cuda_dnn.cc:368] Loaded cuDNN version 8101\n"
     ]
    },
    {
     "name": "stdout",
     "output_type": "stream",
     "text": [
      "39/39 [==============================] - 6s 70ms/step - loss: 11.3676 - binary_accuracy: 0.6571 - auc_1: 0.6676 - val_loss: 18.2170 - val_binary_accuracy: 0.6476 - val_auc_1: 0.6754\n",
      "Epoch 2/125\n",
      "39/39 [==============================] - 3s 65ms/step - loss: 1.6358 - binary_accuracy: 0.8077 - auc_1: 0.8367 - val_loss: 3.0374 - val_binary_accuracy: 0.7333 - val_auc_1: 0.7856\n",
      "Epoch 3/125\n",
      "39/39 [==============================] - 3s 65ms/step - loss: 2.4061 - binary_accuracy: 0.7532 - auc_1: 0.7922 - val_loss: 1.5921 - val_binary_accuracy: 0.8095 - val_auc_1: 0.8562\n",
      "Epoch 4/125\n",
      "39/39 [==============================] - 3s 65ms/step - loss: 2.1400 - binary_accuracy: 0.7788 - auc_1: 0.8342 - val_loss: 1.6064 - val_binary_accuracy: 0.8095 - val_auc_1: 0.8670\n",
      "Epoch 5/125\n",
      "39/39 [==============================] - 3s 65ms/step - loss: 3.1138 - binary_accuracy: 0.7404 - auc_1: 0.7810 - val_loss: 10.2862 - val_binary_accuracy: 0.6476 - val_auc_1: 0.6754\n",
      "Epoch 6/125\n",
      "39/39 [==============================] - 3s 65ms/step - loss: 3.5535 - binary_accuracy: 0.7468 - auc_1: 0.7555 - val_loss: 1.8222 - val_binary_accuracy: 0.7905 - val_auc_1: 0.8284\n",
      "Epoch 7/125\n",
      "39/39 [==============================] - 3s 65ms/step - loss: 1.1109 - binary_accuracy: 0.8237 - auc_1: 0.8790 - val_loss: 3.3140 - val_binary_accuracy: 0.7429 - val_auc_1: 0.8096\n",
      "Epoch 8/125\n",
      "39/39 [==============================] - 3s 65ms/step - loss: 1.4863 - binary_accuracy: 0.8141 - auc_1: 0.8502 - val_loss: 3.4691 - val_binary_accuracy: 0.6952 - val_auc_1: 0.8023\n",
      "Epoch 9/125\n",
      "39/39 [==============================] - 3s 65ms/step - loss: 1.2149 - binary_accuracy: 0.8365 - auc_1: 0.8759 - val_loss: 1.2496 - val_binary_accuracy: 0.8000 - val_auc_1: 0.8372\n",
      "Epoch 10/125\n",
      "39/39 [==============================] - 3s 65ms/step - loss: 0.3220 - binary_accuracy: 0.9006 - auc_1: 0.9628 - val_loss: 1.0396 - val_binary_accuracy: 0.8000 - val_auc_1: 0.8635\n",
      "Epoch 11/125\n",
      "39/39 [==============================] - 3s 65ms/step - loss: 0.3186 - binary_accuracy: 0.9263 - auc_1: 0.9628 - val_loss: 2.1073 - val_binary_accuracy: 0.7048 - val_auc_1: 0.8183\n",
      "Epoch 12/125\n",
      "39/39 [==============================] - 3s 65ms/step - loss: 0.2526 - binary_accuracy: 0.9231 - auc_1: 0.9713 - val_loss: 1.0499 - val_binary_accuracy: 0.7619 - val_auc_1: 0.8745\n",
      "Epoch 13/125\n",
      "39/39 [==============================] - 3s 65ms/step - loss: 0.2287 - binary_accuracy: 0.9327 - auc_1: 0.9774 - val_loss: 0.6805 - val_binary_accuracy: 0.8381 - val_auc_1: 0.8807\n",
      "Epoch 14/125\n",
      "39/39 [==============================] - 3s 65ms/step - loss: 0.8436 - binary_accuracy: 0.8494 - auc_1: 0.8937 - val_loss: 1.2618 - val_binary_accuracy: 0.7905 - val_auc_1: 0.8483\n",
      "Epoch 15/125\n",
      "39/39 [==============================] - 3s 65ms/step - loss: 0.1743 - binary_accuracy: 0.9327 - auc_1: 0.9835 - val_loss: 0.7693 - val_binary_accuracy: 0.7429 - val_auc_1: 0.8754\n",
      "Epoch 16/125\n",
      "39/39 [==============================] - 3s 65ms/step - loss: 1.7146 - binary_accuracy: 0.7660 - auc_1: 0.8259 - val_loss: 0.6995 - val_binary_accuracy: 0.8476 - val_auc_1: 0.8776\n",
      "Epoch 17/125\n",
      "39/39 [==============================] - 3s 65ms/step - loss: 0.3400 - binary_accuracy: 0.9071 - auc_1: 0.9599 - val_loss: 0.7086 - val_binary_accuracy: 0.8286 - val_auc_1: 0.8777\n",
      "Epoch 18/125\n",
      "39/39 [==============================] - 3s 64ms/step - loss: 0.0709 - binary_accuracy: 0.9744 - auc_1: 0.9970 - val_loss: 0.7958 - val_binary_accuracy: 0.7810 - val_auc_1: 0.8759\n",
      "Epoch 19/125\n",
      "39/39 [==============================] - 3s 65ms/step - loss: 0.1097 - binary_accuracy: 0.9647 - auc_1: 0.9915 - val_loss: 0.6576 - val_binary_accuracy: 0.8381 - val_auc_1: 0.8774\n",
      "Epoch 20/125\n",
      "39/39 [==============================] - 3s 64ms/step - loss: 0.0718 - binary_accuracy: 0.9712 - auc_1: 0.9964 - val_loss: 0.6223 - val_binary_accuracy: 0.8190 - val_auc_1: 0.8770\n",
      "Epoch 21/125\n",
      "39/39 [==============================] - 3s 65ms/step - loss: 0.0532 - binary_accuracy: 0.9808 - auc_1: 0.9984 - val_loss: 0.8842 - val_binary_accuracy: 0.7619 - val_auc_1: 0.8728\n",
      "Epoch 22/125\n",
      "39/39 [==============================] - 3s 65ms/step - loss: 0.0931 - binary_accuracy: 0.9583 - auc_1: 0.9947 - val_loss: 0.6515 - val_binary_accuracy: 0.8286 - val_auc_1: 0.8765\n",
      "Epoch 23/125\n",
      "39/39 [==============================] - 3s 64ms/step - loss: 0.0949 - binary_accuracy: 0.9487 - auc_1: 0.9941 - val_loss: 0.6959 - val_binary_accuracy: 0.8381 - val_auc_1: 0.8843\n",
      "Epoch 24/125\n",
      "39/39 [==============================] - 3s 64ms/step - loss: 0.0637 - binary_accuracy: 0.9808 - auc_1: 0.9973 - val_loss: 0.6695 - val_binary_accuracy: 0.8381 - val_auc_1: 0.8814\n",
      "Epoch 25/125\n",
      "39/39 [==============================] - 3s 65ms/step - loss: 0.0313 - binary_accuracy: 0.9904 - auc_1: 1.0000 - val_loss: 1.2156 - val_binary_accuracy: 0.7429 - val_auc_1: 0.8721\n",
      "Epoch 26/125\n",
      "39/39 [==============================] - 3s 65ms/step - loss: 0.0144 - binary_accuracy: 0.9968 - auc_1: 1.0000 - val_loss: 0.7396 - val_binary_accuracy: 0.8000 - val_auc_1: 0.8777\n",
      "Epoch 27/125\n",
      "39/39 [==============================] - 3s 65ms/step - loss: 0.0192 - binary_accuracy: 0.9968 - auc_1: 1.0000 - val_loss: 0.9553 - val_binary_accuracy: 0.7714 - val_auc_1: 0.8737\n",
      "Epoch 28/125\n",
      "39/39 [==============================] - 3s 65ms/step - loss: 0.0198 - binary_accuracy: 1.0000 - auc_1: 1.0000 - val_loss: 0.7540 - val_binary_accuracy: 0.8000 - val_auc_1: 0.8759\n",
      "Epoch 29/125\n",
      "39/39 [==============================] - 3s 64ms/step - loss: 0.0140 - binary_accuracy: 1.0000 - auc_1: 1.0000 - val_loss: 0.6632 - val_binary_accuracy: 0.8476 - val_auc_1: 0.8799\n",
      "Epoch 30/125\n",
      "39/39 [==============================] - 3s 65ms/step - loss: 0.0222 - binary_accuracy: 0.9936 - auc_1: 0.9999 - val_loss: 0.7368 - val_binary_accuracy: 0.8095 - val_auc_1: 0.8818\n",
      "Epoch 31/125\n",
      "39/39 [==============================] - 3s 65ms/step - loss: 0.0280 - binary_accuracy: 0.9968 - auc_1: 0.9996 - val_loss: 1.0693 - val_binary_accuracy: 0.7619 - val_auc_1: 0.8728\n"
     ]
    },
    {
     "data": {
      "text/plain": [
       "<keras.callbacks.History at 0x7f11e078c370>"
      ]
     },
     "execution_count": 34,
     "metadata": {},
     "output_type": "execute_result"
    }
   ],
   "source": [
    "initial_learning_rate = 0.0001\n",
    "lr_schedule = keras.optimizers.schedules.ExponentialDecay(\n",
    "    initial_learning_rate, decay_steps=100000, decay_rate=0.95, staircase=True)\n",
    "\n",
    "# Compile model.\n",
    "model.compile(\n",
    "    loss=\"binary_crossentropy\",\n",
    "    optimizer=keras.optimizers.Adam(learning_rate=lr_schedule),\n",
    "    metrics=[tf.keras.metrics.BinaryAccuracy(),tf.keras.metrics.AUC()],\n",
    ")\n",
    "\n",
    "# Define callbacks.\n",
    "#checkpoint_cb = keras.callbacks.ModelCheckpoint(\n",
    " #   \"3d_image_classification_Cxa_adamDFNN.h5\", save_best_only=True)\n",
    "early_stopping_cb = keras.callbacks.EarlyStopping(monitor=\"val_binary_accuracy\", patience=15)\n",
    "\n",
    "# Train the model, doing validation at the end of each epoch\n",
    "#epochs = 50\n",
    "model.fit(\n",
    "    train_dataset,\n",
    "    validation_data=validation_dataset,\n",
    "    epochs=epochs,\n",
    "    shuffle=True,\n",
    "    callbacks=early_stopping_cb,\n",
    ")"
   ]
  },
  {
   "cell_type": "code",
   "execution_count": 35,
   "metadata": {},
   "outputs": [
    {
     "name": "stdout",
     "output_type": "stream",
     "text": [
      "3/3 [==============================] - 0s 41ms/step - loss: 0.7955 - binary_accuracy: 0.7703 - auc_1: 0.9062\n"
     ]
    },
    {
     "data": {
      "text/plain": [
       "[0.7954655289649963, 0.7702702879905701, 0.9062270522117615]"
      ]
     },
     "execution_count": 35,
     "metadata": {},
     "output_type": "execute_result"
    }
   ],
   "source": [
    "#evaluate on the holdout data\n",
    "model.evaluate(x_val, y_val)"
   ]
  },
  {
   "cell_type": "code",
   "execution_count": 36,
   "metadata": {},
   "outputs": [
    {
     "name": "stdout",
     "output_type": "stream",
     "text": [
      "              precision    recall  f1-score   support\n",
      "\n",
      "           0       0.67      1.00      0.80        35\n",
      "           1       1.00      0.56      0.72        39\n",
      "\n",
      "    accuracy                           0.77        74\n",
      "   macro avg       0.84      0.78      0.76        74\n",
      "weighted avg       0.85      0.77      0.76        74\n",
      "\n"
     ]
    }
   ],
   "source": [
    "from sklearn.metrics import classification_report, confusion_matrix\n",
    "\n",
    "preds = model.predict(x_val)\n",
    "\n",
    "preds = np.where(preds > .5, 1,0)\n",
    "\n",
    "\n",
    "\n",
    "print(classification_report(y_val, preds))\n",
    "cm = confusion_matrix(y_val, preds)"
   ]
  },
  {
   "cell_type": "code",
   "execution_count": 37,
   "metadata": {},
   "outputs": [
    {
     "data": {
      "image/png": "[encoded data removed]",
      "text/plain": [
       "<Figure size 432x288 with 2 Axes>"
      ]
     },
     "metadata": {
      "needs_background": "light"
     },
     "output_type": "display_data"
    }
   ],
   "source": [
    "import seaborn as sns\n",
    "\n",
    "ax = sns.heatmap(cm, annot=True, cmap='Blues')\n",
    "\n",
    "ax.set_title('Confusion Matrix');\n",
    "ax.set_xlabel('\\nPredicted Values')\n",
    "ax.set_ylabel('Actual Values ');\n",
    "\n",
    "## Ticket labels - List must be in alphabetical order\n",
    "ax.xaxis.set_ticklabels(['False','True'])\n",
    "ax.yaxis.set_ticklabels(['False','True'])\n",
    "\n",
    "## Display the visualization of the Confusion Matrix.\n",
    "plt.show()"
   ]
  },
  {
   "cell_type": "code",
   "execution_count": 38,
   "metadata": {},
   "outputs": [],
   "source": [
    "y_pred_keras = model.predict(x_val).ravel()\n",
    "fpr_keras, tpr_keras, thresholds_keras = roc_curve(y_val, y_pred_keras)"
   ]
  },
  {
   "cell_type": "code",
   "execution_count": 39,
   "metadata": {},
   "outputs": [],
   "source": [
    "auc_keras = auc(fpr_keras, tpr_keras)"
   ]
  },
  {
   "cell_type": "code",
   "execution_count": 40,
   "metadata": {},
   "outputs": [
    {
     "data": {
      "text/plain": [
       "0.9054945054945055"
      ]
     },
     "execution_count": 40,
     "metadata": {},
     "output_type": "execute_result"
    }
   ],
   "source": [
    "auc_keras"
   ]
  },
  {
   "cell_type": "code",
   "execution_count": 41,
   "metadata": {},
   "outputs": [
    {
     "data": {
      "image/png": "[encoded data removed]",
      "text/plain": [
       "<Figure size 432x288 with 1 Axes>"
      ]
     },
     "metadata": {
      "needs_background": "light"
     },
     "output_type": "display_data"
    }
   ],
   "source": [
    "plt.figure(1)\n",
    "plt.plot([0, 1], [0, 1], 'k--')\n",
    "plt.plot(fpr_keras, tpr_keras, label='Model (area = {:.3f})'.format(auc_keras))\n",
    "plt.xlabel('False positive rate')\n",
    "plt.ylabel('True positive rate')\n",
    "plt.title('ROC curve')\n",
    "plt.legend(loc='best')\n",
    "plt.show()"
   ]
  },
  {
   "cell_type": "markdown",
   "metadata": {},
   "source": [
    "### 2.3 Complex Highest performing Dense FNN neural network model from Mellema 2022 with modifications"
   ]
  },
  {
   "cell_type": "code",
   "execution_count": 42,
   "metadata": {},
   "outputs": [
    {
     "name": "stdout",
     "output_type": "stream",
     "text": [
      "Model: \"DFNN_complex\"\n",
      "_________________________________________________________________\n",
      " Layer (type)                Output Shape              Param #   \n",
      "=================================================================\n",
      " input_3 (InputLayer)        [(None, 61, 73, 61, 1)]   0         \n",
      "                                                                 \n",
      " dense_8 (Dense)             (None, 61, 73, 61, 128)   256       \n",
      "                                                                 \n",
      " batch_normalization_1 (Batc  (None, 61, 73, 61, 128)  512       \n",
      " hNormalization)                                                 \n",
      "                                                                 \n",
      " dropout_2 (Dropout)         (None, 61, 73, 61, 128)   0         \n",
      "                                                                 \n",
      " dense_9 (Dense)             (None, 61, 73, 61, 128)   16512     \n",
      "                                                                 \n",
      " dropout_3 (Dropout)         (None, 61, 73, 61, 128)   0         \n",
      "                                                                 \n",
      " dense_10 (Dense)            (None, 61, 73, 61, 64)    8256      \n",
      "                                                                 \n",
      " dropout_4 (Dropout)         (None, 61, 73, 61, 64)    0         \n",
      "                                                                 \n",
      " dense_11 (Dense)            (None, 61, 73, 61, 42)    2730      \n",
      "                                                                 \n",
      " flatten_2 (Flatten)         (None, 11408586)          0         \n",
      "                                                                 \n",
      " dense_12 (Dense)            (None, 1)                 11408587  \n",
      "                                                                 \n",
      "=================================================================\n",
      "Total params: 11,436,853\n",
      "Trainable params: 11,436,597\n",
      "Non-trainable params: 256\n",
      "_________________________________________________________________\n"
     ]
    }
   ],
   "source": [
    "def Dense_model(width=61, height=73, depth=61):\n",
    "    \"\"\"Build a complex Highest performing Dense FNN neural network model from Mellema 2022.\"\"\"\n",
    "\n",
    "    inputs = keras.Input((width, height, depth, 1))\n",
    "    \n",
    "    x = layers.Dense(units=128, activation=\"relu\", kernel_regularizer = keras.regularizers.L2(0.00011))(inputs)\n",
    "    \n",
    "    x = layers.BatchNormalization()(x)\n",
    "    \n",
    "    x = layers.Dropout(0.18)(x)\n",
    "    x = layers.Dense(units=128, activation=\"relu\")(x)\n",
    "    x = layers.Dropout(0.18)(x)\n",
    "    x = layers.Dense(units=64, activation=\"relu\")(x)\n",
    "    x = layers.Dropout(0.18)(x)\n",
    "    x = layers.Dense(units=42, activation=\"relu\")(x)\n",
    "    x = layers.Flatten()(x)\n",
    "    \n",
    "    outputs = layers.Dense(units=1, activation=\"sigmoid\")(x)\n",
    "\n",
    "    # Define the model.\n",
    "    model = keras.Model(inputs, outputs, name=\"DFNN_complex\")\n",
    "    return model\n",
    "\n",
    "\n",
    "# Build model.\n",
    "model = Dense_model(width=61, height=73, depth=61)\n",
    "model.summary()"
   ]
  },
  {
   "cell_type": "code",
   "execution_count": 43,
   "metadata": {},
   "outputs": [
    {
     "name": "stdout",
     "output_type": "stream",
     "text": [
      "Epoch 1/125\n",
      "39/39 [==============================] - 6s 124ms/step - loss: 19.0710 - binary_accuracy: 0.5577 - auc_2: 0.5834 - val_loss: 38.6919 - val_binary_accuracy: 0.6476 - val_auc_2: 0.6754\n",
      "Epoch 2/125\n",
      "39/39 [==============================] - 5s 118ms/step - loss: 4.0600 - binary_accuracy: 0.7115 - auc_2: 0.7423 - val_loss: 12.9072 - val_binary_accuracy: 0.6476 - val_auc_2: 0.6754\n",
      "Epoch 3/125\n",
      "39/39 [==============================] - 5s 119ms/step - loss: 3.0683 - binary_accuracy: 0.6891 - auc_2: 0.7225 - val_loss: 6.0854 - val_binary_accuracy: 0.5143 - val_auc_2: 0.6754\n",
      "Epoch 4/125\n",
      "39/39 [==============================] - 5s 118ms/step - loss: 1.8791 - binary_accuracy: 0.7724 - auc_2: 0.7953 - val_loss: 1.2474 - val_binary_accuracy: 0.8190 - val_auc_2: 0.8461\n",
      "Epoch 5/125\n",
      "39/39 [==============================] - 5s 118ms/step - loss: 1.7643 - binary_accuracy: 0.7564 - auc_2: 0.8162 - val_loss: 2.0051 - val_binary_accuracy: 0.7143 - val_auc_2: 0.8169\n",
      "Epoch 6/125\n",
      "39/39 [==============================] - 5s 118ms/step - loss: 1.0815 - binary_accuracy: 0.8013 - auc_2: 0.8409 - val_loss: 1.4525 - val_binary_accuracy: 0.5429 - val_auc_2: 0.8620\n",
      "Epoch 7/125\n",
      "39/39 [==============================] - 5s 118ms/step - loss: 0.8792 - binary_accuracy: 0.8045 - auc_2: 0.8799 - val_loss: 2.6660 - val_binary_accuracy: 0.6571 - val_auc_2: 0.7895\n",
      "Epoch 8/125\n",
      "39/39 [==============================] - 5s 118ms/step - loss: 0.6275 - binary_accuracy: 0.8045 - auc_2: 0.9062 - val_loss: 2.7054 - val_binary_accuracy: 0.6476 - val_auc_2: 0.7544\n",
      "Epoch 9/125\n",
      "39/39 [==============================] - 5s 118ms/step - loss: 0.4741 - binary_accuracy: 0.8558 - auc_2: 0.9282 - val_loss: 1.5199 - val_binary_accuracy: 0.6571 - val_auc_2: 0.8830\n",
      "Epoch 10/125\n",
      "39/39 [==============================] - 5s 118ms/step - loss: 0.3345 - binary_accuracy: 0.8429 - auc_2: 0.9419 - val_loss: 1.7552 - val_binary_accuracy: 0.6571 - val_auc_2: 0.8529\n",
      "Epoch 11/125\n",
      "39/39 [==============================] - 5s 118ms/step - loss: 0.2010 - binary_accuracy: 0.9038 - auc_2: 0.9740 - val_loss: 1.6125 - val_binary_accuracy: 0.6571 - val_auc_2: 0.8933\n",
      "Epoch 12/125\n",
      "39/39 [==============================] - 5s 118ms/step - loss: 0.1706 - binary_accuracy: 0.9135 - auc_2: 0.9807 - val_loss: 0.7648 - val_binary_accuracy: 0.7143 - val_auc_2: 0.8997\n",
      "Epoch 13/125\n",
      "39/39 [==============================] - 5s 118ms/step - loss: 0.3191 - binary_accuracy: 0.8942 - auc_2: 0.9457 - val_loss: 1.3223 - val_binary_accuracy: 0.6667 - val_auc_2: 0.8905\n",
      "Epoch 14/125\n",
      "39/39 [==============================] - 5s 118ms/step - loss: 0.8673 - binary_accuracy: 0.7917 - auc_2: 0.8580 - val_loss: 1.0831 - val_binary_accuracy: 0.6857 - val_auc_2: 0.8893\n",
      "Epoch 15/125\n",
      "39/39 [==============================] - 5s 119ms/step - loss: 0.6145 - binary_accuracy: 0.8333 - auc_2: 0.9194 - val_loss: 0.6459 - val_binary_accuracy: 0.8000 - val_auc_2: 0.8708\n",
      "Epoch 16/125\n",
      "39/39 [==============================] - 5s 119ms/step - loss: 0.3813 - binary_accuracy: 0.8494 - auc_2: 0.9390 - val_loss: 0.9895 - val_binary_accuracy: 0.6857 - val_auc_2: 0.8790\n",
      "Epoch 17/125\n",
      "39/39 [==============================] - 5s 118ms/step - loss: 0.3666 - binary_accuracy: 0.8686 - auc_2: 0.9391 - val_loss: 0.6718 - val_binary_accuracy: 0.7143 - val_auc_2: 0.8902\n",
      "Epoch 18/125\n",
      "39/39 [==============================] - 5s 119ms/step - loss: 0.2813 - binary_accuracy: 0.8846 - auc_2: 0.9610 - val_loss: 0.5823 - val_binary_accuracy: 0.7714 - val_auc_2: 0.8900\n",
      "Epoch 19/125\n",
      "39/39 [==============================] - 5s 119ms/step - loss: 0.7930 - binary_accuracy: 0.7821 - auc_2: 0.8702 - val_loss: 0.7552 - val_binary_accuracy: 0.6952 - val_auc_2: 0.8841\n"
     ]
    },
    {
     "data": {
      "text/plain": [
       "<keras.callbacks.History at 0x7f11e03875b0>"
      ]
     },
     "execution_count": 43,
     "metadata": {},
     "output_type": "execute_result"
    }
   ],
   "source": [
    "initial_learning_rate = 0.0001\n",
    "lr_schedule = keras.optimizers.schedules.ExponentialDecay(\n",
    "    initial_learning_rate, decay_steps=10000, decay_rate=0.96, staircase=True)\n",
    "\n",
    "# Compile model.\n",
    "model.compile(\n",
    "    loss=\"binary_crossentropy\",\n",
    "    optimizer=keras.optimizers.Adam(learning_rate=lr_schedule),\n",
    "    metrics=[tf.keras.metrics.BinaryAccuracy(),tf.keras.metrics.AUC()],\n",
    ")\n",
    "\n",
    "# Define callbacks.\n",
    "#checkpoint_cb = keras.callbacks.ModelCheckpoint(\n",
    " #   \"3d_image_classification_Cxa_adamDFNN.h5\", save_best_only=True)\n",
    "early_stopping_cb = keras.callbacks.EarlyStopping(monitor=\"val_binary_accuracy\", patience=15)\n",
    "\n",
    "# Train the model, doing validation at the end of each epoch\n",
    "#epochs = 50\n",
    "model.fit(\n",
    "    train_dataset,\n",
    "    validation_data=validation_dataset,\n",
    "    epochs=epochs,\n",
    "    shuffle=True,\n",
    "    callbacks=[early_stopping_cb],\n",
    ")\n",
    "\n",
    "# # Train the model, doing validation at the end of each epoch\n",
    "# epochs = 50\n",
    "# model.fit(\n",
    "#     train_dataset,\n",
    "#     validation_data=validation_dataset,\n",
    "#     epochs=epochs,\n",
    "#     shuffle=True,\n",
    "#     callbacks=[checkpoint_cb, early_stopping_cb],\n",
    "# )"
   ]
  },
  {
   "cell_type": "code",
   "execution_count": 44,
   "metadata": {},
   "outputs": [
    {
     "name": "stdout",
     "output_type": "stream",
     "text": [
      "3/3 [==============================] - 0s 77ms/step - loss: 0.6436 - binary_accuracy: 0.7027 - auc_2: 0.9007\n"
     ]
    },
    {
     "data": {
      "text/plain": [
       "[0.6436006426811218, 0.7027027010917664, 0.9007325768470764]"
      ]
     },
     "execution_count": 44,
     "metadata": {},
     "output_type": "execute_result"
    }
   ],
   "source": [
    "#evaluate on the holdout data\n",
    "model.evaluate(x_val, y_val)"
   ]
  },
  {
   "cell_type": "code",
   "execution_count": 45,
   "metadata": {},
   "outputs": [
    {
     "name": "stdout",
     "output_type": "stream",
     "text": [
      "              precision    recall  f1-score   support\n",
      "\n",
      "           0       0.61      1.00      0.76        35\n",
      "           1       1.00      0.44      0.61        39\n",
      "\n",
      "    accuracy                           0.70        74\n",
      "   macro avg       0.81      0.72      0.68        74\n",
      "weighted avg       0.82      0.70      0.68        74\n",
      "\n"
     ]
    }
   ],
   "source": [
    "from sklearn.metrics import classification_report, confusion_matrix\n",
    "\n",
    "preds = model.predict(x_val)\n",
    "\n",
    "preds = np.where(preds > .5, 1,0)\n",
    "\n",
    "\n",
    "\n",
    "print(classification_report(y_val, preds))\n",
    "cm = confusion_matrix(y_val, preds)"
   ]
  },
  {
   "cell_type": "code",
   "execution_count": 46,
   "metadata": {},
   "outputs": [
    {
     "data": {
      "image/png": "[encoded data removed]",
      "text/plain": [
       "<Figure size 432x288 with 2 Axes>"
      ]
     },
     "metadata": {
      "needs_background": "light"
     },
     "output_type": "display_data"
    }
   ],
   "source": [
    "import seaborn as sns\n",
    "\n",
    "ax = sns.heatmap(cm, annot=True, cmap='Blues')\n",
    "\n",
    "ax.set_title('Confusion Matrix');\n",
    "ax.set_xlabel('\\nPredicted Values')\n",
    "ax.set_ylabel('Actual Values ');\n",
    "\n",
    "## Ticket labels - List must be in alphabetical order\n",
    "ax.xaxis.set_ticklabels(['False','True'])\n",
    "ax.yaxis.set_ticklabels(['False','True'])\n",
    "\n",
    "## Display the visualization of the Confusion Matrix.\n",
    "plt.show()"
   ]
  },
  {
   "cell_type": "code",
   "execution_count": 47,
   "metadata": {},
   "outputs": [],
   "source": [
    "y_pred_keras = model.predict(x_val).ravel()\n",
    "fpr_keras, tpr_keras, thresholds_keras = roc_curve(y_val, y_pred_keras)"
   ]
  },
  {
   "cell_type": "code",
   "execution_count": 48,
   "metadata": {},
   "outputs": [],
   "source": [
    "auc_keras = auc(fpr_keras, tpr_keras)"
   ]
  },
  {
   "cell_type": "code",
   "execution_count": 49,
   "metadata": {},
   "outputs": [
    {
     "data": {
      "text/plain": [
       "0.904029304029304"
      ]
     },
     "execution_count": 49,
     "metadata": {},
     "output_type": "execute_result"
    }
   ],
   "source": [
    "auc_keras"
   ]
  },
  {
   "cell_type": "code",
   "execution_count": 50,
   "metadata": {},
   "outputs": [
    {
     "data": {
      "image/png": "[encoded data removed]",
      "text/plain": [
       "<Figure size 432x288 with 1 Axes>"
      ]
     },
     "metadata": {
      "needs_background": "light"
     },
     "output_type": "display_data"
    }
   ],
   "source": [
    "plt.figure(1)\n",
    "plt.plot([0, 1], [0, 1], 'k--')\n",
    "plt.plot(fpr_keras, tpr_keras, label='Model (area = {:.3f})'.format(auc_keras))\n",
    "plt.xlabel('False positive rate')\n",
    "plt.ylabel('True positive rate')\n",
    "plt.title('ROC curve')\n",
    "plt.legend(loc='best')\n",
    "plt.show()"
   ]
  },
  {
   "cell_type": "code",
   "execution_count": 51,
   "metadata": {},
   "outputs": [
    {
     "name": "stdout",
     "output_type": "stream",
     "text": [
      "220.62901122123003\n"
     ]
    }
   ],
   "source": [
    "end = timer()\n",
    "elapsed_time = end - start\n",
    "print(elapsed_time )"
   ]
  },
  {
   "cell_type": "code",
   "execution_count": 52,
   "metadata": {},
   "outputs": [],
   "source": [
    "# Append to file\n",
    "file1 = open(\"testing_batch_size.txt\", \"a\") #to overwrite, use \"w\"\n",
    "\n",
    "#L = [\"batch_size\", \"epochs\", \"elapsed_time\"]\n",
    "L = [str(batch_size), str(epochs), str(elapsed_time)]\n",
    "\n",
    "file1.write(\"\\n\")\n",
    "\n",
    "for element in L:\n",
    "    file1.write(element + \",\")\n",
    "\n",
    "#file1.writelines(L) #I think this concatenates what's in L\n",
    "\n",
    "file1.close() "
   ]
  },
  {
   "cell_type": "code",
   "execution_count": 53,
   "metadata": {},
   "outputs": [
    {
     "name": "stdout",
     "output_type": "stream",
     "text": [
      "Output of Readlines after appending\n",
      "batch_size,epochs,elapsed_time,\n",
      "16,50,285.331844124943,\n",
      "32,50,324.09506921097636,\n",
      "8,50,264.6607833467424,\n",
      "4,50,345.383199935779,\n",
      "8,75,252.03459496237338,\n",
      "8,100,195.35715249180794,\n",
      "8,25,237.12536557391286,\n",
      "8,150,238.06008644029498,\n",
      "8,125,220.62901122123003,\n",
      "\n"
     ]
    }
   ],
   "source": [
    "file1 = open(\"testing_batch_size.txt\", \"r\")\n",
    "print(\"Output of Readlines after appending\")\n",
    "print(file1.read())\n",
    "print()\n",
    "file1.close()"
   ]
  }
 ],
 "metadata": {
  "kernelspec": {
   "display_name": "Tensorflow 2.8.0/Keras Py3.9",
   "language": "python",
   "name": "tensorflow-2.8.0"
  },
  "language_info": {
   "codemirror_mode": {
    "name": "ipython",
    "version": 3
   },
   "file_extension": ".py",
   "mimetype": "text/x-python",
   "name": "python",
   "nbconvert_exporter": "python",
   "pygments_lexer": "ipython3",
   "version": "3.9.10"
  }
 },
 "nbformat": 4,
 "nbformat_minor": 4
}
