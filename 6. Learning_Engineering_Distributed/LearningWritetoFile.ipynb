{
 "cells": [
  {
   "cell_type": "markdown",
   "metadata": {},
   "source": [
    "### Learning how to write to a file \n",
    "\n",
    "https://www.geeksforgeeks.org/writing-to-file-in-python/\n",
    "\n",
    "_to collect data_"
   ]
  },
  {
   "cell_type": "code",
   "execution_count": 2,
   "metadata": {},
   "outputs": [
    {
     "name": "stdout",
     "output_type": "stream",
     "text": [
      "Output of Readlines after appending\n",
      "This is Delhi \n",
      "This is Paris \n",
      "This is London \n",
      "Today \n",
      "\n",
      "\n",
      "Output of Readlines after writing\n",
      "Tomorrow \n",
      "\n",
      "\n"
     ]
    }
   ],
   "source": [
    "# Python program to illustrate\n",
    "# Append vs write mode\n",
    "file1 = open(\"myfile.txt\", \"w\")\n",
    "L = [\"This is Delhi \\n\", \"This is Paris \\n\", \"This is London \\n\"]\n",
    "file1.writelines(L)\n",
    "file1.close()\n",
    "  \n",
    "# Append-adds at last\n",
    "file1 = open(\"myfile.txt\", \"a\")  # append mode\n",
    "file1.write(\"Today \\n\")\n",
    "file1.close()\n",
    "  \n",
    "file1 = open(\"myfile.txt\", \"r\")\n",
    "print(\"Output of Readlines after appending\")\n",
    "print(file1.read())\n",
    "print()\n",
    "file1.close()\n",
    "  \n",
    "# Write-Overwrites\n",
    "file1 = open(\"myfile.txt\", \"w\")  # write mode\n",
    "file1.write(\"Tomorrow \\n\")\n",
    "file1.close()\n",
    "  \n",
    "file1 = open(\"myfile.txt\", \"r\")\n",
    "print(\"Output of Readlines after writing\")\n",
    "print(file1.read())\n",
    "print()\n",
    "file1.close()"
   ]
  }
 ],
 "metadata": {
  "kernelspec": {
   "display_name": "Python 3",
   "language": "python",
   "name": "python3"
  },
  "language_info": {
   "codemirror_mode": {
    "name": "ipython",
    "version": 3
   },
   "file_extension": ".py",
   "mimetype": "text/x-python",
   "name": "python",
   "nbconvert_exporter": "python",
   "pygments_lexer": "ipython3",
   "version": "3.8.8"
  }
 },
 "nbformat": 4,
 "nbformat_minor": 4
}
